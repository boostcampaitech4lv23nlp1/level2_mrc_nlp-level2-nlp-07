{
 "cells": [
  {
   "cell_type": "code",
   "execution_count": 409,
   "metadata": {},
   "outputs": [],
   "source": [
    "import pandas as pd\n",
    "import torch\n",
    "import matplotlib as mpl\n",
    "import matplotlib.pyplot as plt\n",
    "from datasets import DatasetDict, load_from_disk, Dataset, concatenate_datasets\n",
    "import re"
   ]
  },
  {
   "cell_type": "code",
   "execution_count": 410,
   "metadata": {},
   "outputs": [],
   "source": [
    "import json\n",
    "with open('/opt/ml/input/data/KorQuAD_2.1/train/korquad2.1_train_00.json','r') as f:\n",
    "    train_data = json.load(f)"
   ]
  },
  {
   "cell_type": "code",
   "execution_count": 411,
   "metadata": {},
   "outputs": [
    {
     "data": {
      "text/plain": [
       "dict_keys(['version', 'data'])"
      ]
     },
     "execution_count": 411,
     "metadata": {},
     "output_type": "execute_result"
    }
   ],
   "source": [
    "train_data.keys()"
   ]
  },
  {
   "cell_type": "code",
   "execution_count": 412,
   "metadata": {},
   "outputs": [
    {
     "data": {
      "text/plain": [
       "dict"
      ]
     },
     "execution_count": 412,
     "metadata": {},
     "output_type": "execute_result"
    }
   ],
   "source": [
    "type(train_data)"
   ]
  },
  {
   "cell_type": "code",
   "execution_count": 413,
   "metadata": {},
   "outputs": [
    {
     "data": {
      "text/plain": [
       "'KorQuAD_2.0_train'"
      ]
     },
     "execution_count": 413,
     "metadata": {},
     "output_type": "execute_result"
    }
   ],
   "source": [
    "train_data['version']"
   ]
  },
  {
   "cell_type": "code",
   "execution_count": 414,
   "metadata": {},
   "outputs": [
    {
     "data": {
      "text/plain": [
       "1000"
      ]
     },
     "execution_count": 414,
     "metadata": {},
     "output_type": "execute_result"
    }
   ],
   "source": [
    "len(train_data['data'])"
   ]
  },
  {
   "cell_type": "code",
   "execution_count": 415,
   "metadata": {},
   "outputs": [
    {
     "data": {
      "text/plain": [
       "dict_keys(['title', 'url', 'context', 'raw_html', 'qas'])"
      ]
     },
     "execution_count": 415,
     "metadata": {},
     "output_type": "execute_result"
    }
   ],
   "source": [
    "train_data['data'][0].keys()"
   ]
  },
  {
   "cell_type": "code",
   "execution_count": 416,
   "metadata": {},
   "outputs": [
    {
     "data": {
      "text/plain": [
       "dict_keys(['title', 'url', 'context', 'raw_html', 'qas'])"
      ]
     },
     "execution_count": 416,
     "metadata": {},
     "output_type": "execute_result"
    }
   ],
   "source": [
    "train_data['data'][999].keys()"
   ]
  },
  {
   "cell_type": "code",
   "execution_count": 491,
   "metadata": {},
   "outputs": [],
   "source": [
    "# http://zeany.net/46\n",
    "def preprocess_context(example):\n",
    "    body = re.sub('<title.*?>.*?</title>', '', example, 0, re.I|re.S)\n",
    "    body = re.sub('<table.*?>.*?</table>', '', body, 0, re.I|re.S)\n",
    "    body = re.sub('<td.*?>.*?</td>', '', body, 0, re.I|re.S)\n",
    "    body = re.sub('<li.*?>.*?</li>', '', body, 0, re.I|re.S)\n",
    "    body = re.sub('<ol.*?>.*?</ol>', '', body, 0, re.I|re.S)\n",
    "    text = re.sub('<.+?>', '', body, 0, re.I|re.S)\n",
    "    text = re.sub('\\[[0-9]+\\]', ' ', text, 0, re.I|re.S)\n",
    "    text = text.replace(\"[원본 편집]\",\"\")\n",
    "    text = text.replace(\"[편집]\",\"\")\n",
    "    text = text.replace(\"\\\\'\",\"\")\n",
    "    text = text.replace(\"펼치기\",\"\")\n",
    "    text = text.replace(\"버튼 클릭\",\"\")\n",
    "    text = text.split(\"같이 보기\")[0]\n",
    "    text = text.split(\"참고 자료\")[0]\n",
    "    text = text.split(\"외부 링크\")[0]\n",
    "    text = text.split(\"원본 주소\")[0]\n",
    "    text = text.split(\"각주\")[0]\n",
    "    text = text.split(\"참고 문헌\")[0]\n",
    "    text = text.split(\"함께 보기\")[0]\n",
    "    text = text.split(\"관련 서적\")[0]\n",
    "    text = text.split(\"관련 항목\")[0]\n",
    "    space = re.sub('&nbsp;|&lt;|&gt;|\\t|\\r|\\n|\\xa0|\\u200b', ' ', text)\n",
    "    one_space = re.sub(' +', ' ', space)\n",
    "    if one_space[::-1].find('.') == -1:\n",
    "        return one_space\n",
    "    if (one_space[::-1].find('.') != 0)|(one_space[::-1].find('.') != ')'):\n",
    "        last_comma = one_space[:-(one_space[::-1].find('.'))]\n",
    "        return last_comma\n",
    "    return one_space"
   ]
  },
  {
   "cell_type": "code",
   "execution_count": 492,
   "metadata": {},
   "outputs": [],
   "source": [
    "# http://zeany.net/46\n",
    "def preprocess_answer(example):\n",
    "    body = re.sub('<title.*?>.*?</title>', '', example, 0, re.I|re.S)\n",
    "    body = re.sub('<table.*?>.*?</table>', '', body, 0, re.I|re.S)\n",
    "    body = re.sub('<td.*?>.*?</td>', '', body, 0, re.I|re.S)\n",
    "    body = re.sub('<li.*?>.*?</li>', '', body, 0, re.I|re.S)\n",
    "    body = re.sub('<ol.*?>.*?</ol>', '', body, 0, re.I|re.S)\n",
    "    text = re.sub('<.+?>', '', body, 0, re.I|re.S)\n",
    "    text = re.sub('\\[[0-9]+\\]', ' ', text, 0, re.I|re.S)\n",
    "    text = text.replace(\"[원본 편집]\",\"\")\n",
    "    text = text.replace(\"[편집]\",\"\")\n",
    "    text = text.replace(\"\\\\'\",\"\")\n",
    "    text = text.replace(\"펼치기\",\"\")\n",
    "    text = text.replace(\"버튼 클릭\",\"\")\n",
    "    text = text.split(\"같이 보기\")[0]\n",
    "    text = text.split(\"참고 자료\")[0]\n",
    "    text = text.split(\"외부 링크\")[0]\n",
    "    text = text.split(\"원본 주소\")[0]\n",
    "    text = text.split(\"각주\")[0]\n",
    "    text = text.split(\"참고 문헌\")[0]\n",
    "    text = text.split(\"함께 보기\")[0]\n",
    "    text = text.split(\"관련 서적\")[0]\n",
    "    text = text.split(\"관련 항목\")[0]\n",
    "    space = re.sub('&nbsp;| |\\t|\\r|\\n|\\xa0|\\u200b', ' ', text)\n",
    "    one_space = re.sub(' +', ' ', space)\n",
    "    return one_space"
   ]
  },
  {
   "cell_type": "code",
   "execution_count": 493,
   "metadata": {},
   "outputs": [],
   "source": [
    "import json\n",
    "whole_list = []\n",
    "train_dict = {}\n",
    "answer_dict = {}\n",
    "c = 0\n",
    "for j in range(0,39):\n",
    "    file_j = ('0'+str(j))[-2:]\n",
    "    with open('/opt/ml/input/data/KorQuAD_2.1/train/korquad2.1_train_{}.json'.format(file_j),'r') as f:\n",
    "        train_data = json.load(f)\n",
    "        for i in range(len(train_data['data'])):\n",
    "            answers = train_data['data'][i]['qas'][0]\n",
    "            answer_dict['answer_start'] = [len(preprocess_answer(train_data['data'][i]['context'][:answers['answer']['answer_start']]).lstrip())]\n",
    "            answer_dict['text'] = [preprocess_answer(answers['answer']['text']).strip()]\n",
    "            count_id = ('000000' + str(c))[-6:]\n",
    "            train_dict['title']=train_data['data'][i]['title']\n",
    "            train_dict['context']= preprocess_context(train_data['data'][i]['context']).strip()\n",
    "            train_dict['question']=answers['question']\n",
    "            train_dict['id']='korquad-{}-{}'.format(file_j,count_id)\n",
    "            train_dict['answers']=answer_dict\n",
    "            train_dict['document_id']=int(answers['id'])\n",
    "            train_dict['__index_level_0__']=0\n",
    "            if len(answer_dict['text'][0])>0:\n",
    "                if (len(train_dict['context']) <= 2000)&(len(answer_dict['text']) <= 80):\n",
    "                    if len(train_dict['context']) > answer_dict['answer_start'][0]:\n",
    "                        if train_dict['context'][answer_dict['answer_start'][0]] != answer_dict['text'][0][0]:\n",
    "                            continue\n",
    "                        else:\n",
    "                            whole_list.append(train_dict)\n",
    "                    else:\n",
    "                        continue\n",
    "                else:\n",
    "                    continue\n",
    "            else:\n",
    "                continue\n",
    "            answer_dict={}\n",
    "            train_dict={}\n",
    "            c = c + 1"
   ]
  },
  {
   "cell_type": "code",
   "execution_count": 494,
   "metadata": {},
   "outputs": [
    {
     "data": {
      "text/plain": [
       "12811"
      ]
     },
     "execution_count": 494,
     "metadata": {},
     "output_type": "execute_result"
    }
   ],
   "source": [
    "len(whole_list)"
   ]
  },
  {
   "cell_type": "code",
   "execution_count": 496,
   "metadata": {},
   "outputs": [],
   "source": [
    "with open('/opt/ml/input/data/KorQuAD_2.1/train/preprocessed/train_under2000_full.json','w') as outfile:\n",
    "    json.dump(whole_list,outfile)"
   ]
  },
  {
   "cell_type": "code",
   "execution_count": 497,
   "metadata": {},
   "outputs": [
    {
     "name": "stdout",
     "output_type": "stream",
     "text": [
      "0 2000\n",
      "2000 4000\n",
      "4000 6000\n",
      "6000 8000\n",
      "8000 10000\n",
      "10000 12000\n",
      "12000 14000\n"
     ]
    }
   ],
   "source": [
    "for idx,i in enumerate(range(0,14000,2000)):\n",
    "    with open('/opt/ml/input/data/KorQuAD_2.1/train/preprocessed/train_under2000_{}.json'.format(idx),'w') as outfile:\n",
    "        json.dump(whole_list[i:i+2000],outfile)\n",
    "        print(i,i+2000)"
   ]
  },
  {
   "cell_type": "code",
   "execution_count": 498,
   "metadata": {},
   "outputs": [
    {
     "data": {
      "text/plain": [
       "{'title': '콜로세움',\n",
       " 'context': \"역사 70년경 베스파시아누스 황제에 의해 건설이 시작되었으며, 80년에 건축이 끝나 100일 축제 기간 동안 그의 아들인 티투스 황제가 개막식을 올렸다. 콜로세움은 높이 42.38m, 둘레 53203CM 등 경기장 내부의 길이 873m와 폭 2355m라는, 당시에 건립된 건축물 가운데 최대의 건축물이었다. 네로 황제의 황금 궁전(도무스 아우레스)의 정원에 있던 인공 호수를 메운 자리에 세워졌다. 본래는 비공식 이름이었던 콜로세움(Colosseum)의 유래에 대해서는 원형 경기장 근처에 있던 네로 황제의 거대한 청동상(Colossus Neronis)과 명칭이 혼동되었다는 설과 '거대하다'는 뜻의 이탈리아어 콜로살레(Colossale)와 어원이 같다는 설이 있는데 중세에는 그 자체가 ‘거대한 건축물’이란 뜻으로 쓰이기도 했다. 이곳에서 열리는 검투사 경기를 보러 찾아드는 5만명의 관객을 수용할 수 있었다. 경기장은 또한 해상 전투를 재현하거나 고전극을 상연하는 무대로도 사용되었다. 검투사들은 보통 노예나 전쟁 포로들 중에서 운동 실력이 출중하고 용맹하게 잘 싸우는 이들로 이루어져 있었는데, 서로 결투를 벌이거나 다양한 종류의 동물을 사냥해 보여 로마 관중들을 즐겁게 해 주었다. 이렇게 살아간다는 것은 위험이 따르는 일이었으나, 검투사가 되면 이득도 있었다. 다른 노예들보다 생활환경이 훨씬 나은 군대식 학교에서 훈련을 받을 수 있었고, 승리를 거둔 검투사들은 영웅 대접을 받음으로써 한편으로는 일체감과 애국심을 불러일으키기도 하고, 다른 한편으로는 공포심을 심어주기 위한 정치적인 목적으로 건립되었다. 콜로세움은 608년까지는 경기장으로 사용되었지만 중세에는 군사적으로 이용되다가 그 이후에는 성당이나 궁전 등의 건축에 사용될 자재의 제공 터가 되었다. 구조 콜로세움의 파노라마. 콜로세움은 4만 명에서 7만 명까지 앉을 수 있으며 4층으로 되어 있다. 1층은 높이 10.5m의 도리아식 반원주, 2층은 높이 11.85m의 이오니아식 기둥, 3층은 11.6m의 코린트식 기둥으로 되어 있고, 4층은 관중들이 작렬하는 햇빛을 피할 수 있게 벨라리움이라는 천막을 고정시키기 위한 장대장치를 지탱하는 240여개의 기둥들로 되어 있다. 이 천막을 위해, 근처 오스티아항구에서 배를 이용해 줄을 끌어당겼다. 이외에도 계단과 독립 공간, 즉 갈레리아가 있었다. 이 갈레리아는 이집트산 콩, 음료수 등을 파는 상인들의 휴식공간으로 많은 시민들이 여기서 조우했다. 경기장 바닥은 모래로 덮이고, 곳곳에는 사냥장의 분위기를 살려 나무와 구릉을 설치하였다. 바닥 밑에는 노예들과 맹수들을 수용하던 각종 우리 시설이 갖추어져 있었다. 처음에는 바다에서의 싸움 장면도 연출하였다고 한다. 그러나 바닥 전체에 물을 가두는 일이 용이하지 않아 별도의 공간을 따로 마련하였다. 그러나 이 건물의 설계자가 누구인지는 알려지지 않고 있다. 도미티아누스의 건축가 라비리우스라고 하기도 하고, 가운덴키우스라는 사람이라고도 하는데, 확실치는않다.\",\n",
       " 'question': '콜로세움은 몇 명까지 관객 수용이 가능한가?',\n",
       " 'id': 'korquad-25-008593',\n",
       " 'answers': {'answer_start': [435], 'text': ['5만명의 관객']},\n",
       " 'document_id': 18969,\n",
       " '__index_level_0__': 0}"
      ]
     },
     "execution_count": 498,
     "metadata": {},
     "output_type": "execute_result"
    }
   ],
   "source": [
    "import random\n",
    "whole_list[random.randint(1,len(whole_list))]"
   ]
  },
  {
   "cell_type": "code",
   "execution_count": 502,
   "metadata": {},
   "outputs": [],
   "source": [
    "import json\n",
    "dev_list = []\n",
    "train_dict = {}\n",
    "answer_dict = {}\n",
    "c = 0\n",
    "for j in range(0,5):\n",
    "    file_j = ('0'+str(j))[-2:]\n",
    "    with open('/opt/ml/input/data/KorQuAD_2.1/dev/korquad2.1_dev_{}.json'.format(file_j),'r') as f:\n",
    "        train_data = json.load(f)\n",
    "        for i in range(len(train_data['data'])):\n",
    "            answers = train_data['data'][i]['qas'][0]\n",
    "            answer_dict['answer_start'] = [len(preprocess_answer(train_data['data'][i]['context'][:answers['answer']['answer_start']]).lstrip())]\n",
    "            answer_dict['text'] = [preprocess_answer(answers['answer']['text']).strip()]\n",
    "            count_id = ('000000' + str(c))[-6:]\n",
    "            train_dict['title']=train_data['data'][i]['title']\n",
    "            train_dict['context']= preprocess_context(train_data['data'][i]['context']).strip()\n",
    "            train_dict['question']=answers['question']\n",
    "            train_dict['id']='korquad-{}-{}'.format(file_j,count_id)\n",
    "            train_dict['answers']=answer_dict\n",
    "            train_dict['document_id']=int(answers['id'])\n",
    "            train_dict['__index_level_0__']=0\n",
    "            if len(answer_dict['text'][0])>0:\n",
    "                if (len(train_dict['context']) <= 2000)&(len(answer_dict['text']) <= 80):\n",
    "                    if len(train_dict['context']) > answer_dict['answer_start'][0]:\n",
    "                        if train_dict['context'][answer_dict['answer_start'][0]] != answer_dict['text'][0][0]:\n",
    "                            continue\n",
    "                        else:\n",
    "                            dev_list.append(train_dict)\n",
    "                    else:\n",
    "                        continue\n",
    "                else:\n",
    "                    continue\n",
    "            else:\n",
    "                continue\n",
    "            answer_dict={}\n",
    "            train_dict={}\n",
    "            c = c + 1"
   ]
  },
  {
   "cell_type": "code",
   "execution_count": 503,
   "metadata": {},
   "outputs": [
    {
     "data": {
      "text/plain": [
       "1501"
      ]
     },
     "execution_count": 503,
     "metadata": {},
     "output_type": "execute_result"
    }
   ],
   "source": [
    "len(dev_list)"
   ]
  },
  {
   "cell_type": "code",
   "execution_count": 504,
   "metadata": {},
   "outputs": [
    {
     "data": {
      "text/plain": [
       "{'title': '공법',\n",
       " 'context': '구별실익 강력한 중앙집권적 전제국가가 존재하던 로마시대, 근대에는 공사법 구별이 엄격하였다. 반면에 개인주의가 발달한 시대에는 사법의 영역이 확장되었다. 최근 복지국가사상이 발달하면서 공사법 구별이 엄격해지고 있다. 즉, 사적자치가 발달하면 공사법이 부정되고, 국가의 권력이 강력해지면 공사법의 구별이 엄격해진다. 이를 통해서, 공법을 사법에서 굳이 분리하려는 이유는, 국가와 개인이 소송할 때는, 개인과 개인이 소송할 때보다 국가에게 더 유리하게 판결을 하기 위해 공법이 사법에서 분리된다는 것을 알 수 있다. 영미법은 1천년이 넘도록 공사법 구별이 없이 사법으로만 규율하였는데, 20세기에 들어서 공법이 등장하고 있다는 것은, 영미법에서 개인주의나 사적자치가 후퇴하고 국가주의가 강화되고 있다는 의미로도 해석될 수 있다. 공법과 사법의 구별은 구체적 법률관계에 적용할 법규나 법원칙을 결정하기 위해, 또한 분쟁해결을 위한 쟁송수단의 선택과 결정을 위해서 필요하다. 공법과 사법의 관계 최근에 새로이 정립되는 사회법(노동법 및 경제관계법)은 사법과 공법이 융합된 것으로 사법의 공법화 경향을 보여준다. 공법·사법의 이원적 체계를 인정하지 않고 보통법의 지배 원리에 의한 일원적 체계의 영미법계에서는 20세기에 들어오면서 행정법의 성립과 함께 공법과 사법의 구별 문제가 대두되기 시작하였다. 구별 부정설 구별 부정론은 공법 관계도 그 본질에서는 사법 관계와 같은 법률관계인 점에서 차이가 없으며, 노동법·사회법·경제법 등과 같이 공법과 사법의 어느 하나에만 속하지 않는 새로운 법 현상이 출현하는 것을 이유로 공법과 사법의 구별을 부정하는 견해이다. 구별 긍정설 구별 긍정론 가운데 실체법상의 구별 필요성은 우리의 현행 법질서는 공법 관계인가 사법 관계인가에 따라 적용될 법규나 법원칙을 달리하므로 구체적 법률관계에 적용할 법규나 법원칙을 결정하기 위하여 공법과 사법의 구별은 필요하다. 예컨대 행정 주체와 사인(私人)간에 계약을 체결할 경우 공법상 계약이냐 사법상 계약이냐에 따라서 적용 법규나 법원칙이 달라지는 경우가 있다. 이처럼 절차법상의 구별 필요성은 구체적인 법적 분쟁이 있을 경우 이의 해결을 위한 쟁송 수단의 결정을 위하여 공법과 사법의 구별은 필요하다. 공법관계 공법 관계(公法關係)는 사법 관계(私法關係)와는 대응하는 개념으로 국가와 국가와의 관계·공공 단체 상호간의 관계·국가와 개인과의 관계 등 권력 관계·통치 관계 및 공익에 관한 사항을 규정하는 공법상의 법률관계를 말한다. 그러나 사법 관계와는 달리 당사자의 자치가 인정되지 않고 당사자가 대등한 지위에 있지 않으며 법률관계의 변동이 법에 구속된다. 공법 관계에서는 행정 주체가 상대방의 의사에 관계없이 일방적으로 획일·평등하게 규율하는 경우가 많으며, 사법 관계의 원칙이 그대로 적용되지 않는다. 국고관계등이 있다. 구별기준 구체적 분쟁이 발생했을 때, 그 사건이 행정사건인지 민사사건인지, 항고소송, 당사자소송의 행정소송인지 민사소송인지는 일반국민은 물론이고 법률전문가도 정확히 판단하기가 어렵다. 판례는 ｢산업집적활성화 및 공장설립에 관한 법률｣상의 입주계약의 해지는 행정처분으로 보지만, 국유재산법상 일반재산인 국유림에 대한 대부료의 납입고지는 사법상의 이행청구로 본다.',\n",
       " 'question': '공법과 사법을 구별하려는 이유는 무엇인가?',\n",
       " 'id': 'korquad-00-000000',\n",
       " 'answers': {'answer_start': [5],\n",
       "  'text': ['강력한 중앙집권적 전제국가가 존재하던 로마시대, 근대에는 공사법 구별이 엄격하였다. 반면에 개인주의가 발달한 시대에는 사법의 영역이 확장되었다. 최근 복지국가사상이 발달하면서 공사법 구별이 엄격해지고 있다. 즉, 사적자치가 발달하면 공사법이 부정되고, 국가의 권력이 강력해지면 공사법의 구별이 엄격해진다. 이를 통해서, 공법을 사법에서 굳이 분리하려는 이유는, 국가와 개인이 소송할 때는, 개인과 개인이 소송할 때보다 국가에게 더 유리하게 판결을 하기 위해 공법이 사법에서 분리된다는 것을 알 수 있다. 영미법은 1천년이 넘도록 공사법 구별이 없이 사법으로만 규율하였는데, 20세기에 들어서 공법이 등장하고 있다는 것은, 영미법에서 개인주의나 사적자치가 후퇴하고 국가주의가 강화되고 있다는 의미로도 해석될 수 있다.']},\n",
       " 'document_id': 70543,\n",
       " '__index_level_0__': 0}"
      ]
     },
     "execution_count": 504,
     "metadata": {},
     "output_type": "execute_result"
    }
   ],
   "source": [
    "dev_list[0]"
   ]
  },
  {
   "cell_type": "code",
   "execution_count": 505,
   "metadata": {},
   "outputs": [],
   "source": [
    "with open('/opt/ml/input/data/KorQuAD_2.1/dev/preprocessed/valid_under2000_full.json'.format(idx),'w') as outfile:\n",
    "    json.dump(dev_list,outfile)"
   ]
  },
  {
   "cell_type": "code",
   "execution_count": 506,
   "metadata": {},
   "outputs": [
    {
     "name": "stdout",
     "output_type": "stream",
     "text": [
      "0 501\n",
      "501 1002\n",
      "1002 1503\n"
     ]
    }
   ],
   "source": [
    "for idx,i in enumerate(range(0,1503,501)):\n",
    "    with open('/opt/ml/input/data/KorQuAD_2.1/dev/preprocessed/valid_under2000_{}.json'.format(idx),'w') as outfile:\n",
    "        json.dump(dev_list[i:i+501],outfile)\n",
    "        print(i,i+501)"
   ]
  },
  {
   "cell_type": "code",
   "execution_count": 47,
   "metadata": {},
   "outputs": [
    {
     "name": "stderr",
     "output_type": "stream",
     "text": [
      "Using custom data configuration default-5f30fd53ca4be2a5\n",
      "Found cached dataset json (/opt/ml/.cache/huggingface/datasets/json/default-5f30fd53ca4be2a5/0.0.0)\n"
     ]
    }
   ],
   "source": [
    "ds = Dataset.from_json('/opt/ml/input/data/KorQuAD_2.1/train/train.json')"
   ]
  },
  {
   "cell_type": "code",
   "execution_count": 48,
   "metadata": {},
   "outputs": [
    {
     "name": "stderr",
     "output_type": "stream",
     "text": [
      "Using custom data configuration default-56fe0ff52f29f51d\n",
      "Found cached dataset json (/opt/ml/.cache/huggingface/datasets/json/default-56fe0ff52f29f51d/0.0.0)\n"
     ]
    }
   ],
   "source": [
    "dv = Dataset.from_json('/opt/ml/input/data/KorQuAD_2.1/dev/valid.json')"
   ]
  },
  {
   "cell_type": "code",
   "execution_count": 98,
   "metadata": {},
   "outputs": [
    {
     "data": {
      "text/plain": [
       "'나'"
      ]
     },
     "execution_count": 98,
     "metadata": {},
     "output_type": "execute_result"
    }
   ],
   "source": [
    "ds['context'][0][ds['answers'][0]['answer_start'][0]]"
   ]
  },
  {
   "cell_type": "code",
   "execution_count": 99,
   "metadata": {},
   "outputs": [
    {
     "data": {
      "text/plain": [
       "'나'"
      ]
     },
     "execution_count": 99,
     "metadata": {},
     "output_type": "execute_result"
    }
   ],
   "source": [
    "ds['answers'][0]['text'][0][0]"
   ]
  },
  {
   "cell_type": "code",
   "execution_count": 100,
   "metadata": {},
   "outputs": [],
   "source": [
    "train_dataset = load_from_disk('/opt/ml/input/data/train_dataset')"
   ]
  },
  {
   "cell_type": "code",
   "execution_count": 101,
   "metadata": {},
   "outputs": [
    {
     "data": {
      "text/plain": [
       "DatasetDict({\n",
       "    train: Dataset({\n",
       "        features: ['title', 'context', 'question', 'id', 'answers', 'document_id', '__index_level_0__'],\n",
       "        num_rows: 3952\n",
       "    })\n",
       "    validation: Dataset({\n",
       "        features: ['title', 'context', 'question', 'id', 'answers', 'document_id', '__index_level_0__'],\n",
       "        num_rows: 240\n",
       "    })\n",
       "})"
      ]
     },
     "execution_count": 101,
     "metadata": {},
     "output_type": "execute_result"
    }
   ],
   "source": [
    "train_dataset"
   ]
  },
  {
   "cell_type": "code",
   "execution_count": 102,
   "metadata": {},
   "outputs": [
    {
     "data": {
      "text/plain": [
       "Dataset({\n",
       "    features: ['title', 'context', 'question', 'id', 'answers', 'document_id', '__index_level_0__'],\n",
       "    num_rows: 42448\n",
       "})"
      ]
     },
     "execution_count": 102,
     "metadata": {},
     "output_type": "execute_result"
    }
   ],
   "source": [
    "concatenate_datasets([train_dataset['train'],ds])"
   ]
  },
  {
   "cell_type": "code",
   "execution_count": 103,
   "metadata": {},
   "outputs": [
    {
     "data": {
      "text/plain": [
       "DatasetDict({\n",
       "    train: Dataset({\n",
       "        features: ['title', 'context', 'question', 'id', 'answers', 'document_id', '__index_level_0__'],\n",
       "        num_rows: 38496\n",
       "    })\n",
       "    validation: Dataset({\n",
       "        features: ['title', 'context', 'question', 'id', 'answers', 'document_id', '__index_level_0__'],\n",
       "        num_rows: 4736\n",
       "    })\n",
       "})"
      ]
     },
     "execution_count": 103,
     "metadata": {},
     "output_type": "execute_result"
    }
   ],
   "source": [
    "DatasetDict({'train' : ds, 'validation' : dv})"
   ]
  },
  {
   "cell_type": "code",
   "execution_count": null,
   "metadata": {},
   "outputs": [],
   "source": []
  }
 ],
 "metadata": {
  "kernelspec": {
   "display_name": "Python 3 (ipykernel)",
   "language": "python",
   "name": "python3"
  },
  "language_info": {
   "codemirror_mode": {
    "name": "ipython",
    "version": 3
   },
   "file_extension": ".py",
   "mimetype": "text/x-python",
   "name": "python",
   "nbconvert_exporter": "python",
   "pygments_lexer": "ipython3",
   "version": "3.8.5"
  }
 },
 "nbformat": 4,
 "nbformat_minor": 4
}

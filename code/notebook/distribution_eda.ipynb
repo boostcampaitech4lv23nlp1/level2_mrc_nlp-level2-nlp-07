{
 "cells": [
  {
   "cell_type": "code",
   "execution_count": 91,
   "id": "a0d5e917-2c88-4023-a7b3-e33ccd653ff2",
   "metadata": {},
   "outputs": [],
   "source": [
    "import pandas as pd\n",
    "import numpy as np\n",
    "import torch\n",
    "import matplotlib as mpl\n",
    "import matplotlib.pyplot as plt\n",
    "from datasets import DatasetDict, load_from_disk\n",
    "import json\n",
    "import warnings\n",
    "warnings.filterwarnings( 'ignore' )\n",
    "from sklearn.metrics.pairwise import cosine_similarity"
   ]
  },
  {
   "cell_type": "code",
   "execution_count": 3,
   "id": "22ac976a-fc60-46da-a84c-0d9c3b429687",
   "metadata": {},
   "outputs": [],
   "source": [
    "from matplotlib import font_manager, rc\n",
    "font_path = \"/opt/ml/level2_mrc_nlp-level2-nlp-07/code/assets/NanumBarunGothic.ttf\"\n",
    "font = font_manager.FontProperties(fname=font_path).get_name()"
   ]
  },
  {
   "cell_type": "code",
   "execution_count": 4,
   "id": "27b658e3-ffa2-4fc3-af80-17e1f0288bb4",
   "metadata": {},
   "outputs": [],
   "source": [
    "train_dataset = load_from_disk('/opt/ml/input/data/train_dataset')\n",
    "test_dataset = load_from_disk('/opt/ml/input/data/test_dataset')"
   ]
  },
  {
   "cell_type": "code",
   "execution_count": 5,
   "id": "64834a5b-1bdf-4c8f-8f97-c521c80fd681",
   "metadata": {},
   "outputs": [],
   "source": [
    "train_df = pd.DataFrame(train_dataset['train'])\n",
    "val_df = pd.DataFrame(train_dataset['validation'])\n",
    "test_df = pd.DataFrame(test_dataset['validation'])"
   ]
  },
  {
   "cell_type": "code",
   "execution_count": 6,
   "id": "490b07c7-6af5-409c-80c0-c94bfec356a5",
   "metadata": {},
   "outputs": [],
   "source": [
    "with open('/opt/ml/input/data/wikipedia_documents.json', \"r\", encoding=\"utf-8\") as f:\n",
    "    wiki = json.load(f)"
   ]
  },
  {
   "cell_type": "code",
   "execution_count": 33,
   "id": "3ee43d9c-4f83-4185-a522-7497b9631154",
   "metadata": {},
   "outputs": [],
   "source": [
    "wiki_df=pd.DataFrame.from_dict(wiki).transpose()"
   ]
  },
  {
   "cell_type": "markdown",
   "id": "891a3768-2401-4438-ab61-9df655bd52c8",
   "metadata": {
    "jp-MarkdownHeadingCollapsed": true,
    "tags": []
   },
   "source": [
    "## dataframe"
   ]
  },
  {
   "cell_type": "code",
   "execution_count": 8,
   "id": "9e2a8a19-dd64-4cdc-9e83-134a01faf1b8",
   "metadata": {},
   "outputs": [
    {
     "data": {
      "text/html": [
       "<div>\n",
       "<style scoped>\n",
       "    .dataframe tbody tr th:only-of-type {\n",
       "        vertical-align: middle;\n",
       "    }\n",
       "\n",
       "    .dataframe tbody tr th {\n",
       "        vertical-align: top;\n",
       "    }\n",
       "\n",
       "    .dataframe thead th {\n",
       "        text-align: right;\n",
       "    }\n",
       "</style>\n",
       "<table border=\"1\" class=\"dataframe\">\n",
       "  <thead>\n",
       "    <tr style=\"text-align: right;\">\n",
       "      <th></th>\n",
       "      <th>question</th>\n",
       "      <th>id</th>\n",
       "    </tr>\n",
       "  </thead>\n",
       "  <tbody>\n",
       "    <tr>\n",
       "      <th>0</th>\n",
       "      <td>유령'은 어느 행성에서 지구로 왔는가?</td>\n",
       "      <td>mrc-1-000653</td>\n",
       "    </tr>\n",
       "    <tr>\n",
       "      <th>1</th>\n",
       "      <td>용병회사의 경기가 좋아진 것은 무엇이 끝난 이후부터인가?</td>\n",
       "      <td>mrc-1-001113</td>\n",
       "    </tr>\n",
       "    <tr>\n",
       "      <th>2</th>\n",
       "      <td>돌푸스에게 불특정 기간동안 하원이 잠시 쉬는 것을 건의 받았던 인물은?</td>\n",
       "      <td>mrc-0-002191</td>\n",
       "    </tr>\n",
       "    <tr>\n",
       "      <th>3</th>\n",
       "      <td>마오리언어와 영어, 뉴질랜드 수화를 공식 언어로 사용하는 나라는?</td>\n",
       "      <td>mrc-0-003951</td>\n",
       "    </tr>\n",
       "    <tr>\n",
       "      <th>4</th>\n",
       "      <td>디엔비엔푸 전투에서 보응우옌잡이 상대한 국가는?</td>\n",
       "      <td>mrc-1-001272</td>\n",
       "    </tr>\n",
       "    <tr>\n",
       "      <th>...</th>\n",
       "      <td>...</td>\n",
       "      <td>...</td>\n",
       "    </tr>\n",
       "    <tr>\n",
       "      <th>595</th>\n",
       "      <td>타입 2 가이아 메모리을 만든 집단은?</td>\n",
       "      <td>mrc-0-002989</td>\n",
       "    </tr>\n",
       "    <tr>\n",
       "      <th>596</th>\n",
       "      <td>장면이 정치보복에 반대하는 입장에서 처벌을 원치 않은 대상은?</td>\n",
       "      <td>mrc-0-001804</td>\n",
       "    </tr>\n",
       "    <tr>\n",
       "      <th>597</th>\n",
       "      <td>콜드게임 중 어떠한 계기로 인해 잠시 중단된 뒤, 익일에 게임이 진행되는 것은?</td>\n",
       "      <td>mrc-0-003411</td>\n",
       "    </tr>\n",
       "    <tr>\n",
       "      <th>598</th>\n",
       "      <td>제2캐나다기갑여단이 상륙한 곳은?</td>\n",
       "      <td>mrc-0-003436</td>\n",
       "    </tr>\n",
       "    <tr>\n",
       "      <th>599</th>\n",
       "      <td>구립운석을 이루는 물질 중 널리 알려진 것은?</td>\n",
       "      <td>mrc-0-002605</td>\n",
       "    </tr>\n",
       "  </tbody>\n",
       "</table>\n",
       "<p>600 rows × 2 columns</p>\n",
       "</div>"
      ],
      "text/plain": [
       "                                         question            id\n",
       "0                           유령'은 어느 행성에서 지구로 왔는가?  mrc-1-000653\n",
       "1                 용병회사의 경기가 좋아진 것은 무엇이 끝난 이후부터인가?  mrc-1-001113\n",
       "2         돌푸스에게 불특정 기간동안 하원이 잠시 쉬는 것을 건의 받았던 인물은?  mrc-0-002191\n",
       "3            마오리언어와 영어, 뉴질랜드 수화를 공식 언어로 사용하는 나라는?  mrc-0-003951\n",
       "4                      디엔비엔푸 전투에서 보응우옌잡이 상대한 국가는?  mrc-1-001272\n",
       "..                                            ...           ...\n",
       "595                         타입 2 가이아 메모리을 만든 집단은?  mrc-0-002989\n",
       "596            장면이 정치보복에 반대하는 입장에서 처벌을 원치 않은 대상은?  mrc-0-001804\n",
       "597  콜드게임 중 어떠한 계기로 인해 잠시 중단된 뒤, 익일에 게임이 진행되는 것은?  mrc-0-003411\n",
       "598                            제2캐나다기갑여단이 상륙한 곳은?  mrc-0-003436\n",
       "599                     구립운석을 이루는 물질 중 널리 알려진 것은?  mrc-0-002605\n",
       "\n",
       "[600 rows x 2 columns]"
      ]
     },
     "execution_count": 8,
     "metadata": {},
     "output_type": "execute_result"
    }
   ],
   "source": [
    "test_df"
   ]
  },
  {
   "cell_type": "code",
   "execution_count": 9,
   "id": "c8c0623e-3b93-482d-ad4b-a93d88bd69cc",
   "metadata": {},
   "outputs": [
    {
     "data": {
      "text/html": [
       "<div>\n",
       "<style scoped>\n",
       "    .dataframe tbody tr th:only-of-type {\n",
       "        vertical-align: middle;\n",
       "    }\n",
       "\n",
       "    .dataframe tbody tr th {\n",
       "        vertical-align: top;\n",
       "    }\n",
       "\n",
       "    .dataframe thead th {\n",
       "        text-align: right;\n",
       "    }\n",
       "</style>\n",
       "<table border=\"1\" class=\"dataframe\">\n",
       "  <thead>\n",
       "    <tr style=\"text-align: right;\">\n",
       "      <th></th>\n",
       "      <th>title</th>\n",
       "      <th>context</th>\n",
       "      <th>question</th>\n",
       "      <th>id</th>\n",
       "      <th>answers</th>\n",
       "      <th>document_id</th>\n",
       "      <th>__index_level_0__</th>\n",
       "    </tr>\n",
       "  </thead>\n",
       "  <tbody>\n",
       "    <tr>\n",
       "      <th>0</th>\n",
       "      <td>미국 상원</td>\n",
       "      <td>미국 상의원 또는 미국 상원(United States Senate)은 양원제인 미국...</td>\n",
       "      <td>대통령을 포함한 미국의 행정부 견제권을 갖는 국가 기관은?</td>\n",
       "      <td>mrc-1-000067</td>\n",
       "      <td>{'answer_start': [235], 'text': ['하원']}</td>\n",
       "      <td>18293</td>\n",
       "      <td>42</td>\n",
       "    </tr>\n",
       "    <tr>\n",
       "      <th>1</th>\n",
       "      <td>인사조직관리</td>\n",
       "      <td>'근대적 경영학' 또는 '고전적 경영학'에서 현대적 경영학으로 전환되는 시기는 19...</td>\n",
       "      <td>현대적 인사조직관리의 시발점이 된 책은?</td>\n",
       "      <td>mrc-0-004397</td>\n",
       "      <td>{'answer_start': [212], 'text': ['《경영의 실제》']}</td>\n",
       "      <td>51638</td>\n",
       "      <td>2873</td>\n",
       "    </tr>\n",
       "    <tr>\n",
       "      <th>2</th>\n",
       "      <td>강희제</td>\n",
       "      <td>강희제는 강화된 황권으로 거의 황제 중심의 독단적으로 나라를 이끌어 갔기에 자칫 전...</td>\n",
       "      <td>강희제가 1717년에 쓴 글은 누구를 위해 쓰여졌는가?</td>\n",
       "      <td>mrc-1-000362</td>\n",
       "      <td>{'answer_start': [510], 'text': ['백성']}</td>\n",
       "      <td>5028</td>\n",
       "      <td>230</td>\n",
       "    </tr>\n",
       "    <tr>\n",
       "      <th>3</th>\n",
       "      <td>금동삼존불감</td>\n",
       "      <td>불상을 모시기 위해 나무나 돌, 쇠 등을 깎아 일반적인 건축물보다 작은 규모로 만든...</td>\n",
       "      <td>11~12세기에 제작된 본존불은 보통 어떤 나라의 특징이 전파되었나요?</td>\n",
       "      <td>mrc-0-001510</td>\n",
       "      <td>{'answer_start': [625], 'text': ['중국']}</td>\n",
       "      <td>34146</td>\n",
       "      <td>992</td>\n",
       "    </tr>\n",
       "    <tr>\n",
       "      <th>4</th>\n",
       "      <td>계사명 사리구</td>\n",
       "      <td>동아대학교박물관에서 소장하고 있는 계사명 사리구는 총 4개의 용기로 구성된 조선후기...</td>\n",
       "      <td>명문이 적힌 유물을 구성하는 그릇의 총 개수는?</td>\n",
       "      <td>mrc-0-000823</td>\n",
       "      <td>{'answer_start': [30], 'text': ['4개']}</td>\n",
       "      <td>47334</td>\n",
       "      <td>548</td>\n",
       "    </tr>\n",
       "    <tr>\n",
       "      <th>...</th>\n",
       "      <td>...</td>\n",
       "      <td>...</td>\n",
       "      <td>...</td>\n",
       "      <td>...</td>\n",
       "      <td>...</td>\n",
       "      <td>...</td>\n",
       "      <td>...</td>\n",
       "    </tr>\n",
       "    <tr>\n",
       "      <th>3947</th>\n",
       "      <td>이오 (위성)</td>\n",
       "      <td>이오의 산\\n이오의 산 목록\\n 이오에는 100~150개의 산이 있다. 이들 산의 ...</td>\n",
       "      <td>대부분의 이오의 산이 형성되는데 영향을 끼친 것은?</td>\n",
       "      <td>mrc-0-005285</td>\n",
       "      <td>{'answer_start': [317], 'text': ['지질 구조']}</td>\n",
       "      <td>8275</td>\n",
       "      <td>3445</td>\n",
       "    </tr>\n",
       "    <tr>\n",
       "      <th>3948</th>\n",
       "      <td>내니 다이어리</td>\n",
       "      <td>애니의 고군분투 뉴욕 입성기!!\\n\\n인류학자가 꿈인 21살 소녀 '애니(스칼렛 요...</td>\n",
       "      <td>애니는 어디서 태어났는가?</td>\n",
       "      <td>mrc-1-000699</td>\n",
       "      <td>{'answer_start': [616], 'text': ['뉴저지']}</td>\n",
       "      <td>37764</td>\n",
       "      <td>450</td>\n",
       "    </tr>\n",
       "    <tr>\n",
       "      <th>3949</th>\n",
       "      <td>빈 필하모니 관현악단</td>\n",
       "      <td>1842년에 작곡가이자 지휘자인 오토 니콜라이가 빈 궁정 오페라극장 소속 관현악단을...</td>\n",
       "      <td>1854년에 니콜라이의 뒤를 이어 상임 지휘자로서 활동한 인물은?</td>\n",
       "      <td>mrc-0-003429</td>\n",
       "      <td>{'answer_start': [255], 'text': ['칼 에케르트']}</td>\n",
       "      <td>12730</td>\n",
       "      <td>2252</td>\n",
       "    </tr>\n",
       "    <tr>\n",
       "      <th>3950</th>\n",
       "      <td>드래곤</td>\n",
       "      <td>원어는 고대 그리스어까지 거슬러 올라간다. 영어 문헌에 이 말이 나타나기 시작한 것...</td>\n",
       "      <td>드래곤의 암수 구분이 있는 신화는?</td>\n",
       "      <td>mrc-0-003956</td>\n",
       "      <td>{'answer_start': [476], 'text': ['슬라브 신화']}</td>\n",
       "      <td>10924</td>\n",
       "      <td>2595</td>\n",
       "    </tr>\n",
       "    <tr>\n",
       "      <th>3951</th>\n",
       "      <td>2011년 함부르크 주의회 선거</td>\n",
       "      <td>2008년 2월 28일 실시된 2008년 함부르크 주의회 선거에서 기민련은 과반수 ...</td>\n",
       "      <td>올레 폰 보이스트 이후에 시장으로 임명된 사람은 누구인가?</td>\n",
       "      <td>mrc-0-003589</td>\n",
       "      <td>{'answer_start': [189], 'text': ['크리스토포 알하우스']}</td>\n",
       "      <td>27803</td>\n",
       "      <td>2354</td>\n",
       "    </tr>\n",
       "  </tbody>\n",
       "</table>\n",
       "<p>3952 rows × 7 columns</p>\n",
       "</div>"
      ],
      "text/plain": [
       "                  title                                            context  \\\n",
       "0                 미국 상원  미국 상의원 또는 미국 상원(United States Senate)은 양원제인 미국...   \n",
       "1                인사조직관리  '근대적 경영학' 또는 '고전적 경영학'에서 현대적 경영학으로 전환되는 시기는 19...   \n",
       "2                   강희제  강희제는 강화된 황권으로 거의 황제 중심의 독단적으로 나라를 이끌어 갔기에 자칫 전...   \n",
       "3                금동삼존불감  불상을 모시기 위해 나무나 돌, 쇠 등을 깎아 일반적인 건축물보다 작은 규모로 만든...   \n",
       "4               계사명 사리구  동아대학교박물관에서 소장하고 있는 계사명 사리구는 총 4개의 용기로 구성된 조선후기...   \n",
       "...                 ...                                                ...   \n",
       "3947            이오 (위성)  이오의 산\\n이오의 산 목록\\n 이오에는 100~150개의 산이 있다. 이들 산의 ...   \n",
       "3948            내니 다이어리  애니의 고군분투 뉴욕 입성기!!\\n\\n인류학자가 꿈인 21살 소녀 '애니(스칼렛 요...   \n",
       "3949        빈 필하모니 관현악단  1842년에 작곡가이자 지휘자인 오토 니콜라이가 빈 궁정 오페라극장 소속 관현악단을...   \n",
       "3950                드래곤  원어는 고대 그리스어까지 거슬러 올라간다. 영어 문헌에 이 말이 나타나기 시작한 것...   \n",
       "3951  2011년 함부르크 주의회 선거  2008년 2월 28일 실시된 2008년 함부르크 주의회 선거에서 기민련은 과반수 ...   \n",
       "\n",
       "                                     question            id  \\\n",
       "0            대통령을 포함한 미국의 행정부 견제권을 갖는 국가 기관은?  mrc-1-000067   \n",
       "1                      현대적 인사조직관리의 시발점이 된 책은?  mrc-0-004397   \n",
       "2              강희제가 1717년에 쓴 글은 누구를 위해 쓰여졌는가?  mrc-1-000362   \n",
       "3     11~12세기에 제작된 본존불은 보통 어떤 나라의 특징이 전파되었나요?  mrc-0-001510   \n",
       "4                  명문이 적힌 유물을 구성하는 그릇의 총 개수는?  mrc-0-000823   \n",
       "...                                       ...           ...   \n",
       "3947             대부분의 이오의 산이 형성되는데 영향을 끼친 것은?  mrc-0-005285   \n",
       "3948                           애니는 어디서 태어났는가?  mrc-1-000699   \n",
       "3949     1854년에 니콜라이의 뒤를 이어 상임 지휘자로서 활동한 인물은?  mrc-0-003429   \n",
       "3950                      드래곤의 암수 구분이 있는 신화는?  mrc-0-003956   \n",
       "3951         올레 폰 보이스트 이후에 시장으로 임명된 사람은 누구인가?  mrc-0-003589   \n",
       "\n",
       "                                              answers  document_id  \\\n",
       "0             {'answer_start': [235], 'text': ['하원']}        18293   \n",
       "1       {'answer_start': [212], 'text': ['《경영의 실제》']}        51638   \n",
       "2             {'answer_start': [510], 'text': ['백성']}         5028   \n",
       "3             {'answer_start': [625], 'text': ['중국']}        34146   \n",
       "4              {'answer_start': [30], 'text': ['4개']}        47334   \n",
       "...                                               ...          ...   \n",
       "3947       {'answer_start': [317], 'text': ['지질 구조']}         8275   \n",
       "3948         {'answer_start': [616], 'text': ['뉴저지']}        37764   \n",
       "3949      {'answer_start': [255], 'text': ['칼 에케르트']}        12730   \n",
       "3950      {'answer_start': [476], 'text': ['슬라브 신화']}        10924   \n",
       "3951  {'answer_start': [189], 'text': ['크리스토포 알하우스']}        27803   \n",
       "\n",
       "      __index_level_0__  \n",
       "0                    42  \n",
       "1                  2873  \n",
       "2                   230  \n",
       "3                   992  \n",
       "4                   548  \n",
       "...                 ...  \n",
       "3947               3445  \n",
       "3948                450  \n",
       "3949               2252  \n",
       "3950               2595  \n",
       "3951               2354  \n",
       "\n",
       "[3952 rows x 7 columns]"
      ]
     },
     "execution_count": 9,
     "metadata": {},
     "output_type": "execute_result"
    }
   ],
   "source": [
    "train_df"
   ]
  },
  {
   "cell_type": "code",
   "execution_count": 10,
   "id": "bcf4b3c3-77f1-4b65-a39d-8df9af9fcc8f",
   "metadata": {},
   "outputs": [
    {
     "data": {
      "text/html": [
       "<div>\n",
       "<style scoped>\n",
       "    .dataframe tbody tr th:only-of-type {\n",
       "        vertical-align: middle;\n",
       "    }\n",
       "\n",
       "    .dataframe tbody tr th {\n",
       "        vertical-align: top;\n",
       "    }\n",
       "\n",
       "    .dataframe thead th {\n",
       "        text-align: right;\n",
       "    }\n",
       "</style>\n",
       "<table border=\"1\" class=\"dataframe\">\n",
       "  <thead>\n",
       "    <tr style=\"text-align: right;\">\n",
       "      <th></th>\n",
       "      <th>title</th>\n",
       "      <th>context</th>\n",
       "      <th>question</th>\n",
       "      <th>id</th>\n",
       "      <th>answers</th>\n",
       "      <th>document_id</th>\n",
       "      <th>__index_level_0__</th>\n",
       "    </tr>\n",
       "  </thead>\n",
       "  <tbody>\n",
       "    <tr>\n",
       "      <th>0</th>\n",
       "      <td>전효숙</td>\n",
       "      <td>순천여자고등학교 졸업, 1973년 이화여자대학교를 졸업하고 1975년 제17회 사법...</td>\n",
       "      <td>처음으로 부실 경영인에 대한 보상 선고를 받은 회사는?</td>\n",
       "      <td>mrc-0-003264</td>\n",
       "      <td>{'answer_start': [284], 'text': ['한보철강']}</td>\n",
       "      <td>9027</td>\n",
       "      <td>2146</td>\n",
       "    </tr>\n",
       "    <tr>\n",
       "      <th>1</th>\n",
       "      <td>스토우빌선</td>\n",
       "      <td>요크 카운티 동쪽에 처음으로 여객 열차 운행이 시작한 시점은 1868년 토론토 &amp; ...</td>\n",
       "      <td>스카버러 남쪽과 코보콘그 마을의 철도 노선이 처음 연장된 연도는?</td>\n",
       "      <td>mrc-0-004762</td>\n",
       "      <td>{'answer_start': [146], 'text': ['1871년']}</td>\n",
       "      <td>51765</td>\n",
       "      <td>3106</td>\n",
       "    </tr>\n",
       "    <tr>\n",
       "      <th>2</th>\n",
       "      <td>촐라</td>\n",
       "      <td>촐라 정부\\n 촐라의 정부 체제는 전제군주제였으며,2001 촐라의 군주는 절대적인 ...</td>\n",
       "      <td>촌락에서 운영 위원 후보자 이름을 쓰기위해 사용된 것은?</td>\n",
       "      <td>mrc-1-001810</td>\n",
       "      <td>{'answer_start': [517], 'text': ['나뭇잎']}</td>\n",
       "      <td>15694</td>\n",
       "      <td>1180</td>\n",
       "    </tr>\n",
       "    <tr>\n",
       "      <th>3</th>\n",
       "      <td>백조 기사</td>\n",
       "      <td>프랑스의 십자군 무훈시는 1099년 예루살렘 왕국의 통치자가 된 고드프루아 드 부용...</td>\n",
       "      <td>로타이르가 백조를 구하기 위해 사용한 것은?</td>\n",
       "      <td>mrc-1-000219</td>\n",
       "      <td>{'answer_start': [1109], 'text': ['금대야']}</td>\n",
       "      <td>59536</td>\n",
       "      <td>141</td>\n",
       "    </tr>\n",
       "    <tr>\n",
       "      <th>4</th>\n",
       "      <td>탈관료제화</td>\n",
       "      <td>탈관료제화는 현대사회에서 관료제 성격이 약화되는 현상이다. 현대사회에서 관료제는 약...</td>\n",
       "      <td>의견을 자유롭게 나누는 것은 조직 내 어떤 관계에서 가능한가?</td>\n",
       "      <td>mrc-1-000285</td>\n",
       "      <td>{'answer_start': [386], 'text': ['수평적 관계']}</td>\n",
       "      <td>32991</td>\n",
       "      <td>184</td>\n",
       "    </tr>\n",
       "    <tr>\n",
       "      <th>...</th>\n",
       "      <td>...</td>\n",
       "      <td>...</td>\n",
       "      <td>...</td>\n",
       "      <td>...</td>\n",
       "      <td>...</td>\n",
       "      <td>...</td>\n",
       "      <td>...</td>\n",
       "    </tr>\n",
       "    <tr>\n",
       "      <th>235</th>\n",
       "      <td>전단 (제나라)</td>\n",
       "      <td>연나라 군대의 사령관이 악의에서 기겁으로 교체되자, 전단은 스스로 신령의 계시를 받...</td>\n",
       "      <td>전단이 연나라와의 전쟁에서 승리했을 당시 제나라의 왕은 누구인가?</td>\n",
       "      <td>mrc-0-000484</td>\n",
       "      <td>{'answer_start': [1084], 'text': ['제 양왕']}</td>\n",
       "      <td>53265</td>\n",
       "      <td>329</td>\n",
       "    </tr>\n",
       "    <tr>\n",
       "      <th>236</th>\n",
       "      <td>티칼</td>\n",
       "      <td>현재 우리가 볼 수 있는 티칼의 모습은 펜실베이니아 대학교와 과테말라 정부의 협조 ...</td>\n",
       "      <td>공놀이 경기장 중 일부는 어디에 위치하고 있나?</td>\n",
       "      <td>mrc-0-002095</td>\n",
       "      <td>{'answer_start': [343], 'text': [''일곱 개의 신전 광장...</td>\n",
       "      <td>12190</td>\n",
       "      <td>1378</td>\n",
       "    </tr>\n",
       "    <tr>\n",
       "      <th>237</th>\n",
       "      <td>윤치호</td>\n",
       "      <td>1940년 5월 1일 오전 창씨개명에 비협조적이라는 이유로 조선총독부 경무국에서 소...</td>\n",
       "      <td>창씨개명령의 시행일을 미루는 것을 수락한 인물은?</td>\n",
       "      <td>mrc-0-003083</td>\n",
       "      <td>{'answer_start': [247], 'text': ['미나미 지로']}</td>\n",
       "      <td>5326</td>\n",
       "      <td>2031</td>\n",
       "    </tr>\n",
       "    <tr>\n",
       "      <th>238</th>\n",
       "      <td>신잉카국</td>\n",
       "      <td>빌카밤바 지역은 파차쿠티 황제 때 부터 잉카 제국에 속해있던 지역이었다. 스페인 군...</td>\n",
       "      <td>망코 잉카가 쿠스코를 되찾기 위해 마련한 군사는 총 몇 명인가?</td>\n",
       "      <td>mrc-0-002978</td>\n",
       "      <td>{'answer_start': [563], 'text': ['200,000명']}</td>\n",
       "      <td>48575</td>\n",
       "      <td>1963</td>\n",
       "    </tr>\n",
       "    <tr>\n",
       "      <th>239</th>\n",
       "      <td>레닌주의</td>\n",
       "      <td>사회주의 혁명은 오로지 선진노동자계급에 기초한 계급투쟁으로서 이루어질 수 있다고 주...</td>\n",
       "      <td>마르크스주의자들의 사상은?</td>\n",
       "      <td>mrc-1-000622</td>\n",
       "      <td>{'answer_start': [811], 'text': ['공산주의']}</td>\n",
       "      <td>5761</td>\n",
       "      <td>399</td>\n",
       "    </tr>\n",
       "  </tbody>\n",
       "</table>\n",
       "<p>240 rows × 7 columns</p>\n",
       "</div>"
      ],
      "text/plain": [
       "        title                                            context  \\\n",
       "0         전효숙  순천여자고등학교 졸업, 1973년 이화여자대학교를 졸업하고 1975년 제17회 사법...   \n",
       "1       스토우빌선  요크 카운티 동쪽에 처음으로 여객 열차 운행이 시작한 시점은 1868년 토론토 & ...   \n",
       "2          촐라  촐라 정부\\n 촐라의 정부 체제는 전제군주제였으며,2001 촐라의 군주는 절대적인 ...   \n",
       "3       백조 기사  프랑스의 십자군 무훈시는 1099년 예루살렘 왕국의 통치자가 된 고드프루아 드 부용...   \n",
       "4       탈관료제화  탈관료제화는 현대사회에서 관료제 성격이 약화되는 현상이다. 현대사회에서 관료제는 약...   \n",
       "..        ...                                                ...   \n",
       "235  전단 (제나라)  연나라 군대의 사령관이 악의에서 기겁으로 교체되자, 전단은 스스로 신령의 계시를 받...   \n",
       "236        티칼  현재 우리가 볼 수 있는 티칼의 모습은 펜실베이니아 대학교와 과테말라 정부의 협조 ...   \n",
       "237       윤치호  1940년 5월 1일 오전 창씨개명에 비협조적이라는 이유로 조선총독부 경무국에서 소...   \n",
       "238      신잉카국  빌카밤바 지역은 파차쿠티 황제 때 부터 잉카 제국에 속해있던 지역이었다. 스페인 군...   \n",
       "239      레닌주의  사회주의 혁명은 오로지 선진노동자계급에 기초한 계급투쟁으로서 이루어질 수 있다고 주...   \n",
       "\n",
       "                                 question            id  \\\n",
       "0          처음으로 부실 경영인에 대한 보상 선고를 받은 회사는?  mrc-0-003264   \n",
       "1    스카버러 남쪽과 코보콘그 마을의 철도 노선이 처음 연장된 연도는?  mrc-0-004762   \n",
       "2         촌락에서 운영 위원 후보자 이름을 쓰기위해 사용된 것은?  mrc-1-001810   \n",
       "3                로타이르가 백조를 구하기 위해 사용한 것은?  mrc-1-000219   \n",
       "4      의견을 자유롭게 나누는 것은 조직 내 어떤 관계에서 가능한가?  mrc-1-000285   \n",
       "..                                    ...           ...   \n",
       "235  전단이 연나라와의 전쟁에서 승리했을 당시 제나라의 왕은 누구인가?  mrc-0-000484   \n",
       "236            공놀이 경기장 중 일부는 어디에 위치하고 있나?  mrc-0-002095   \n",
       "237           창씨개명령의 시행일을 미루는 것을 수락한 인물은?  mrc-0-003083   \n",
       "238   망코 잉카가 쿠스코를 되찾기 위해 마련한 군사는 총 몇 명인가?  mrc-0-002978   \n",
       "239                        마르크스주의자들의 사상은?  mrc-1-000622   \n",
       "\n",
       "                                               answers  document_id  \\\n",
       "0            {'answer_start': [284], 'text': ['한보철강']}         9027   \n",
       "1           {'answer_start': [146], 'text': ['1871년']}        51765   \n",
       "2             {'answer_start': [517], 'text': ['나뭇잎']}        15694   \n",
       "3            {'answer_start': [1109], 'text': ['금대야']}        59536   \n",
       "4          {'answer_start': [386], 'text': ['수평적 관계']}        32991   \n",
       "..                                                 ...          ...   \n",
       "235         {'answer_start': [1084], 'text': ['제 양왕']}        53265   \n",
       "236  {'answer_start': [343], 'text': [''일곱 개의 신전 광장...        12190   \n",
       "237        {'answer_start': [247], 'text': ['미나미 지로']}         5326   \n",
       "238      {'answer_start': [563], 'text': ['200,000명']}        48575   \n",
       "239          {'answer_start': [811], 'text': ['공산주의']}         5761   \n",
       "\n",
       "     __index_level_0__  \n",
       "0                 2146  \n",
       "1                 3106  \n",
       "2                 1180  \n",
       "3                  141  \n",
       "4                  184  \n",
       "..                 ...  \n",
       "235                329  \n",
       "236               1378  \n",
       "237               2031  \n",
       "238               1963  \n",
       "239                399  \n",
       "\n",
       "[240 rows x 7 columns]"
      ]
     },
     "execution_count": 10,
     "metadata": {},
     "output_type": "execute_result"
    }
   ],
   "source": [
    "val_df"
   ]
  },
  {
   "cell_type": "code",
   "execution_count": 11,
   "id": "097c4328-a8ee-4401-a24b-9e526d5c341e",
   "metadata": {},
   "outputs": [
    {
     "data": {
      "text/html": [
       "<div>\n",
       "<style scoped>\n",
       "    .dataframe tbody tr th:only-of-type {\n",
       "        vertical-align: middle;\n",
       "    }\n",
       "\n",
       "    .dataframe tbody tr th {\n",
       "        vertical-align: top;\n",
       "    }\n",
       "\n",
       "    .dataframe thead th {\n",
       "        text-align: right;\n",
       "    }\n",
       "</style>\n",
       "<table border=\"1\" class=\"dataframe\">\n",
       "  <thead>\n",
       "    <tr style=\"text-align: right;\">\n",
       "      <th></th>\n",
       "      <th>text</th>\n",
       "      <th>corpus_source</th>\n",
       "      <th>url</th>\n",
       "      <th>domain</th>\n",
       "      <th>title</th>\n",
       "      <th>author</th>\n",
       "      <th>html</th>\n",
       "      <th>document_id</th>\n",
       "    </tr>\n",
       "  </thead>\n",
       "  <tbody>\n",
       "    <tr>\n",
       "      <th>0</th>\n",
       "      <td>이 문서는 나라 목록이며, 전 세계 206개 나라의 각 현황과 주권 승인 정보를 개...</td>\n",
       "      <td>위키피디아</td>\n",
       "      <td>TODO</td>\n",
       "      <td>None</td>\n",
       "      <td>나라 목록</td>\n",
       "      <td>None</td>\n",
       "      <td>None</td>\n",
       "      <td>0</td>\n",
       "    </tr>\n",
       "    <tr>\n",
       "      <th>1</th>\n",
       "      <td>이 목록에 실린 국가 기준은 1933년 몬테비데오 협약 1장을 참고로 하였다. 협정...</td>\n",
       "      <td>위키피디아</td>\n",
       "      <td>TODO</td>\n",
       "      <td>None</td>\n",
       "      <td>나라 목록</td>\n",
       "      <td>None</td>\n",
       "      <td>None</td>\n",
       "      <td>1</td>\n",
       "    </tr>\n",
       "    <tr>\n",
       "      <th>2</th>\n",
       "      <td>현 서울특별시 종로구 서린동 (구 일제 강점기 경기도 경성부 서린정) 출신이다. 친...</td>\n",
       "      <td>위키피디아</td>\n",
       "      <td>TODO</td>\n",
       "      <td>None</td>\n",
       "      <td>백남준</td>\n",
       "      <td>None</td>\n",
       "      <td>None</td>\n",
       "      <td>2</td>\n",
       "    </tr>\n",
       "    <tr>\n",
       "      <th>3</th>\n",
       "      <td>아오조라 문고(靑空文庫, あおぞらぶんこ|아오조라 분고)는 ‘일본어판 구텐베르크 프로...</td>\n",
       "      <td>위키피디아</td>\n",
       "      <td>TODO</td>\n",
       "      <td>None</td>\n",
       "      <td>아오조라 문고</td>\n",
       "      <td>None</td>\n",
       "      <td>None</td>\n",
       "      <td>3</td>\n",
       "    </tr>\n",
       "    <tr>\n",
       "      <th>4</th>\n",
       "      <td>저자 사망 이후 50년이 지나 저작권이 소멸한 메이지 시대부터 쇼와 시대 초기까지의...</td>\n",
       "      <td>위키피디아</td>\n",
       "      <td>TODO</td>\n",
       "      <td>None</td>\n",
       "      <td>아오조라 문고</td>\n",
       "      <td>None</td>\n",
       "      <td>None</td>\n",
       "      <td>4</td>\n",
       "    </tr>\n",
       "    <tr>\n",
       "      <th>...</th>\n",
       "      <td>...</td>\n",
       "      <td>...</td>\n",
       "      <td>...</td>\n",
       "      <td>...</td>\n",
       "      <td>...</td>\n",
       "      <td>...</td>\n",
       "      <td>...</td>\n",
       "      <td>...</td>\n",
       "    </tr>\n",
       "    <tr>\n",
       "      <th>60608</th>\n",
       "      <td>오키나와 현립 박물관·미술관( , Okinawa Prefectural Museum ...</td>\n",
       "      <td>위키피디아</td>\n",
       "      <td>None</td>\n",
       "      <td>None</td>\n",
       "      <td>오키나와 현립 박물관·미술관</td>\n",
       "      <td>None</td>\n",
       "      <td>None</td>\n",
       "      <td>60608</td>\n",
       "    </tr>\n",
       "    <tr>\n",
       "      <th>60609</th>\n",
       "      <td>1936년 7월, 오키나와현 교육위원회 부설 향토 박물관(沖縄県教育会附設郷土博物館)...</td>\n",
       "      <td>위키피디아</td>\n",
       "      <td>None</td>\n",
       "      <td>None</td>\n",
       "      <td>오키나와 현립 박물관·미술관</td>\n",
       "      <td>None</td>\n",
       "      <td>None</td>\n",
       "      <td>60609</td>\n",
       "    </tr>\n",
       "    <tr>\n",
       "      <th>60610</th>\n",
       "      <td>박물관은 개관 10주년이되는 2017년에 관의 애칭 및 마스코트를 일반인에게 공모했...</td>\n",
       "      <td>위키피디아</td>\n",
       "      <td>None</td>\n",
       "      <td>None</td>\n",
       "      <td>오키나와 현립 박물관·미술관</td>\n",
       "      <td>None</td>\n",
       "      <td>None</td>\n",
       "      <td>60610</td>\n",
       "    </tr>\n",
       "    <tr>\n",
       "      <th>60611</th>\n",
       "      <td>단결권 및 단체교섭권 협약(Right to Organise and Collectiv...</td>\n",
       "      <td>위키피디아</td>\n",
       "      <td>None</td>\n",
       "      <td>None</td>\n",
       "      <td>단결권 및 단체교섭권 협약</td>\n",
       "      <td>None</td>\n",
       "      <td>None</td>\n",
       "      <td>60611</td>\n",
       "    </tr>\n",
       "    <tr>\n",
       "      <th>60612</th>\n",
       "      <td>이 협약은 부당노동행위 제도를 규율하고 있다. 협약 제1조에서 반노동조합 차별행위로...</td>\n",
       "      <td>위키피디아</td>\n",
       "      <td>None</td>\n",
       "      <td>None</td>\n",
       "      <td>단결권 및 단체교섭권 협약</td>\n",
       "      <td>None</td>\n",
       "      <td>None</td>\n",
       "      <td>60612</td>\n",
       "    </tr>\n",
       "  </tbody>\n",
       "</table>\n",
       "<p>60613 rows × 8 columns</p>\n",
       "</div>"
      ],
      "text/plain": [
       "                                                    text corpus_source   url  \\\n",
       "0      이 문서는 나라 목록이며, 전 세계 206개 나라의 각 현황과 주권 승인 정보를 개...         위키피디아  TODO   \n",
       "1      이 목록에 실린 국가 기준은 1933년 몬테비데오 협약 1장을 참고로 하였다. 협정...         위키피디아  TODO   \n",
       "2      현 서울특별시 종로구 서린동 (구 일제 강점기 경기도 경성부 서린정) 출신이다. 친...         위키피디아  TODO   \n",
       "3      아오조라 문고(靑空文庫, あおぞらぶんこ|아오조라 분고)는 ‘일본어판 구텐베르크 프로...         위키피디아  TODO   \n",
       "4      저자 사망 이후 50년이 지나 저작권이 소멸한 메이지 시대부터 쇼와 시대 초기까지의...         위키피디아  TODO   \n",
       "...                                                  ...           ...   ...   \n",
       "60608  오키나와 현립 박물관·미술관( , Okinawa Prefectural Museum ...         위키피디아  None   \n",
       "60609  1936년 7월, 오키나와현 교육위원회 부설 향토 박물관(沖縄県教育会附設郷土博物館)...         위키피디아  None   \n",
       "60610  박물관은 개관 10주년이되는 2017년에 관의 애칭 및 마스코트를 일반인에게 공모했...         위키피디아  None   \n",
       "60611  단결권 및 단체교섭권 협약(Right to Organise and Collectiv...         위키피디아  None   \n",
       "60612  이 협약은 부당노동행위 제도를 규율하고 있다. 협약 제1조에서 반노동조합 차별행위로...         위키피디아  None   \n",
       "\n",
       "      domain            title author  html document_id  \n",
       "0       None            나라 목록   None  None           0  \n",
       "1       None            나라 목록   None  None           1  \n",
       "2       None              백남준   None  None           2  \n",
       "3       None          아오조라 문고   None  None           3  \n",
       "4       None          아오조라 문고   None  None           4  \n",
       "...      ...              ...    ...   ...         ...  \n",
       "60608   None  오키나와 현립 박물관·미술관   None  None       60608  \n",
       "60609   None  오키나와 현립 박물관·미술관   None  None       60609  \n",
       "60610   None  오키나와 현립 박물관·미술관   None  None       60610  \n",
       "60611   None   단결권 및 단체교섭권 협약   None  None       60611  \n",
       "60612   None   단결권 및 단체교섭권 협약   None  None       60612  \n",
       "\n",
       "[60613 rows x 8 columns]"
      ]
     },
     "execution_count": 11,
     "metadata": {},
     "output_type": "execute_result"
    }
   ],
   "source": [
    "wiki_pd"
   ]
  },
  {
   "cell_type": "markdown",
   "id": "59775710-5710-481a-a19c-21d7008014a9",
   "metadata": {},
   "source": [
    "## Make Columns"
   ]
  },
  {
   "cell_type": "code",
   "execution_count": 118,
   "id": "5fa28020-a448-47a9-b399-6f559457a2d2",
   "metadata": {},
   "outputs": [],
   "source": [
    "train_df['context_len'] = train_df['context'].apply(lambda x: len(x))\n",
    "val_df['context_len'] = val_df['context'].apply(lambda x: len(x))\n",
    "wiki_df['text_len'] = wiki_df['text'].apply(lambda x: len(x))"
   ]
  },
  {
   "cell_type": "code",
   "execution_count": 119,
   "id": "3ed58f8b-fd25-48b9-bb98-da711d7cf18c",
   "metadata": {},
   "outputs": [],
   "source": [
    "train_df['question_len'] = train_df['question'].apply(lambda x: len(x))\n",
    "val_df['question_len'] = val_df['question'].apply(lambda x: len(x))\n",
    "test_df['question_len'] = test_df['question'].apply(lambda x: len(x))"
   ]
  },
  {
   "cell_type": "code",
   "execution_count": 130,
   "id": "736b6500-91aa-41a7-ab14-1227d54e0859",
   "metadata": {},
   "outputs": [],
   "source": [
    "train_df['answer_len'] = train_df['answers'].apply(lambda x: len(x['text'][0]))\n",
    "val_df['answer_len'] = val_df['answers'].apply(lambda x: len(x['text'][0]))"
   ]
  },
  {
   "cell_type": "markdown",
   "id": "5efa0742-93aa-4399-9d76-57e481589601",
   "metadata": {},
   "source": [
    "## duplicate data"
   ]
  },
  {
   "cell_type": "code",
   "execution_count": 15,
   "id": "3acadfaa-e498-47b5-9cec-cb97543dab03",
   "metadata": {},
   "outputs": [
    {
     "data": {
      "text/plain": [
       "count                                                  3952\n",
       "unique                                                 3340\n",
       "top       그러나 한편으로는 미국 사회의 인종차별주의적, 흑인을 차별하는 태도를 목격하면서 백...\n",
       "freq                                                      4\n",
       "Name: context, dtype: object"
      ]
     },
     "execution_count": 15,
     "metadata": {},
     "output_type": "execute_result"
    }
   ],
   "source": [
    "train_df['context'].describe()"
   ]
  },
  {
   "cell_type": "code",
   "execution_count": 16,
   "id": "84557180-f2ce-4882-84e9-1ed60a4d0105",
   "metadata": {},
   "outputs": [
    {
     "data": {
      "text/html": [
       "<div>\n",
       "<style scoped>\n",
       "    .dataframe tbody tr th:only-of-type {\n",
       "        vertical-align: middle;\n",
       "    }\n",
       "\n",
       "    .dataframe tbody tr th {\n",
       "        vertical-align: top;\n",
       "    }\n",
       "\n",
       "    .dataframe thead th {\n",
       "        text-align: right;\n",
       "    }\n",
       "</style>\n",
       "<table border=\"1\" class=\"dataframe\">\n",
       "  <thead>\n",
       "    <tr style=\"text-align: right;\">\n",
       "      <th></th>\n",
       "      <th>title</th>\n",
       "      <th>context</th>\n",
       "      <th>question</th>\n",
       "      <th>id</th>\n",
       "      <th>answers</th>\n",
       "      <th>document_id</th>\n",
       "      <th>__index_level_0__</th>\n",
       "      <th>context_len</th>\n",
       "      <th>question_len</th>\n",
       "    </tr>\n",
       "  </thead>\n",
       "  <tbody>\n",
       "    <tr>\n",
       "      <th>1364</th>\n",
       "      <td>에우데르 카마라</td>\n",
       "      <td>하지만 동 에우데르 카마라 대주교가 사회복지사업으로는 가난이 해결되지 않는다는 것을...</td>\n",
       "      <td>교황 요한 바오로 2세는 카마라 대주교와 함께 누가 인간다운 삶을 살 수 있도록 도...</td>\n",
       "      <td>mrc-0-001186</td>\n",
       "      <td>{'answer_start': [368], 'text': ['민중들']}</td>\n",
       "      <td>21025</td>\n",
       "      <td>776</td>\n",
       "      <td>512</td>\n",
       "      <td>50</td>\n",
       "    </tr>\n",
       "    <tr>\n",
       "      <th>1032</th>\n",
       "      <td>불암산 호랑이 유격대</td>\n",
       "      <td>마지막 유격전은 적의 수송대를 공격하는 작전이었다. 생도들은 정보원으로부터 북한군의...</td>\n",
       "      <td>불암산 호랑이 유격대의 마지막 유격전은 어떤 군대의 수송대를 공격하는 작전이었나요?</td>\n",
       "      <td>mrc-0-004447</td>\n",
       "      <td>{'answer_start': [42], 'text': ['북한군']}</td>\n",
       "      <td>56191</td>\n",
       "      <td>2900</td>\n",
       "      <td>512</td>\n",
       "      <td>46</td>\n",
       "    </tr>\n",
       "    <tr>\n",
       "      <th>1545</th>\n",
       "      <td>호라티우스</td>\n",
       "      <td>호라티우스의 출신 가문은 정확히 알려져 있지 않다. 아마 그의 아버지는 노예에서 해...</td>\n",
       "      <td>호라티우스와 가이우스 마에케나스를 만나게 해 준 사람은?</td>\n",
       "      <td>mrc-1-000084</td>\n",
       "      <td>{'answer_start': [322], 'text': ['베르길리우스']}</td>\n",
       "      <td>4917</td>\n",
       "      <td>54</td>\n",
       "      <td>513</td>\n",
       "      <td>31</td>\n",
       "    </tr>\n",
       "    <tr>\n",
       "      <th>3265</th>\n",
       "      <td>호라티우스</td>\n",
       "      <td>호라티우스의 출신 가문은 정확히 알려져 있지 않다. 아마 그의 아버지는 노예에서 해...</td>\n",
       "      <td>호라티우스가 깊은 우정관계라고 생각한 인물은?</td>\n",
       "      <td>mrc-1-001773</td>\n",
       "      <td>{'answer_start': [356], 'text': ['가이우스 마에케나스(G...</td>\n",
       "      <td>4917</td>\n",
       "      <td>1158</td>\n",
       "      <td>513</td>\n",
       "      <td>25</td>\n",
       "    </tr>\n",
       "    <tr>\n",
       "      <th>2272</th>\n",
       "      <td>리싸 해전 (1866년)</td>\n",
       "      <td>리싸 해전 은 1866년 7월 20일 아드리아해 달마티아 제도의 비스섬 근해에서 오...</td>\n",
       "      <td>알비니가 전장에 나타나지 않은 것은 무엇 때문인가?</td>\n",
       "      <td>mrc-0-000353</td>\n",
       "      <td>{'answer_start': [291], 'text': ['권력 갈등']}</td>\n",
       "      <td>36511</td>\n",
       "      <td>239</td>\n",
       "      <td>515</td>\n",
       "      <td>28</td>\n",
       "    </tr>\n",
       "    <tr>\n",
       "      <th>...</th>\n",
       "      <td>...</td>\n",
       "      <td>...</td>\n",
       "      <td>...</td>\n",
       "      <td>...</td>\n",
       "      <td>...</td>\n",
       "      <td>...</td>\n",
       "      <td>...</td>\n",
       "      <td>...</td>\n",
       "      <td>...</td>\n",
       "    </tr>\n",
       "    <tr>\n",
       "      <th>3491</th>\n",
       "      <td>시조 위미르</td>\n",
       "      <td>하지만 어릴 때부터 도덕 관념을 배우지 못하고 침략국의 노예로 끌려져와 글씨나 문자...</td>\n",
       "      <td>족장에서 황제로 진급한 인물이 위미르를 깔보며 불렀던 명칭은?</td>\n",
       "      <td>mrc-0-001441</td>\n",
       "      <td>{'answer_start': [806], 'text': ['\"나의 노예\"']}</td>\n",
       "      <td>55153</td>\n",
       "      <td>947</td>\n",
       "      <td>1997</td>\n",
       "      <td>34</td>\n",
       "    </tr>\n",
       "    <tr>\n",
       "      <th>2369</th>\n",
       "      <td>교황 에우제니오 2세</td>\n",
       "      <td>에우제니오 2세의 선출과 즉위는 프랑크족에 대한 승리로서 이후로도 큰 영향을 끼쳤다...</td>\n",
       "      <td>교황 선출에 황제의 동의가 필요하게 된 연도는?</td>\n",
       "      <td>mrc-1-001623</td>\n",
       "      <td>{'answer_start': [195], 'text': ['824년']}</td>\n",
       "      <td>6715</td>\n",
       "      <td>1063</td>\n",
       "      <td>2030</td>\n",
       "      <td>26</td>\n",
       "    </tr>\n",
       "    <tr>\n",
       "      <th>1318</th>\n",
       "      <td>윤치호</td>\n",
       "      <td>민족자결주의\\n1916년 조선총독부는 여러 번 사람을 보내 그에게 당국 시책에 협조...</td>\n",
       "      <td>신익희는 어느 장소에서 윤치호에게 독립운동 참여를 권유했나요?</td>\n",
       "      <td>mrc-0-005242</td>\n",
       "      <td>{'answer_start': [1613], 'text': ['종로청년회관']}</td>\n",
       "      <td>5306</td>\n",
       "      <td>3412</td>\n",
       "      <td>2041</td>\n",
       "      <td>34</td>\n",
       "    </tr>\n",
       "    <tr>\n",
       "      <th>1610</th>\n",
       "      <td>겨울 전쟁</td>\n",
       "      <td>파아보 탈벨라가 지휘를 맡기 이전의 그 지역 핀란드군은 적의 포화에 쫓겨 후퇴를 거...</td>\n",
       "      <td>핀란드군을 이끌어 기습 공격을 하고 숲 속으로 철수한 인물은?</td>\n",
       "      <td>mrc-0-000572</td>\n",
       "      <td>{'answer_start': [0], 'text': ['파아보 탈벨라']}</td>\n",
       "      <td>4878</td>\n",
       "      <td>389</td>\n",
       "      <td>2052</td>\n",
       "      <td>34</td>\n",
       "    </tr>\n",
       "    <tr>\n",
       "      <th>3612</th>\n",
       "      <td>모라스주의</td>\n",
       "      <td>모라스주의(모라시슴)는 프랑스의 반혁명가 샤를 모라스가 고안한 이념교리로, 악시옹 ...</td>\n",
       "      <td>샤를 오퀴스탱 생트뵈브에서 이폴리트텐, 에르네스트 르낭을 거쳐 모리스에게 역사적 영...</td>\n",
       "      <td>mrc-0-004194</td>\n",
       "      <td>{'answer_start': [400], 'text': ['뉘마 퓌스텔 드 쿨라주']}</td>\n",
       "      <td>48765</td>\n",
       "      <td>2747</td>\n",
       "      <td>2055</td>\n",
       "      <td>56</td>\n",
       "    </tr>\n",
       "  </tbody>\n",
       "</table>\n",
       "<p>612 rows × 9 columns</p>\n",
       "</div>"
      ],
      "text/plain": [
       "              title                                            context  \\\n",
       "1364       에우데르 카마라  하지만 동 에우데르 카마라 대주교가 사회복지사업으로는 가난이 해결되지 않는다는 것을...   \n",
       "1032    불암산 호랑이 유격대  마지막 유격전은 적의 수송대를 공격하는 작전이었다. 생도들은 정보원으로부터 북한군의...   \n",
       "1545          호라티우스  호라티우스의 출신 가문은 정확히 알려져 있지 않다. 아마 그의 아버지는 노예에서 해...   \n",
       "3265          호라티우스  호라티우스의 출신 가문은 정확히 알려져 있지 않다. 아마 그의 아버지는 노예에서 해...   \n",
       "2272  리싸 해전 (1866년)  리싸 해전 은 1866년 7월 20일 아드리아해 달마티아 제도의 비스섬 근해에서 오...   \n",
       "...             ...                                                ...   \n",
       "3491         시조 위미르  하지만 어릴 때부터 도덕 관념을 배우지 못하고 침략국의 노예로 끌려져와 글씨나 문자...   \n",
       "2369    교황 에우제니오 2세  에우제니오 2세의 선출과 즉위는 프랑크족에 대한 승리로서 이후로도 큰 영향을 끼쳤다...   \n",
       "1318            윤치호  민족자결주의\\n1916년 조선총독부는 여러 번 사람을 보내 그에게 당국 시책에 협조...   \n",
       "1610          겨울 전쟁  파아보 탈벨라가 지휘를 맡기 이전의 그 지역 핀란드군은 적의 포화에 쫓겨 후퇴를 거...   \n",
       "3612          모라스주의  모라스주의(모라시슴)는 프랑스의 반혁명가 샤를 모라스가 고안한 이념교리로, 악시옹 ...   \n",
       "\n",
       "                                               question            id  \\\n",
       "1364  교황 요한 바오로 2세는 카마라 대주교와 함께 누가 인간다운 삶을 살 수 있도록 도...  mrc-0-001186   \n",
       "1032     불암산 호랑이 유격대의 마지막 유격전은 어떤 군대의 수송대를 공격하는 작전이었나요?  mrc-0-004447   \n",
       "1545                    호라티우스와 가이우스 마에케나스를 만나게 해 준 사람은?  mrc-1-000084   \n",
       "3265                          호라티우스가 깊은 우정관계라고 생각한 인물은?  mrc-1-001773   \n",
       "2272                       알비니가 전장에 나타나지 않은 것은 무엇 때문인가?  mrc-0-000353   \n",
       "...                                                 ...           ...   \n",
       "3491                 족장에서 황제로 진급한 인물이 위미르를 깔보며 불렀던 명칭은?  mrc-0-001441   \n",
       "2369                         교황 선출에 황제의 동의가 필요하게 된 연도는?  mrc-1-001623   \n",
       "1318                 신익희는 어느 장소에서 윤치호에게 독립운동 참여를 권유했나요?  mrc-0-005242   \n",
       "1610                 핀란드군을 이끌어 기습 공격을 하고 숲 속으로 철수한 인물은?  mrc-0-000572   \n",
       "3612  샤를 오퀴스탱 생트뵈브에서 이폴리트텐, 에르네스트 르낭을 거쳐 모리스에게 역사적 영...  mrc-0-004194   \n",
       "\n",
       "                                                answers  document_id  \\\n",
       "1364           {'answer_start': [368], 'text': ['민중들']}        21025   \n",
       "1032            {'answer_start': [42], 'text': ['북한군']}        56191   \n",
       "1545        {'answer_start': [322], 'text': ['베르길리우스']}         4917   \n",
       "3265  {'answer_start': [356], 'text': ['가이우스 마에케나스(G...         4917   \n",
       "2272         {'answer_start': [291], 'text': ['권력 갈등']}        36511   \n",
       "...                                                 ...          ...   \n",
       "3491       {'answer_start': [806], 'text': ['\"나의 노예\"']}        55153   \n",
       "2369          {'answer_start': [195], 'text': ['824년']}         6715   \n",
       "1318       {'answer_start': [1613], 'text': ['종로청년회관']}         5306   \n",
       "1610         {'answer_start': [0], 'text': ['파아보 탈벨라']}         4878   \n",
       "3612  {'answer_start': [400], 'text': ['뉘마 퓌스텔 드 쿨라주']}        48765   \n",
       "\n",
       "      __index_level_0__  context_len  question_len  \n",
       "1364                776          512            50  \n",
       "1032               2900          512            46  \n",
       "1545                 54          513            31  \n",
       "3265               1158          513            25  \n",
       "2272                239          515            28  \n",
       "...                 ...          ...           ...  \n",
       "3491                947         1997            34  \n",
       "2369               1063         2030            26  \n",
       "1318               3412         2041            34  \n",
       "1610                389         2052            34  \n",
       "3612               2747         2055            56  \n",
       "\n",
       "[612 rows x 9 columns]"
      ]
     },
     "execution_count": 16,
     "metadata": {},
     "output_type": "execute_result"
    }
   ],
   "source": [
    "train_df[train_df['context'].duplicated()].sort_values(by='context_len')"
   ]
  },
  {
   "cell_type": "markdown",
   "id": "ed9e629b-c764-4c91-869d-dca91218e8ee",
   "metadata": {
    "jp-MarkdownHeadingCollapsed": true,
    "tags": []
   },
   "source": [
    "## Title distribution 분석"
   ]
  },
  {
   "cell_type": "markdown",
   "id": "2c0cb80f-6bb6-41d7-a384-73dfeb806fe6",
   "metadata": {
    "tags": []
   },
   "source": [
    "### train"
   ]
  },
  {
   "cell_type": "code",
   "execution_count": 17,
   "id": "4d50ed8b-adba-4d1e-90c3-5fef9807c297",
   "metadata": {},
   "outputs": [
    {
     "data": {
      "text/plain": [
       "array(['미국 상원', '인사조직관리', '강희제', ..., '미국 알래스카 육군', '내니 다이어리',\n",
       "       '빈 필하모니 관현악단'], dtype=object)"
      ]
     },
     "execution_count": 17,
     "metadata": {},
     "output_type": "execute_result"
    }
   ],
   "source": [
    "train_df['title'].unique()"
   ]
  },
  {
   "cell_type": "code",
   "execution_count": 18,
   "id": "f232591d-e2e4-4776-9451-140d0a795cbe",
   "metadata": {},
   "outputs": [],
   "source": [
    "train_title=train_df['title'].value_counts().sort_values(ascending=False)"
   ]
  },
  {
   "cell_type": "code",
   "execution_count": 72,
   "id": "59d04743-3743-4d14-8f11-1b631997e0ed",
   "metadata": {},
   "outputs": [
    {
     "data": {
      "text/plain": [
       "3952"
      ]
     },
     "execution_count": 72,
     "metadata": {},
     "output_type": "execute_result"
    }
   ],
   "source": [
    "len(train_df)"
   ]
  },
  {
   "cell_type": "code",
   "execution_count": 22,
   "id": "3f10ef27-2fd2-4d11-bfc8-bbd677ecc27d",
   "metadata": {},
   "outputs": [
    {
     "data": {
      "text/plain": [
       "2716"
      ]
     },
     "execution_count": 22,
     "metadata": {},
     "output_type": "execute_result"
    }
   ],
   "source": [
    "len(train_title)"
   ]
  },
  {
   "cell_type": "code",
   "execution_count": 23,
   "id": "6534c7f4-cc80-45d8-a334-c02ee2df9149",
   "metadata": {},
   "outputs": [
    {
     "data": {
      "text/plain": [
       "count    2716.000000\n",
       "mean        1.455081\n",
       "std         1.452948\n",
       "min         1.000000\n",
       "25%         1.000000\n",
       "50%         1.000000\n",
       "75%         2.000000\n",
       "max        43.000000\n",
       "Name: title, dtype: float64"
      ]
     },
     "execution_count": 23,
     "metadata": {},
     "output_type": "execute_result"
    }
   ],
   "source": [
    "train_title.describe()"
   ]
  },
  {
   "cell_type": "code",
   "execution_count": 19,
   "id": "72872a2f-615f-45b8-8624-3a580fee3aa7",
   "metadata": {},
   "outputs": [
    {
     "data": {
      "text/html": [
       "<div>\n",
       "<style scoped>\n",
       "    .dataframe tbody tr th:only-of-type {\n",
       "        vertical-align: middle;\n",
       "    }\n",
       "\n",
       "    .dataframe tbody tr th {\n",
       "        vertical-align: top;\n",
       "    }\n",
       "\n",
       "    .dataframe thead th {\n",
       "        text-align: right;\n",
       "    }\n",
       "</style>\n",
       "<table border=\"1\" class=\"dataframe\">\n",
       "  <thead>\n",
       "    <tr style=\"text-align: right;\">\n",
       "      <th></th>\n",
       "      <th>title</th>\n",
       "    </tr>\n",
       "  </thead>\n",
       "  <tbody>\n",
       "    <tr>\n",
       "      <th>윤치호</th>\n",
       "      <td>43</td>\n",
       "    </tr>\n",
       "    <tr>\n",
       "      <th>장면</th>\n",
       "      <td>24</td>\n",
       "    </tr>\n",
       "    <tr>\n",
       "      <th>여운형</th>\n",
       "      <td>23</td>\n",
       "    </tr>\n",
       "    <tr>\n",
       "      <th>데카메론의 줄거리</th>\n",
       "      <td>13</td>\n",
       "    </tr>\n",
       "    <tr>\n",
       "      <th>루트비히 비트겐슈타인</th>\n",
       "      <td>13</td>\n",
       "    </tr>\n",
       "    <tr>\n",
       "      <th>근대</th>\n",
       "      <td>13</td>\n",
       "    </tr>\n",
       "    <tr>\n",
       "      <th>강희제</th>\n",
       "      <td>11</td>\n",
       "    </tr>\n",
       "    <tr>\n",
       "      <th>이오 (위성)</th>\n",
       "      <td>11</td>\n",
       "    </tr>\n",
       "    <tr>\n",
       "      <th>미치류</th>\n",
       "      <td>11</td>\n",
       "    </tr>\n",
       "    <tr>\n",
       "      <th>박근혜 정부</th>\n",
       "      <td>10</td>\n",
       "    </tr>\n",
       "    <tr>\n",
       "      <th>제1차 세계 대전</th>\n",
       "      <td>10</td>\n",
       "    </tr>\n",
       "    <tr>\n",
       "      <th>자유한국당</th>\n",
       "      <td>10</td>\n",
       "    </tr>\n",
       "    <tr>\n",
       "      <th>대한제국 고종</th>\n",
       "      <td>9</td>\n",
       "    </tr>\n",
       "  </tbody>\n",
       "</table>\n",
       "</div>"
      ],
      "text/plain": [
       "             title\n",
       "윤치호             43\n",
       "장면              24\n",
       "여운형             23\n",
       "데카메론의 줄거리       13\n",
       "루트비히 비트겐슈타인     13\n",
       "근대              13\n",
       "강희제             11\n",
       "이오 (위성)         11\n",
       "미치류             11\n",
       "박근혜 정부          10\n",
       "제1차 세계 대전       10\n",
       "자유한국당           10\n",
       "대한제국 고종          9"
      ]
     },
     "execution_count": 19,
     "metadata": {},
     "output_type": "execute_result"
    }
   ],
   "source": [
    "pd.DataFrame(train_title[:13])"
   ]
  },
  {
   "cell_type": "code",
   "execution_count": 25,
   "id": "42d1abcb-1809-4118-9ef7-f8dde428602d",
   "metadata": {},
   "outputs": [
    {
     "data": {
      "text/html": [
       "<div>\n",
       "<style scoped>\n",
       "    .dataframe tbody tr th:only-of-type {\n",
       "        vertical-align: middle;\n",
       "    }\n",
       "\n",
       "    .dataframe tbody tr th {\n",
       "        vertical-align: top;\n",
       "    }\n",
       "\n",
       "    .dataframe thead th {\n",
       "        text-align: right;\n",
       "    }\n",
       "</style>\n",
       "<table border=\"1\" class=\"dataframe\">\n",
       "  <thead>\n",
       "    <tr style=\"text-align: right;\">\n",
       "      <th></th>\n",
       "      <th>title</th>\n",
       "      <th>context</th>\n",
       "      <th>question</th>\n",
       "      <th>id</th>\n",
       "      <th>answers</th>\n",
       "      <th>document_id</th>\n",
       "      <th>__index_level_0__</th>\n",
       "      <th>context_len</th>\n",
       "      <th>question_len</th>\n",
       "    </tr>\n",
       "  </thead>\n",
       "  <tbody>\n",
       "    <tr>\n",
       "      <th>19</th>\n",
       "      <td>윤치호</td>\n",
       "      <td>혹자는 윤치호의 직계선조인 윤근수, 윤두수로 그의 문중은 당색으로는 서인 소론 계열...</td>\n",
       "      <td>윤치호가 극찬했던 조선시대의 인물은 누구인가요?</td>\n",
       "      <td>mrc-1-000027</td>\n",
       "      <td>{'answer_start': [585], 'text': ['다산 정약용']}</td>\n",
       "      <td>5322</td>\n",
       "      <td>18</td>\n",
       "      <td>783</td>\n",
       "      <td>26</td>\n",
       "    </tr>\n",
       "    <tr>\n",
       "      <th>171</th>\n",
       "      <td>윤치호</td>\n",
       "      <td>1903년 1월 함경도 안핵사로 임명되어 함경남도 함흥에 파견되었고, 7월 천안군수...</td>\n",
       "      <td>윤치호가 중앙 정계에서 다시 활동하기 전에 일어난 전투는?</td>\n",
       "      <td>mrc-0-000606</td>\n",
       "      <td>{'answer_start': [616], 'text': ['러일전쟁']}</td>\n",
       "      <td>5295</td>\n",
       "      <td>410</td>\n",
       "      <td>918</td>\n",
       "      <td>32</td>\n",
       "    </tr>\n",
       "    <tr>\n",
       "      <th>201</th>\n",
       "      <td>윤치호</td>\n",
       "      <td>그러나 한편으로는 미국 사회의 인종차별주의적, 흑인을 차별하는 태도를 목격하면서 백...</td>\n",
       "      <td>평상시 기독교선교사들로부터 차별적 대우를 받은 윤치호가 생각한 미국의 중대한 속성은?</td>\n",
       "      <td>mrc-0-001069</td>\n",
       "      <td>{'answer_start': [645], 'text': ['인종주의']}</td>\n",
       "      <td>5284</td>\n",
       "      <td>705</td>\n",
       "      <td>1146</td>\n",
       "      <td>47</td>\n",
       "    </tr>\n",
       "    <tr>\n",
       "      <th>294</th>\n",
       "      <td>윤치호</td>\n",
       "      <td>서재필이 배재학당의 젊은 학생들과 애국적인 시민을 독립협회로 모으는 데 기여했다면 ...</td>\n",
       "      <td>서재필은 어디에서 공부하는 학생들을 독립협회로 모이게 했나요?</td>\n",
       "      <td>mrc-0-000980</td>\n",
       "      <td>{'answer_start': [5], 'text': ['배재학당']}</td>\n",
       "      <td>5342</td>\n",
       "      <td>648</td>\n",
       "      <td>1003</td>\n",
       "      <td>34</td>\n",
       "    </tr>\n",
       "    <tr>\n",
       "      <th>415</th>\n",
       "      <td>윤치호</td>\n",
       "      <td>1895년 귀국 직후부터 그는 영어 실력을 바탕으로 그는 조선을 방문한 선교사들의 ...</td>\n",
       "      <td>윤치호가 아버지 윤웅렬을 설득해 교회와 학교를 지을 땅을 제공했던 선교사의 이름은?</td>\n",
       "      <td>mrc-0-004643</td>\n",
       "      <td>{'answer_start': [77], 'text': ['조세핀 애턴 캠밸']}</td>\n",
       "      <td>5289</td>\n",
       "      <td>3028</td>\n",
       "      <td>1811</td>\n",
       "      <td>46</td>\n",
       "    </tr>\n",
       "  </tbody>\n",
       "</table>\n",
       "</div>"
      ],
      "text/plain": [
       "    title                                            context  \\\n",
       "19    윤치호  혹자는 윤치호의 직계선조인 윤근수, 윤두수로 그의 문중은 당색으로는 서인 소론 계열...   \n",
       "171   윤치호  1903년 1월 함경도 안핵사로 임명되어 함경남도 함흥에 파견되었고, 7월 천안군수...   \n",
       "201   윤치호  그러나 한편으로는 미국 사회의 인종차별주의적, 흑인을 차별하는 태도를 목격하면서 백...   \n",
       "294   윤치호  서재필이 배재학당의 젊은 학생들과 애국적인 시민을 독립협회로 모으는 데 기여했다면 ...   \n",
       "415   윤치호  1895년 귀국 직후부터 그는 영어 실력을 바탕으로 그는 조선을 방문한 선교사들의 ...   \n",
       "\n",
       "                                            question            id  \\\n",
       "19                        윤치호가 극찬했던 조선시대의 인물은 누구인가요?  mrc-1-000027   \n",
       "171                 윤치호가 중앙 정계에서 다시 활동하기 전에 일어난 전투는?  mrc-0-000606   \n",
       "201  평상시 기독교선교사들로부터 차별적 대우를 받은 윤치호가 생각한 미국의 중대한 속성은?  mrc-0-001069   \n",
       "294               서재필은 어디에서 공부하는 학생들을 독립협회로 모이게 했나요?  mrc-0-000980   \n",
       "415   윤치호가 아버지 윤웅렬을 설득해 교회와 학교를 지을 땅을 제공했던 선교사의 이름은?  mrc-0-004643   \n",
       "\n",
       "                                           answers  document_id  \\\n",
       "19     {'answer_start': [585], 'text': ['다산 정약용']}         5322   \n",
       "171      {'answer_start': [616], 'text': ['러일전쟁']}         5295   \n",
       "201      {'answer_start': [645], 'text': ['인종주의']}         5284   \n",
       "294        {'answer_start': [5], 'text': ['배재학당']}         5342   \n",
       "415  {'answer_start': [77], 'text': ['조세핀 애턴 캠밸']}         5289   \n",
       "\n",
       "     __index_level_0__  context_len  question_len  \n",
       "19                  18          783            26  \n",
       "171                410          918            32  \n",
       "201                705         1146            47  \n",
       "294                648         1003            34  \n",
       "415               3028         1811            46  "
      ]
     },
     "execution_count": 25,
     "metadata": {},
     "output_type": "execute_result"
    }
   ],
   "source": [
    "train_df[train_df['title']=='윤치호'].head(5)"
   ]
  },
  {
   "cell_type": "markdown",
   "id": "3a7ec6f7-6c8a-4627-9b5b-30dcbde819a8",
   "metadata": {
    "tags": []
   },
   "source": [
    "### validation"
   ]
  },
  {
   "cell_type": "code",
   "execution_count": 26,
   "id": "b6088b34-65c7-4d83-9212-414b94662531",
   "metadata": {},
   "outputs": [
    {
     "data": {
      "text/plain": [
       "array(['전효숙', '스토우빌선', '촐라', '백조 기사', '탈관료제화', '마쓰에 소요 사건', '자수장', '감염내과',\n",
       "       '노트르담 다리', '히자즈', '앨버트 헤링', '공각기동대 (만화)', '캐나디안 케이퍼', '이명박 정부',\n",
       "       '산리즈카 투쟁', '1965년 캐나다 연방 선거', '아리크부카', '이흥구', '이이노야성',\n",
       "       '신재영 (야구 선수)', '데카메론의 줄거리', '천연두', '존 설리번', '스피타메네스',\n",
       "       '양양 진전사지 삼층석탑', '중우정치', '크누트 (북극곰)', '다중심언어', '뉴에코타 조약', '유팽조',\n",
       "       '마이클 오래플린', '김득황', '레닌주의', '신란', '돈 칭자오', '착생식물', '류한욱', '로마 군단',\n",
       "       '중화민국의 동성결혼', '한강 몸통 시신 사건', '얀 스뮈츠', '브루투스 (트로이아)', '대학 입시 센터 시험',\n",
       "       '영주 부석사 조사당 벽화', '가키자키씨', '프레아 칸', '돈부리', '리비우', '암호 (암호학)', '적색육',\n",
       "       '성장드라마 반올림', '구스타프 슈트레제만', '진야마치 역', '거창 둔마리 벽화 고분', '합천 성산리 느티나무',\n",
       "       '독일의 마이스터 제도', '김준연', '고창 오거리 당산', '돈오점수', '왕페이',\n",
       "       '제1차 세계 대전 중 벨기에', '교황 비오 11세', '진나라', '갈라파고스 제도', '점성술의 진행',\n",
       "       '서울 상부암 석불입상', '재생 (생물학)', '앨디 전투', '여운형', '청양 읍내리 석조여래삼존입상',\n",
       "       '최재수', '교황 문장', '티칼', '버트런드 러셀', '1798년 프랑스 총재선거', 'YG 엔터테인먼트',\n",
       "       '프란츠 할더', '혼동', '아디옌', '와카바야시 다다시', '코스모케라톱스', '아프로파이낸셜대부',\n",
       "       '코코 샤넬', '개방경지제', '아구스틴 쿠에바', '와그너', '소칙', '에가와 사건', '충주 조동리 유적',\n",
       "       '동방성련선 ~ Undefined Fantastic Object', '고려 태조', '하이드록시클로로퀸', '유진길',\n",
       "       '용인대학교 감로탱화', '지평좌표계', '히사쓰 오렌지 철도', '확증 편향', '클라이언트 서버 모델',\n",
       "       '캐서린 스윈포드', '조지 메테스키', '아인슈타인의 예언', '주이 (삼국지)', '콘스탄티우스 2세', '댈러스',\n",
       "       '대우 브로엄', '뮌헨 폭동', '팔라바', '셔틀콕', '신윤기', '교황 그레고리오 4세',\n",
       "       '천중 (태권도 선수)', '자본주의, 사회주의, 민주주의', '사탄 (사우스 파크)', '뒤러의 코뿔소',\n",
       "       '흥왕사명 청동은입사향완', '메이레키 대화재', '나치 독일', '냉대 동계 소우 기후', '꺼삐딴 리',\n",
       "       '최종생산물', '귀인 편향', '코로나 방전', '세부아노족', '아이오와주', '악마는 프라다를 입는다 (영화)',\n",
       "       '산청 소남리 선사유적', '송나라', '로타르 마이어', '장면', '석탄기', '건평 돈대', '일년전쟁',\n",
       "       '교황 그레고리오 5세', '현학', '매직걸', '살로메 알렉산드라', '아카데미상을 수상한 외국어 영화 목록',\n",
       "       '다리우스 작클리', '민다나오 전투', '알프스 물류', '지랄발광 17세', '타운젠드 법', '복복선',\n",
       "       '쓰치야 히로시', '부산박물관 소장 어피인장함', '예루살렘 공방전 (70년)', '황간 전투', '3·1 운동',\n",
       "       '네펠타리 비비', '자꾸엇-자럼 전투', '토끼와 거북이', '할키에리아류', '성 바실리 대성당', '빔비사라',\n",
       "       '제임스 보이', '멕시코 마약 전쟁', '태양권계면', '조선민주주의인민공화국-중화인민공화국 관계',\n",
       "       '윌리엄 캠벨 (1841년)', '교사', '토큰링', '취업 빙하기', '아시오 광독 사건', '조현병', '지방산',\n",
       "       '폰토스의 에바그리오스', '앙리에트 드 벨지크', '네거티브 광고', '교황 보니파시오 4세', '이이 나오치카',\n",
       "       '엘 마리아치', '탄이초', '카리용 전투', '바이러스성 뇌염', '대항해시대 2', '문정왕후 (조선)',\n",
       "       'Good Boy (백지영의 노래)', '봉은사 목 삼존불상', '갈릴레오 갈릴레이', '요나미네 가나메',\n",
       "       '여의도공항', '미나미산리쿠정 방재대책청사', '동아찬영회', '이건청', '앤서니 웨인', '타코벨',\n",
       "       '천평 계곡 전투', '파커 (기업)', '시스템 아키텍처', '교황 펠릭스 3세', '브라니미르', '스탠리 볼드윈',\n",
       "       '가스가이 역 (도카이 여객철도)', '타지마할', '드하스-판알펜 효과', '나가시마 시게오', '빅토리야 토카레바',\n",
       "       '군사 능력', '롬바르디아 전쟁', '2018년 동계 올림픽 푸에르토리코 선수단', '192고지 사건', '잭 워너',\n",
       "       '서민귀족', '서구화', '극 (무기)', '통상금지법 (1807년)', '가면라이더 아기토 (캐릭터)',\n",
       "       '모스크바 필하모니 교향악단', '사법적극주의', '오버워치 (애니메이션)', '박근혜 정부',\n",
       "       '화순 춘산영당 최익현 초상', '1925년 전국체육대회 축구', '변계량', '시오미바시 역', '홍유',\n",
       "       '교황 클레멘스 5세', '대한민국 대 독일 (2018년 FIFA 월드컵)', '아라키돈산', '프란체스코 페루치',\n",
       "       '갑훈', '스위스 근위대', '트리부스 민회', '미헤소케어족', '인사고과', '전단 (제나라)', '윤치호',\n",
       "       '신잉카국'], dtype=object)"
      ]
     },
     "execution_count": 26,
     "metadata": {},
     "output_type": "execute_result"
    }
   ],
   "source": [
    "val_df['title'].unique()"
   ]
  },
  {
   "cell_type": "code",
   "execution_count": 27,
   "id": "88503d39-295b-4c0c-8305-bec150b0502f",
   "metadata": {},
   "outputs": [],
   "source": [
    "val_title=val_df['title'].value_counts().sort_values(ascending=False)"
   ]
  },
  {
   "cell_type": "code",
   "execution_count": 73,
   "id": "c8246c2f-04cd-4144-988e-4a4f096c8650",
   "metadata": {},
   "outputs": [
    {
     "data": {
      "text/plain": [
       "240"
      ]
     },
     "execution_count": 73,
     "metadata": {},
     "output_type": "execute_result"
    }
   ],
   "source": [
    "len(val_df)"
   ]
  },
  {
   "cell_type": "code",
   "execution_count": 28,
   "id": "849583bb-7217-43f8-856b-07eb5cbb6484",
   "metadata": {},
   "outputs": [
    {
     "data": {
      "text/plain": [
       "228"
      ]
     },
     "execution_count": 28,
     "metadata": {},
     "output_type": "execute_result"
    }
   ],
   "source": [
    "len(val_title)"
   ]
  },
  {
   "cell_type": "code",
   "execution_count": 30,
   "id": "2b8f9cfa-34d3-4004-8278-0affa6c36fe6",
   "metadata": {},
   "outputs": [
    {
     "data": {
      "text/plain": [
       "count    228.000000\n",
       "mean       1.052632\n",
       "std        0.223788\n",
       "min        1.000000\n",
       "25%        1.000000\n",
       "50%        1.000000\n",
       "75%        1.000000\n",
       "max        2.000000\n",
       "Name: title, dtype: float64"
      ]
     },
     "execution_count": 30,
     "metadata": {},
     "output_type": "execute_result"
    }
   ],
   "source": [
    "val_title.describe()"
   ]
  },
  {
   "cell_type": "code",
   "execution_count": 31,
   "id": "57e91a79-bde3-4314-9425-9fa96a9cea99",
   "metadata": {},
   "outputs": [
    {
     "data": {
      "text/html": [
       "<div>\n",
       "<style scoped>\n",
       "    .dataframe tbody tr th:only-of-type {\n",
       "        vertical-align: middle;\n",
       "    }\n",
       "\n",
       "    .dataframe tbody tr th {\n",
       "        vertical-align: top;\n",
       "    }\n",
       "\n",
       "    .dataframe thead th {\n",
       "        text-align: right;\n",
       "    }\n",
       "</style>\n",
       "<table border=\"1\" class=\"dataframe\">\n",
       "  <thead>\n",
       "    <tr style=\"text-align: right;\">\n",
       "      <th></th>\n",
       "      <th>title</th>\n",
       "    </tr>\n",
       "  </thead>\n",
       "  <tbody>\n",
       "    <tr>\n",
       "      <th>교황 비오 11세</th>\n",
       "      <td>2</td>\n",
       "    </tr>\n",
       "    <tr>\n",
       "      <th>김준연</th>\n",
       "      <td>2</td>\n",
       "    </tr>\n",
       "    <tr>\n",
       "      <th>티칼</th>\n",
       "      <td>2</td>\n",
       "    </tr>\n",
       "    <tr>\n",
       "      <th>확증 편향</th>\n",
       "      <td>2</td>\n",
       "    </tr>\n",
       "    <tr>\n",
       "      <th>버트런드 러셀</th>\n",
       "      <td>2</td>\n",
       "    </tr>\n",
       "    <tr>\n",
       "      <th>데카메론의 줄거리</th>\n",
       "      <td>2</td>\n",
       "    </tr>\n",
       "    <tr>\n",
       "      <th>송나라</th>\n",
       "      <td>2</td>\n",
       "    </tr>\n",
       "    <tr>\n",
       "      <th>태양권계면</th>\n",
       "      <td>2</td>\n",
       "    </tr>\n",
       "    <tr>\n",
       "      <th>자수장</th>\n",
       "      <td>2</td>\n",
       "    </tr>\n",
       "    <tr>\n",
       "      <th>로마 군단</th>\n",
       "      <td>2</td>\n",
       "    </tr>\n",
       "    <tr>\n",
       "      <th>나치 독일</th>\n",
       "      <td>2</td>\n",
       "    </tr>\n",
       "    <tr>\n",
       "      <th>레닌주의</th>\n",
       "      <td>2</td>\n",
       "    </tr>\n",
       "    <tr>\n",
       "      <th>감염내과</th>\n",
       "      <td>1</td>\n",
       "    </tr>\n",
       "  </tbody>\n",
       "</table>\n",
       "</div>"
      ],
      "text/plain": [
       "           title\n",
       "교황 비오 11세      2\n",
       "김준연            2\n",
       "티칼             2\n",
       "확증 편향          2\n",
       "버트런드 러셀        2\n",
       "데카메론의 줄거리      2\n",
       "송나라            2\n",
       "태양권계면          2\n",
       "자수장            2\n",
       "로마 군단          2\n",
       "나치 독일          2\n",
       "레닌주의           2\n",
       "감염내과           1"
      ]
     },
     "execution_count": 31,
     "metadata": {},
     "output_type": "execute_result"
    }
   ],
   "source": [
    "pd.DataFrame(val_title[:13])"
   ]
  },
  {
   "cell_type": "markdown",
   "id": "8abf7698-d1fb-4499-a352-ad247ed08907",
   "metadata": {},
   "source": [
    "### wiki"
   ]
  },
  {
   "cell_type": "code",
   "execution_count": 34,
   "id": "7b186e00-95a7-47b8-860c-5ef94141b471",
   "metadata": {},
   "outputs": [
    {
     "data": {
      "text/plain": [
       "array(['나라 목록', '백남준', '아오조라 문고', ..., '페름의 문장', '오키나와 현립 박물관·미술관',\n",
       "       '단결권 및 단체교섭권 협약'], dtype=object)"
      ]
     },
     "execution_count": 34,
     "metadata": {},
     "output_type": "execute_result"
    }
   ],
   "source": [
    "wiki_df['title'].unique()"
   ]
  },
  {
   "cell_type": "code",
   "execution_count": 35,
   "id": "bc663a08-f597-473e-84da-132c06bbb028",
   "metadata": {},
   "outputs": [],
   "source": [
    "wiki_title=wiki_df['title'].value_counts().sort_values(ascending=False)"
   ]
  },
  {
   "cell_type": "code",
   "execution_count": 74,
   "id": "640d402c-e891-4a21-af54-838d1d73a749",
   "metadata": {},
   "outputs": [
    {
     "data": {
      "text/plain": [
       "60613"
      ]
     },
     "execution_count": 74,
     "metadata": {},
     "output_type": "execute_result"
    }
   ],
   "source": [
    "len(wiki_df)"
   ]
  },
  {
   "cell_type": "code",
   "execution_count": 36,
   "id": "ddb69a3c-db46-457a-b8ff-e705d18fed47",
   "metadata": {},
   "outputs": [
    {
     "data": {
      "text/plain": [
       "31755"
      ]
     },
     "execution_count": 36,
     "metadata": {},
     "output_type": "execute_result"
    }
   ],
   "source": [
    "len(wiki_title)"
   ]
  },
  {
   "cell_type": "code",
   "execution_count": 37,
   "id": "fec9d350-e057-4593-bd37-74776633f91a",
   "metadata": {},
   "outputs": [
    {
     "data": {
      "text/plain": [
       "count    31755.000000\n",
       "mean         1.908770\n",
       "std          2.798489\n",
       "min          1.000000\n",
       "25%          1.000000\n",
       "50%          1.000000\n",
       "75%          2.000000\n",
       "max        146.000000\n",
       "Name: title, dtype: float64"
      ]
     },
     "execution_count": 37,
     "metadata": {},
     "output_type": "execute_result"
    }
   ],
   "source": [
    "wiki_title.describe()"
   ]
  },
  {
   "cell_type": "code",
   "execution_count": 38,
   "id": "e04ff559-af64-4b97-b75f-33361d2859af",
   "metadata": {},
   "outputs": [
    {
     "data": {
      "text/html": [
       "<div>\n",
       "<style scoped>\n",
       "    .dataframe tbody tr th:only-of-type {\n",
       "        vertical-align: middle;\n",
       "    }\n",
       "\n",
       "    .dataframe tbody tr th {\n",
       "        vertical-align: top;\n",
       "    }\n",
       "\n",
       "    .dataframe thead th {\n",
       "        text-align: right;\n",
       "    }\n",
       "</style>\n",
       "<table border=\"1\" class=\"dataframe\">\n",
       "  <thead>\n",
       "    <tr style=\"text-align: right;\">\n",
       "      <th></th>\n",
       "      <th>title</th>\n",
       "    </tr>\n",
       "  </thead>\n",
       "  <tbody>\n",
       "    <tr>\n",
       "      <th>장면</th>\n",
       "      <td>146</td>\n",
       "    </tr>\n",
       "    <tr>\n",
       "      <th>윤치호</th>\n",
       "      <td>144</td>\n",
       "    </tr>\n",
       "    <tr>\n",
       "      <th>여운형</th>\n",
       "      <td>96</td>\n",
       "    </tr>\n",
       "    <tr>\n",
       "      <th>데카메론의 줄거리</th>\n",
       "      <td>68</td>\n",
       "    </tr>\n",
       "    <tr>\n",
       "      <th>루트비히 판 베토벤</th>\n",
       "      <td>66</td>\n",
       "    </tr>\n",
       "    <tr>\n",
       "      <th>제1차 세계 대전</th>\n",
       "      <td>66</td>\n",
       "    </tr>\n",
       "    <tr>\n",
       "      <th>이명박 정부</th>\n",
       "      <td>64</td>\n",
       "    </tr>\n",
       "    <tr>\n",
       "      <th>마음작용 (대승오온론·광오온론)</th>\n",
       "      <td>60</td>\n",
       "    </tr>\n",
       "    <tr>\n",
       "      <th>진나라</th>\n",
       "      <td>58</td>\n",
       "    </tr>\n",
       "    <tr>\n",
       "      <th>전주시의 역사</th>\n",
       "      <td>56</td>\n",
       "    </tr>\n",
       "    <tr>\n",
       "      <th>박근혜 정부</th>\n",
       "      <td>55</td>\n",
       "    </tr>\n",
       "    <tr>\n",
       "      <th>곤충</th>\n",
       "      <td>54</td>\n",
       "    </tr>\n",
       "    <tr>\n",
       "      <th>강희제</th>\n",
       "      <td>52</td>\n",
       "    </tr>\n",
       "  </tbody>\n",
       "</table>\n",
       "</div>"
      ],
      "text/plain": [
       "                   title\n",
       "장면                   146\n",
       "윤치호                  144\n",
       "여운형                   96\n",
       "데카메론의 줄거리             68\n",
       "루트비히 판 베토벤            66\n",
       "제1차 세계 대전             66\n",
       "이명박 정부                64\n",
       "마음작용 (대승오온론·광오온론)     60\n",
       "진나라                   58\n",
       "전주시의 역사               56\n",
       "박근혜 정부                55\n",
       "곤충                    54\n",
       "강희제                   52"
      ]
     },
     "execution_count": 38,
     "metadata": {},
     "output_type": "execute_result"
    }
   ],
   "source": [
    "pd.DataFrame(wiki_title[:13])"
   ]
  },
  {
   "cell_type": "markdown",
   "id": "dcb0fce9-0410-45ad-a28f-ad403caea98e",
   "metadata": {},
   "source": [
    "### train + wiki"
   ]
  },
  {
   "cell_type": "code",
   "execution_count": 40,
   "id": "c82f5c22-bbcb-4cb7-be94-0fe1b2100145",
   "metadata": {},
   "outputs": [
    {
     "data": {
      "text/plain": [
       "Index(['윤치호', '장면', '여운형', '데카메론의 줄거리', '루트비히 비트겐슈타인', '근대', '강희제', '이오 (위성)',\n",
       "       '미치류', '박근혜 정부',\n",
       "       ...\n",
       "       '아르타크세르크세스 2세', '정부는 우리 화폐에 무슨 일을 해왔는가', '동관', '7년의 밤 (영화)', '납땜인두',\n",
       "       '마블고양이', '루키우스 율리우스 카이사르', '안성 용화사 석조여래입상', '제1차 세계 대전 중 벨기에',\n",
       "       '빈 필하모니 관현악단'],\n",
       "      dtype='object', length=2716)"
      ]
     },
     "execution_count": 40,
     "metadata": {},
     "output_type": "execute_result"
    }
   ],
   "source": [
    "train_title.keys()"
   ]
  },
  {
   "cell_type": "code",
   "execution_count": 41,
   "id": "dafe2201-2c09-48ec-a778-aa25899d5fd2",
   "metadata": {},
   "outputs": [
    {
     "data": {
      "text/plain": [
       "Index(['장면', '윤치호', '여운형', '데카메론의 줄거리', '루트비히 판 베토벤', '제1차 세계 대전', '이명박 정부',\n",
       "       '마음작용 (대승오온론·광오온론)', '진나라', '전주시의 역사',\n",
       "       ...\n",
       "       '웃는 남자 (뮤지컬)', '블러드스테인드: 리추얼 오브 더 나이트', '스컬걸즈', '통거미목', '하비스 마잘리',\n",
       "       '인도네시아의 지리', '수인성 질병', '인도네시아의 역사', '이집트의 역사', 'Weiß'],\n",
       "      dtype='object', length=31755)"
      ]
     },
     "execution_count": 41,
     "metadata": {},
     "output_type": "execute_result"
    }
   ],
   "source": [
    "wiki_title.keys()"
   ]
  },
  {
   "cell_type": "code",
   "execution_count": 61,
   "id": "029af3e3-07e5-4b0f-aa3b-a4afbd5ea7e2",
   "metadata": {},
   "outputs": [],
   "source": [
    "tt_count=train_title.reset_index().rename(columns={'index':'title','title':'count'})"
   ]
  },
  {
   "cell_type": "code",
   "execution_count": 62,
   "id": "b82de31e-410a-4b56-b453-881a54743548",
   "metadata": {},
   "outputs": [],
   "source": [
    "wt_count=wiki_title.reset_index().rename(columns={'index':'title','title':'count'})"
   ]
  },
  {
   "cell_type": "code",
   "execution_count": 79,
   "id": "cfce798e-e780-4224-b7b9-ad34428b7ecd",
   "metadata": {},
   "outputs": [
    {
     "data": {
      "text/html": [
       "<div>\n",
       "<style scoped>\n",
       "    .dataframe tbody tr th:only-of-type {\n",
       "        vertical-align: middle;\n",
       "    }\n",
       "\n",
       "    .dataframe tbody tr th {\n",
       "        vertical-align: top;\n",
       "    }\n",
       "\n",
       "    .dataframe thead th {\n",
       "        text-align: right;\n",
       "    }\n",
       "</style>\n",
       "<table border=\"1\" class=\"dataframe\">\n",
       "  <thead>\n",
       "    <tr style=\"text-align: right;\">\n",
       "      <th></th>\n",
       "      <th>title</th>\n",
       "      <th>count_train</th>\n",
       "      <th>count_wiki</th>\n",
       "    </tr>\n",
       "  </thead>\n",
       "  <tbody>\n",
       "    <tr>\n",
       "      <th>0</th>\n",
       "      <td>윤치호</td>\n",
       "      <td>43</td>\n",
       "      <td>144</td>\n",
       "    </tr>\n",
       "    <tr>\n",
       "      <th>1</th>\n",
       "      <td>장면</td>\n",
       "      <td>24</td>\n",
       "      <td>146</td>\n",
       "    </tr>\n",
       "    <tr>\n",
       "      <th>2</th>\n",
       "      <td>여운형</td>\n",
       "      <td>23</td>\n",
       "      <td>96</td>\n",
       "    </tr>\n",
       "    <tr>\n",
       "      <th>3</th>\n",
       "      <td>데카메론의 줄거리</td>\n",
       "      <td>13</td>\n",
       "      <td>68</td>\n",
       "    </tr>\n",
       "    <tr>\n",
       "      <th>4</th>\n",
       "      <td>루트비히 비트겐슈타인</td>\n",
       "      <td>13</td>\n",
       "      <td>22</td>\n",
       "    </tr>\n",
       "    <tr>\n",
       "      <th>5</th>\n",
       "      <td>근대</td>\n",
       "      <td>13</td>\n",
       "      <td>48</td>\n",
       "    </tr>\n",
       "    <tr>\n",
       "      <th>6</th>\n",
       "      <td>강희제</td>\n",
       "      <td>11</td>\n",
       "      <td>52</td>\n",
       "    </tr>\n",
       "    <tr>\n",
       "      <th>7</th>\n",
       "      <td>이오 (위성)</td>\n",
       "      <td>11</td>\n",
       "      <td>30</td>\n",
       "    </tr>\n",
       "    <tr>\n",
       "      <th>8</th>\n",
       "      <td>미치류</td>\n",
       "      <td>11</td>\n",
       "      <td>46</td>\n",
       "    </tr>\n",
       "    <tr>\n",
       "      <th>9</th>\n",
       "      <td>박근혜 정부</td>\n",
       "      <td>10</td>\n",
       "      <td>55</td>\n",
       "    </tr>\n",
       "    <tr>\n",
       "      <th>10</th>\n",
       "      <td>제1차 세계 대전</td>\n",
       "      <td>10</td>\n",
       "      <td>66</td>\n",
       "    </tr>\n",
       "    <tr>\n",
       "      <th>11</th>\n",
       "      <td>자유한국당</td>\n",
       "      <td>10</td>\n",
       "      <td>44</td>\n",
       "    </tr>\n",
       "    <tr>\n",
       "      <th>14</th>\n",
       "      <td>확증 편향</td>\n",
       "      <td>9</td>\n",
       "      <td>40</td>\n",
       "    </tr>\n",
       "    <tr>\n",
       "      <th>12</th>\n",
       "      <td>대한제국 고종</td>\n",
       "      <td>9</td>\n",
       "      <td>44</td>\n",
       "    </tr>\n",
       "    <tr>\n",
       "      <th>13</th>\n",
       "      <td>고구려-당 전쟁</td>\n",
       "      <td>9</td>\n",
       "      <td>44</td>\n",
       "    </tr>\n",
       "  </tbody>\n",
       "</table>\n",
       "</div>"
      ],
      "text/plain": [
       "          title  count_train  count_wiki\n",
       "0           윤치호           43         144\n",
       "1            장면           24         146\n",
       "2           여운형           23          96\n",
       "3     데카메론의 줄거리           13          68\n",
       "4   루트비히 비트겐슈타인           13          22\n",
       "5            근대           13          48\n",
       "6           강희제           11          52\n",
       "7       이오 (위성)           11          30\n",
       "8           미치류           11          46\n",
       "9        박근혜 정부           10          55\n",
       "10    제1차 세계 대전           10          66\n",
       "11        자유한국당           10          44\n",
       "14        확증 편향            9          40\n",
       "12      대한제국 고종            9          44\n",
       "13     고구려-당 전쟁            9          44"
      ]
     },
     "execution_count": 79,
     "metadata": {},
     "output_type": "execute_result"
    }
   ],
   "source": [
    "mg_count=tt_count.merge(wt_count,how='inner',on='title',suffixes=(\"_train\",\"_wiki\")).sort_values(by='count_train',ascending=False)\n",
    "mg_100 = mg_count[:100]\n",
    "mg_count[:15]"
   ]
  },
  {
   "cell_type": "code",
   "execution_count": 88,
   "id": "e0d4db8e-d0c9-433d-931b-1f3d304434bb",
   "metadata": {},
   "outputs": [
    {
     "data": {
      "image/png": "[encoded data removed]",
      "text/plain": [
       "<Figure size 640x480 with 1 Axes>"
      ]
     },
     "metadata": {},
     "output_type": "display_data"
    }
   ],
   "source": [
    "plt.plot(list(mg_100['title']), list(mg_100['count_train']),list(mg_100['title']), list(mg_100['count_wiki']))\n",
    "plt.xticks(rotation = 90)\n",
    "plt.show()"
   ]
  },
  {
   "cell_type": "code",
   "execution_count": 87,
   "id": "393679b7-00c0-4b13-bc44-59fa9545a546",
   "metadata": {},
   "outputs": [
    {
     "data": {
      "image/png": "[encoded data removed]",
      "text/plain": [
       "<Figure size 640x480 with 1 Axes>"
      ]
     },
     "metadata": {},
     "output_type": "display_data"
    }
   ],
   "source": [
    "plt.plot(list(mg_100['title']), list(mg_100['count_train']//np.mean(mg_100['count_train'])),list(mg_100['title']), list(mg_100['count_wiki']//np.mean(mg_100['count_wiki'])))\n",
    "plt.xticks(rotation = 90)\n",
    "plt.show()"
   ]
  },
  {
   "cell_type": "markdown",
   "id": "8b24c427-c530-468b-9c94-5a2349d0e64d",
   "metadata": {
    "tags": []
   },
   "source": [
    "## Context Len 분석"
   ]
  },
  {
   "cell_type": "markdown",
   "id": "c500b2a1-839e-48c2-9a85-e5edca73b3aa",
   "metadata": {
    "tags": []
   },
   "source": [
    "### train"
   ]
  },
  {
   "cell_type": "code",
   "execution_count": 20,
   "id": "7d6c8083-1ca5-4a1e-9b8c-6e3c8a57ddad",
   "metadata": {},
   "outputs": [
    {
     "data": {
      "text/plain": [
       "count    3952.000000\n",
       "mean      920.220648\n",
       "std       356.500514\n",
       "min       512.000000\n",
       "25%       645.000000\n",
       "50%       819.000000\n",
       "75%      1099.250000\n",
       "max      2059.000000\n",
       "Name: context_len, dtype: float64"
      ]
     },
     "execution_count": 20,
     "metadata": {},
     "output_type": "execute_result"
    }
   ],
   "source": [
    "train_df['context_len'].describe()"
   ]
  },
  {
   "cell_type": "code",
   "execution_count": 53,
   "id": "7966428b-4272-4f04-bd3a-bf087faece3c",
   "metadata": {},
   "outputs": [],
   "source": [
    "context_count= []\n",
    "for i in range(0,210):\n",
    "    context_count.append(len(train_df[(train_df['context_len']>i*10)&(train_df['context_len']<=(i+1)*10)]))"
   ]
  },
  {
   "cell_type": "code",
   "execution_count": 93,
   "id": "035f36db-affa-4715-ba09-aa886c6ea18f",
   "metadata": {},
   "outputs": [
    {
     "data": {
      "image/png": "[encoded data removed]",
      "text/plain": [
       "<Figure size 1500x800 with 2 Axes>"
      ]
     },
     "metadata": {},
     "output_type": "display_data"
    }
   ],
   "source": [
    "fig = plt.figure(figsize=(15,8))\n",
    "ax1 = fig.add_subplot(121)\n",
    "ax2 = fig.add_subplot(122)\n",
    "ax1.bar(range(0,210),context_count)\n",
    "ax1.set_title('train context len count bar')\n",
    "ax2.boxplot([train_df['context_len']],notch=True,whis=2.5)\n",
    "ax2.set_ylim(-10.0, 2500.0)\n",
    "ax2.set_xticks([1])\n",
    "ax2.set_title('train context len count box')\n",
    "plt.show()"
   ]
  },
  {
   "cell_type": "markdown",
   "id": "5955f10f-c7ad-4681-a3f2-7a5eb6f0b653",
   "metadata": {
    "tags": []
   },
   "source": [
    "### validation"
   ]
  },
  {
   "cell_type": "code",
   "execution_count": 90,
   "id": "13834831-bd21-4aa1-a9ee-a749e9b47764",
   "metadata": {},
   "outputs": [
    {
     "data": {
      "text/plain": [
       "count     240.000000\n",
       "mean      916.725000\n",
       "std       360.032122\n",
       "min       517.000000\n",
       "25%       616.750000\n",
       "50%       820.500000\n",
       "75%      1107.250000\n",
       "max      2064.000000\n",
       "Name: context_len, dtype: float64"
      ]
     },
     "execution_count": 90,
     "metadata": {},
     "output_type": "execute_result"
    }
   ],
   "source": [
    "val_df['context_len'].describe()"
   ]
  },
  {
   "cell_type": "code",
   "execution_count": 91,
   "id": "75b45c8a-9cf0-4d6b-8cb5-39ba686a6b2d",
   "metadata": {},
   "outputs": [],
   "source": [
    "val_context_count= []\n",
    "for i in range(0,210):\n",
    "    val_context_count.append(len(train_df[(train_df['context_len']>i*10)&(train_df['context_len']<=(i+1)*10)]))"
   ]
  },
  {
   "cell_type": "code",
   "execution_count": 92,
   "id": "ebe7a573-b334-48b6-8dc8-492cf970273f",
   "metadata": {},
   "outputs": [
    {
     "data": {
      "image/png": "[encoded data removed]",
      "text/plain": [
       "<Figure size 1500x800 with 2 Axes>"
      ]
     },
     "metadata": {},
     "output_type": "display_data"
    }
   ],
   "source": [
    "fig = plt.figure(figsize=(15,8))\n",
    "ax1 = fig.add_subplot(121)\n",
    "ax2 = fig.add_subplot(122)\n",
    "ax1.bar(range(0,210),val_context_count)\n",
    "ax1.set_title('validation context len count bar')\n",
    "ax2.boxplot([val_df['context_len']],notch=True,whis=2.5)\n",
    "ax2.set_ylim(-10.0, 2500.0)\n",
    "ax2.set_xticks([1])\n",
    "ax2.set_title('validation context len count box')\n",
    "plt.show()"
   ]
  },
  {
   "cell_type": "markdown",
   "id": "db9fd250-3d80-42e9-a213-8d7ece18d3c1",
   "metadata": {},
   "source": [
    "### wiki"
   ]
  },
  {
   "cell_type": "code",
   "execution_count": 101,
   "id": "e562af88-b46c-4d4f-8825-23040e465957",
   "metadata": {},
   "outputs": [
    {
     "data": {
      "text/plain": [
       "count    60613.000000\n",
       "mean       755.565044\n",
       "std        762.962671\n",
       "min        184.000000\n",
       "25%        414.000000\n",
       "50%        577.000000\n",
       "75%        857.000000\n",
       "max      46099.000000\n",
       "Name: text_len, dtype: float64"
      ]
     },
     "execution_count": 101,
     "metadata": {},
     "output_type": "execute_result"
    }
   ],
   "source": [
    "wiki_df['text_len'].describe()"
   ]
  },
  {
   "cell_type": "code",
   "execution_count": 109,
   "id": "6c1f6aeb-a7ae-407a-b017-3861c8326786",
   "metadata": {},
   "outputs": [],
   "source": [
    "wiki_text_count= []\n",
    "for i in range(0,500):\n",
    "    wiki_text_count.append(len(wiki_df[(wiki_df['text_len']>i*10)&(wiki_df['text_len']<=(i+1)*10)]))"
   ]
  },
  {
   "cell_type": "code",
   "execution_count": 110,
   "id": "ab2544b3-95d5-4477-9afb-8b6a22acf227",
   "metadata": {},
   "outputs": [
    {
     "data": {
      "image/png": "[encoded data removed]",
      "text/plain": [
       "<Figure size 1500x800 with 2 Axes>"
      ]
     },
     "metadata": {},
     "output_type": "display_data"
    }
   ],
   "source": [
    "fig = plt.figure(figsize=(15,8))\n",
    "ax1 = fig.add_subplot(121)\n",
    "ax2 = fig.add_subplot(122)\n",
    "ax1.bar(range(0,500),wiki_text_count)\n",
    "ax1.set_title('wiki text len count bar')\n",
    "ax2.boxplot([wiki_df['text_len']],notch=True,whis=2.5)\n",
    "ax2.set_ylim(-10.0, 2500.0)\n",
    "ax2.set_xticks([1])\n",
    "ax2.set_title('wiki text len count box')\n",
    "plt.show()"
   ]
  },
  {
   "cell_type": "code",
   "execution_count": 114,
   "id": "cb929347-8ee4-450a-9c5e-156f1137afde",
   "metadata": {},
   "outputs": [
    {
     "data": {
      "text/plain": [
       "2102"
      ]
     },
     "execution_count": 114,
     "metadata": {},
     "output_type": "execute_result"
    }
   ],
   "source": [
    "len(wiki_df[wiki_df['text_len']>2000])"
   ]
  },
  {
   "cell_type": "code",
   "execution_count": 117,
   "id": "b6c2d59c-9f83-4587-81a7-a8a562ecce4b",
   "metadata": {},
   "outputs": [
    {
     "data": {
      "text/plain": [
       "0.034679029251150746"
      ]
     },
     "execution_count": 117,
     "metadata": {},
     "output_type": "execute_result"
    }
   ],
   "source": [
    "len(wiki_df[wiki_df['text_len']>2000])/len(wiki_df)"
   ]
  },
  {
   "cell_type": "markdown",
   "id": "78a968b1-657d-4c18-aff8-fa9fa45824dd",
   "metadata": {
    "tags": []
   },
   "source": [
    "## question len 분석"
   ]
  },
  {
   "cell_type": "markdown",
   "id": "cffa5685-90fa-4312-a80c-3ab8088e3d16",
   "metadata": {},
   "source": [
    "### train"
   ]
  },
  {
   "cell_type": "code",
   "execution_count": 56,
   "id": "ab106049-2f1e-4228-a7f3-4df8a5d5ebea",
   "metadata": {},
   "outputs": [
    {
     "data": {
      "text/plain": [
       "count    3952.000000\n",
       "mean       29.322368\n",
       "std         8.727421\n",
       "min         8.000000\n",
       "25%        23.000000\n",
       "50%        29.000000\n",
       "75%        35.000000\n",
       "max        78.000000\n",
       "Name: question_len, dtype: float64"
      ]
     },
     "execution_count": 56,
     "metadata": {},
     "output_type": "execute_result"
    }
   ],
   "source": [
    "train_df['question_len'].describe()"
   ]
  },
  {
   "cell_type": "code",
   "execution_count": 136,
   "id": "680338d2-a54c-4c02-8e91-028a3987219d",
   "metadata": {},
   "outputs": [],
   "source": [
    "question_count= []\n",
    "for i in range(0,80):\n",
    "    question_count.append(len(train_df[(train_df['question_len']>i*1)&(train_df['question_len']<=(i+1)*1)]))"
   ]
  },
  {
   "cell_type": "code",
   "execution_count": 137,
   "id": "36836892-e8fa-40d6-9731-613381f98530",
   "metadata": {},
   "outputs": [
    {
     "data": {
      "image/png": "[encoded data removed]",
      "text/plain": [
       "<Figure size 1500x800 with 2 Axes>"
      ]
     },
     "metadata": {},
     "output_type": "display_data"
    }
   ],
   "source": [
    "fig = plt.figure(figsize=(15,8))\n",
    "ax1 = fig.add_subplot(121)\n",
    "ax2 = fig.add_subplot(122)\n",
    "ax1.bar(range(0,80),question_count)\n",
    "ax1.set_title('train question len count bar')\n",
    "ax2.boxplot([train_df['question_len']],notch=True,whis=2.5)\n",
    "ax2.set_ylim(-10.0, 100.0)\n",
    "ax2.set_xticks([1])\n",
    "ax2.set_title('train question len count box')\n",
    "plt.show()"
   ]
  },
  {
   "cell_type": "markdown",
   "id": "e62c12ac-3c1f-4258-a3e5-2531c7dd7b93",
   "metadata": {},
   "source": [
    "### validation"
   ]
  },
  {
   "cell_type": "code",
   "execution_count": 123,
   "id": "08fc3ddf-3a0b-409e-9dcb-29938129a6fe",
   "metadata": {},
   "outputs": [
    {
     "data": {
      "text/plain": [
       "count    240.000000\n",
       "mean      29.195833\n",
       "std        8.728301\n",
       "min        9.000000\n",
       "25%       23.000000\n",
       "50%       29.000000\n",
       "75%       35.000000\n",
       "max       59.000000\n",
       "Name: question_len, dtype: float64"
      ]
     },
     "execution_count": 123,
     "metadata": {},
     "output_type": "execute_result"
    }
   ],
   "source": [
    "val_df['question_len'].describe()"
   ]
  },
  {
   "cell_type": "code",
   "execution_count": 124,
   "id": "1538836e-3847-4ce1-b2e9-0e7a4c420e49",
   "metadata": {},
   "outputs": [],
   "source": [
    "question_val= []\n",
    "for i in range(0,80):\n",
    "    question_val.append(len(val_df[(val_df['question_len']>i*1)&(val_df['question_len']<=(i+1)*1)]))"
   ]
  },
  {
   "cell_type": "code",
   "execution_count": 134,
   "id": "e06d7cc9-7672-4c04-8249-a58112d99be6",
   "metadata": {},
   "outputs": [
    {
     "data": {
      "image/png": "[encoded data removed]",
      "text/plain": [
       "<Figure size 1500x800 with 2 Axes>"
      ]
     },
     "metadata": {},
     "output_type": "display_data"
    }
   ],
   "source": [
    "fig = plt.figure(figsize=(15,8))\n",
    "ax1 = fig.add_subplot(121)\n",
    "ax2 = fig.add_subplot(122)\n",
    "ax1.bar(range(0,80),question_val)\n",
    "ax1.set_title('validation question len count bar')\n",
    "ax2.boxplot([val_df['question_len']],notch=True,whis=2.5)\n",
    "ax2.set_ylim(-10.0, 100.0)\n",
    "ax2.set_xticks([1])\n",
    "ax2.set_title('validation question len count box')\n",
    "plt.show()"
   ]
  },
  {
   "cell_type": "markdown",
   "id": "76c23ff1-0c62-4469-a92a-2486857617b8",
   "metadata": {},
   "source": [
    "### test"
   ]
  },
  {
   "cell_type": "code",
   "execution_count": 120,
   "id": "0910b875-a78b-4271-bbe0-b67bde7636a7",
   "metadata": {},
   "outputs": [
    {
     "data": {
      "text/plain": [
       "count    600.000000\n",
       "mean      29.555000\n",
       "std        8.962376\n",
       "min        8.000000\n",
       "25%       23.000000\n",
       "50%       29.000000\n",
       "75%       35.000000\n",
       "max       62.000000\n",
       "Name: question_len, dtype: float64"
      ]
     },
     "execution_count": 120,
     "metadata": {},
     "output_type": "execute_result"
    }
   ],
   "source": [
    "test_df['question_len'].describe()"
   ]
  },
  {
   "cell_type": "code",
   "execution_count": 121,
   "id": "7283dea3-8aee-4924-a232-0ff61ff418ea",
   "metadata": {},
   "outputs": [],
   "source": [
    "question_test= []\n",
    "for i in range(0,80):\n",
    "    question_test.append(len(test_df[(test_df['question_len']>i*1)&(test_df['question_len']<=(i+1)*1)]))"
   ]
  },
  {
   "cell_type": "code",
   "execution_count": 133,
   "id": "e68ea382-b711-4fea-ac7f-12e80fddf2c5",
   "metadata": {},
   "outputs": [
    {
     "data": {
      "image/png": "[encoded data removed]",
      "text/plain": [
       "<Figure size 1500x800 with 2 Axes>"
      ]
     },
     "metadata": {},
     "output_type": "display_data"
    }
   ],
   "source": [
    "fig = plt.figure(figsize=(15,8))\n",
    "ax1 = fig.add_subplot(121)\n",
    "ax2 = fig.add_subplot(122)\n",
    "ax1.bar(range(0,80),question_test)\n",
    "ax1.set_title('test question len count bar')\n",
    "ax2.boxplot([test_df['question_len']],notch=True,whis=2.5)\n",
    "ax2.set_ylim(-10.0, 100.0)\n",
    "ax2.set_xticks([1])\n",
    "ax2.set_title('test question len count box')\n",
    "plt.show()"
   ]
  },
  {
   "cell_type": "markdown",
   "id": "b4fcd45f-e106-4656-b6b2-5d96cba8eae8",
   "metadata": {
    "tags": []
   },
   "source": [
    "## answer len 분석"
   ]
  },
  {
   "cell_type": "markdown",
   "id": "da5d217d-de60-4e68-9b92-bd94051a16b7",
   "metadata": {},
   "source": [
    "### train"
   ]
  },
  {
   "cell_type": "code",
   "execution_count": 131,
   "id": "8da55023-d282-4ba0-abce-d864e8f3aadf",
   "metadata": {},
   "outputs": [
    {
     "data": {
      "text/plain": [
       "count    3952.000000\n",
       "mean        6.275051\n",
       "std         5.346842\n",
       "min         1.000000\n",
       "25%         3.000000\n",
       "50%         5.000000\n",
       "75%         8.000000\n",
       "max        83.000000\n",
       "Name: answer_len, dtype: float64"
      ]
     },
     "execution_count": 131,
     "metadata": {},
     "output_type": "execute_result"
    }
   ],
   "source": [
    "train_df['answer_len'].describe()"
   ]
  },
  {
   "cell_type": "code",
   "execution_count": 141,
   "id": "d073428b-a84b-48ae-8865-917d39c22704",
   "metadata": {},
   "outputs": [],
   "source": [
    "train_answer= []\n",
    "for i in range(0,50):\n",
    "    train_answer.append(len(train_df[(train_df['answer_len']>i*1)&(train_df['answer_len']<=(i+1)*1)]))"
   ]
  },
  {
   "cell_type": "code",
   "execution_count": 142,
   "id": "fce77ccd-3e33-4254-9808-0f7a1f9a6845",
   "metadata": {},
   "outputs": [
    {
     "data": {
      "image/png": "[encoded data removed]",
      "text/plain": [
       "<Figure size 1500x800 with 2 Axes>"
      ]
     },
     "metadata": {},
     "output_type": "display_data"
    }
   ],
   "source": [
    "fig = plt.figure(figsize=(15,8))\n",
    "ax1 = fig.add_subplot(121)\n",
    "ax2 = fig.add_subplot(122)\n",
    "ax1.bar(range(0,50),train_answer)\n",
    "ax1.set_title('train answer len count bar')\n",
    "ax2.boxplot([train_df['answer_len']],notch=True,whis=2.5)\n",
    "ax2.set_ylim(-10.0, 100.0)\n",
    "ax2.set_xticks([1])\n",
    "ax2.set_title('train answer len count box')\n",
    "plt.show()"
   ]
  },
  {
   "cell_type": "code",
   "execution_count": 148,
   "id": "e43fd2c4-db04-4dea-98e6-2bf1dd4760d5",
   "metadata": {},
   "outputs": [
    {
     "data": {
      "text/plain": [
       "3952"
      ]
     },
     "execution_count": 148,
     "metadata": {},
     "output_type": "execute_result"
    }
   ],
   "source": [
    "len(train_df)"
   ]
  },
  {
   "cell_type": "code",
   "execution_count": 147,
   "id": "bda5ab58-1cbf-4982-8dc7-e1c2c9f8f54e",
   "metadata": {},
   "outputs": [
    {
     "data": {
      "text/plain": [
       "25"
      ]
     },
     "execution_count": 147,
     "metadata": {},
     "output_type": "execute_result"
    }
   ],
   "source": [
    "len(train_df[train_df['answer_len']>30])"
   ]
  },
  {
   "cell_type": "markdown",
   "id": "33b67076-9e6f-4720-a609-90ccc8823a1c",
   "metadata": {},
   "source": [
    "### validation"
   ]
  },
  {
   "cell_type": "code",
   "execution_count": 143,
   "id": "a13265e4-6c45-415f-a458-6cfd67568408",
   "metadata": {},
   "outputs": [
    {
     "data": {
      "text/plain": [
       "count    240.000000\n",
       "mean       6.912500\n",
       "std        6.858755\n",
       "min        1.000000\n",
       "25%        3.000000\n",
       "50%        5.000000\n",
       "75%        8.000000\n",
       "max       64.000000\n",
       "Name: answer_len, dtype: float64"
      ]
     },
     "execution_count": 143,
     "metadata": {},
     "output_type": "execute_result"
    }
   ],
   "source": [
    "val_df['answer_len'].describe()"
   ]
  },
  {
   "cell_type": "code",
   "execution_count": 144,
   "id": "804d7339-adb5-4fcb-a428-6ef9c013656a",
   "metadata": {},
   "outputs": [],
   "source": [
    "val_answer= []\n",
    "for i in range(0,50):\n",
    "    val_answer.append(len(val_df[(val_df['answer_len']>i*1)&(val_df['answer_len']<=(i+1)*1)]))"
   ]
  },
  {
   "cell_type": "code",
   "execution_count": 145,
   "id": "798cf889-297c-402e-b771-c1eef08b0ea0",
   "metadata": {},
   "outputs": [
    {
     "data": {
      "image/png": "[encoded data removed]",
      "text/plain": [
       "<Figure size 1500x800 with 2 Axes>"
      ]
     },
     "metadata": {},
     "output_type": "display_data"
    }
   ],
   "source": [
    "fig = plt.figure(figsize=(15,8))\n",
    "ax1 = fig.add_subplot(121)\n",
    "ax2 = fig.add_subplot(122)\n",
    "ax1.bar(range(0,50),val_answer)\n",
    "ax1.set_title('validation answer len count bar')\n",
    "ax2.boxplot([val_df['answer_len']],notch=True,whis=2.5)\n",
    "ax2.set_ylim(-10.0, 100.0)\n",
    "ax2.set_xticks([1])\n",
    "ax2.set_title('validation answer len count box')\n",
    "plt.show()"
   ]
  },
  {
   "cell_type": "code",
   "execution_count": 149,
   "id": "0f74e8de-f2c9-4290-95f5-b9e8deb0bf81",
   "metadata": {},
   "outputs": [
    {
     "data": {
      "text/plain": [
       "240"
      ]
     },
     "execution_count": 149,
     "metadata": {},
     "output_type": "execute_result"
    }
   ],
   "source": [
    "len(val_df)"
   ]
  },
  {
   "cell_type": "code",
   "execution_count": 150,
   "id": "b3d30bed-7670-4f43-aa08-4c7271df5153",
   "metadata": {},
   "outputs": [
    {
     "data": {
      "text/plain": [
       "4"
      ]
     },
     "execution_count": 150,
     "metadata": {},
     "output_type": "execute_result"
    }
   ],
   "source": [
    "len(val_df[val_df['answer_len']>30])"
   ]
  },
  {
   "cell_type": "code",
   "execution_count": null,
   "id": "9cb66991-8a9e-4be8-b3de-0a43cdf34e9e",
   "metadata": {},
   "outputs": [],
   "source": []
  }
 ],
 "metadata": {
  "kernelspec": {
   "display_name": "Python 3 (ipykernel)",
   "language": "python",
   "name": "python3"
  },
  "language_info": {
   "codemirror_mode": {
    "name": "ipython",
    "version": 3
   },
   "file_extension": ".py",
   "mimetype": "text/x-python",
   "name": "python",
   "nbconvert_exporter": "python",
   "pygments_lexer": "ipython3",
   "version": "3.8.5"
  }
 },
 "nbformat": 4,
 "nbformat_minor": 5
}

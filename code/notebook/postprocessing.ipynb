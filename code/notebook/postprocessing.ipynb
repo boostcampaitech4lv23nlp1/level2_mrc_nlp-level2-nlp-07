{
 "cells": [
  {
   "attachments": {},
   "cell_type": "markdown",
   "metadata": {},
   "source": [
    "## Post processing"
   ]
  },
  {
   "attachments": {},
   "cell_type": "markdown",
   "metadata": {},
   "source": [
    "### 괄호 짝 맞추기"
   ]
  },
  {
   "attachments": {},
   "cell_type": "markdown",
   "metadata": {},
   "source": [
    "보통 정답에 괄호가 존재한다면 그 짝이 맞춰져야 한다. 그렇지 않은 경우에 한해 괄호 짝을 맞추어주자"
   ]
  },
  {
   "cell_type": "code",
   "execution_count": 109,
   "metadata": {},
   "outputs": [],
   "source": [
    "import os\n",
    "import pandas as pd\n",
    "import json\n",
    "from konlpy.tag import Okt\n",
    "\n",
    "data_path = '/opt/ml/input/code/level2_mrc_nlp-level2-nlp-07/code/outputs/roberta-large-all-dataset/predictions.json'\n",
    "\n",
    "with open(os.path.join(data_path), \"r\", encoding=\"utf-8\") as f:\n",
    "    data = json.load(f)\n",
    "    \n",
    "ans = list(data.values())\n",
    "ids = list(data.keys())"
   ]
  },
  {
   "cell_type": "code",
   "execution_count": null,
   "metadata": {},
   "outputs": [],
   "source": [
    "for i in range(len(ans)):\n",
    "    if \"(\" in ans[i] and \")\" not in ans[i]:\n",
    "        ans[i] = ans[i] + ')'\n",
    "    elif \"(\" not in ans[i] and \")\" in ans[i]:\n",
    "        ans[i] = '(' + ans[i]\n",
    "    elif \"<\" in ans[i] and \">\" not in ans[i]:\n",
    "        ans[i] = ans[i] + '>'\n",
    "    elif \"<\" not in ans[i] and \">\" in ans[i]:\n",
    "        ans[i] = '<' + ans[i]"
   ]
  },
  {
   "cell_type": "code",
   "execution_count": null,
   "metadata": {},
   "outputs": [],
   "source": [
    "final = dict(zip(ids, ans))"
   ]
  },
  {
   "cell_type": "code",
   "execution_count": null,
   "metadata": {},
   "outputs": [],
   "source": [
    "# with open('./postprocessing.json', 'w') as f : \n",
    "# \tjson.dump(final, f, indent=4)"
   ]
  },
  {
   "attachments": {},
   "cell_type": "markdown",
   "metadata": {},
   "source": [
    "### 형태소 분석기로 조사 지우기"
   ]
  },
  {
   "attachments": {},
   "cell_type": "markdown",
   "metadata": {},
   "source": [
    "정답으로 내뱉는 값들 중에서는 조사가 같이 붙어있는 경우가 많은 모델이 존재한다. 단순하게 조사를 제거함으로써 정답과 일치하는 경우가 있을 때 사용하도록 한다."
   ]
  },
  {
   "cell_type": "code",
   "execution_count": 114,
   "metadata": {},
   "outputs": [],
   "source": [
    "import os\n",
    "import pandas as pd\n",
    "import json\n",
    "from konlpy.tag import Okt\n",
    "\n",
    "data_path = '/opt/ml/input/code/level2_mrc_nlp-level2-nlp-07/code/outputs/roberta-large-all-dataset/predictions.json'\n",
    "\n",
    "with open(os.path.join(data_path), \"r\", encoding=\"utf-8\") as f:\n",
    "    data = json.load(f)\n",
    "    \n",
    "ans = list(data.values())\n",
    "ids = list(data.keys())"
   ]
  },
  {
   "cell_type": "code",
   "execution_count": 110,
   "metadata": {},
   "outputs": [],
   "source": [
    "for i in range(len(ans)):\n",
    "    text = Okt().pos(ans[i])\n",
    "    if text[-1][1] == 'Josa':\n",
    "        target = text[-1][0]\n",
    "        clean = ans[i].rstrip(target)\n",
    "        ans[i] = clean"
   ]
  },
  {
   "cell_type": "code",
   "execution_count": 112,
   "metadata": {},
   "outputs": [],
   "source": [
    "final = dict(zip(ids, ans))"
   ]
  },
  {
   "cell_type": "code",
   "execution_count": null,
   "metadata": {},
   "outputs": [],
   "source": [
    "# with open('./postprocessing.json', 'w') as f : \n",
    "# \tjson.dump(final, f, indent=4)"
   ]
  },
  {
   "cell_type": "code",
   "execution_count": null,
   "metadata": {},
   "outputs": [],
   "source": []
  }
 ],
 "metadata": {
  "kernelspec": {
   "display_name": "base",
   "language": "python",
   "name": "python3"
  },
  "language_info": {
   "codemirror_mode": {
    "name": "ipython",
    "version": 3
   },
   "file_extension": ".py",
   "mimetype": "text/x-python",
   "name": "python",
   "nbconvert_exporter": "python",
   "pygments_lexer": "ipython3",
   "version": "3.8.5"
  },
  "orig_nbformat": 4,
  "vscode": {
   "interpreter": {
    "hash": "d4d1e4263499bec80672ea0156c357c1ee493ec2b1c70f0acce89fc37c4a6abe"
   }
  }
 },
 "nbformat": 4,
 "nbformat_minor": 2
}

{
 "cells": [
  {
   "cell_type": "code",
   "execution_count": 1,
   "id": "d880f9cd-efa8-45c7-9f2c-a307e1d5717f",
   "metadata": {},
   "outputs": [
    {
     "name": "stderr",
     "output_type": "stream",
     "text": [
      "/opt/conda/lib/python3.8/site-packages/tqdm/auto.py:22: TqdmWarning: IProgress not found. Please update jupyter and ipywidgets. See https://ipywidgets.readthedocs.io/en/stable/user_install.html\n",
      "  from .autonotebook import tqdm as notebook_tqdm\n"
     ]
    }
   ],
   "source": [
    "import pandas as pd\n",
    "import torch\n",
    "import matplotlib as mpl\n",
    "import matplotlib.pyplot as plt\n",
    "from datasets import DatasetDict, load_from_disk, Dataset, concatenate_datasets\n",
    "import re"
   ]
  },
  {
   "cell_type": "code",
   "execution_count": 2,
   "id": "c406c7d0-3a33-4a28-aca6-2c53ecd8f9c9",
   "metadata": {},
   "outputs": [],
   "source": [
    "import json\n",
    "with open('/opt/ml/input/data/ai_hub/ko_nia_clue0529_squad_all.json','r') as f:\n",
    "    clue0529 = json.load(f)\n",
    "with open('/opt/ml/input/data/ai_hub/ko_nia_noanswer_squad_all.json','r') as f:\n",
    "    noanswer = json.load(f)\n",
    "with open('/opt/ml/input/data/ai_hub/ko_nia_normal_squad_all.json','r') as f:\n",
    "    normal = json.load(f)"
   ]
  },
  {
   "cell_type": "code",
   "execution_count": 6,
   "id": "25fc7cbd-e770-4883-9bd5-a20ebbc50683",
   "metadata": {},
   "outputs": [
    {
     "data": {
      "text/plain": [
       "dict_keys(['data', 'creator', 'version'])"
      ]
     },
     "execution_count": 6,
     "metadata": {},
     "output_type": "execute_result"
    }
   ],
   "source": [
    "clue0529.keys()"
   ]
  },
  {
   "cell_type": "code",
   "execution_count": 8,
   "id": "0cb250bf-cc7c-4e5a-8fba-0e387db44844",
   "metadata": {},
   "outputs": [
    {
     "data": {
      "text/plain": [
       "34500"
      ]
     },
     "execution_count": 8,
     "metadata": {},
     "output_type": "execute_result"
    }
   ],
   "source": [
    "len(clue0529['data'])"
   ]
  },
  {
   "cell_type": "code",
   "execution_count": 7,
   "id": "bf543ec8-1353-4ce0-8796-1995be4ef1ad",
   "metadata": {},
   "outputs": [
    {
     "data": {
      "text/plain": [
       "{'source': 4,\n",
       " 'paragraphs': [{'qas': [{'classtype': 'work_why',\n",
       "     'id': 'm6_409391-1',\n",
       "     'answers': [{'text': '수도 동파', 'answer_start': 144}],\n",
       "     'question': '재개발단지에 남아있는 주민들이 불편을 겪는 이유는 뭐야?',\n",
       "     'clue': [{'clue_start': 173,\n",
       "       'clue_text': '미처 이사를 가지 못한 거주민들은 새는 물을 대야로 바치거나 습기가 가득 찬 마루 바닥을 온풍기로 말리며 힘겨운 겨울을 나고 있다.'}]},\n",
       "    {'classtype': 'work_why',\n",
       "     'id': 'm6_409391-2',\n",
       "     'answers': [{'text': '수도 동파', 'answer_start': 144}],\n",
       "     'question': '재개발단지에 남아있는 주민들이 불편을 겪는 이유는 무엇이야?',\n",
       "     'clue': [{'clue_start': 173,\n",
       "       'clue_text': '미처 이사를 가지 못한 거주민들은 새는 물을 대야로 바치거나 습기가 가득 찬 마루 바닥을 온풍기로 말리며 힘겨운 겨울을 나고 있다.'}]},\n",
       "    {'classtype': 'work_what',\n",
       "     'id': 'm6_409392-1',\n",
       "     'answers': [{'text': '현관등이 있는 천정에서 물이 새면서 전기 누전으로 연기가 나고, 고드름을 제거하다 실수로 베란다 창문마저 깨졌다. ',\n",
       "       'answer_start': 290}],\n",
       "     'question': '정모씨(79)는 수도 동파로 인해 어떤 피해를 입었어?',\n",
       "     'clue': [{'clue_start': 354,\n",
       "       'clue_text': '정씨는 &quot;이 엄동설한에 어디로 나가야 하는 지 막막하다&quot;며 &quot;여기 저기 물이 새 집 안에서도 신발을 신고 다녀야 한다&quot;고 하소연 했다. '}]},\n",
       "    {'classtype': 'work_what',\n",
       "     'id': 'm6_409392-2',\n",
       "     'answers': [{'text': '현관등이 있는 천정에서 물이 새면서 전기 누전으로 연기가 나고, 고드름을 제거하다 실수로 베란다 창문마저 깨졌다. ',\n",
       "       'answer_start': 290}],\n",
       "     'question': '정모씨(79)는 수도 동파로 인해 어떤 피해를 입었대?',\n",
       "     'clue': [{'clue_start': 354,\n",
       "       'clue_text': '정씨는 &quot;이 엄동설한에 어디로 나가야 하는 지 막막하다&quot;며 &quot;여기 저기 물이 새 집 안에서도 신발을 신고 다녀야 한다&quot;고 하소연 했다. '}]}],\n",
       "   'context': '재개발을 앞두고 먼저 이사 간 빈 집의 수도가 동파해 남아있는 주민들이 불편을 겪고 있다. 경기도 안양시 호계동 재개발단지의 한 건물 외벽은 거대한 고드름으로 덮여 있고 주민들은 하루 종일 새는 물을 퍼내기 바빴다.    이 지역 내 빈집 등 30여 곳에서 수도 동파가 발생했지만 이를 관리할 사람들이 없다. 미처 이사를 가지 못한 거주민들은 새는 물을 대야로 바치거나 습기가 가득 찬 마루 바닥을 온풍기로 말리며 힘겨운 겨울을 나고 있다.    한파가 몰아친 4일 거주민 정모씨(79)의 집은 전쟁터를 방불케 한다. 현관등이 있는 천정에서 물이 새면서 전기 누전으로 연기가 나고, 고드름을 제거하다 실수로 베란다 창문마저 깨졌다. 정씨는 &quot;이 엄동설한에 어디로 나가야 하는 지 막막하다&quot;며 &quot;여기 저기 물이 새 집 안에서도 신발을 신고 다녀야 한다&quot;고 하소연 했다.   지하에 사는 이모씨(60) 역시 바닥에 차는 물을 퍼내며 하루를 보낸다. 이씨는 &quot;30년간 살면서 물이 새본 적이 없는데, 마룻바닥이 그새 변색됐다&quot;며 &quot;재개발 때문에 이렇게 됐지만 마땅한 대책이 없다&quot;고 말했다.    재개발구역 내 아직 이주하지 못한 주민들은 남은 겨울을 보내기가 두렵기만 하다. 안양 호계동의 재개발단지에는 아직 700세대가 남아 있다.  안양 = 최현규 기자 frosted@kmib.co.kr'}],\n",
       " 'title': '868'}"
      ]
     },
     "execution_count": 7,
     "metadata": {},
     "output_type": "execute_result"
    }
   ],
   "source": [
    "clue0529['data'][0]"
   ]
  },
  {
   "cell_type": "code",
   "execution_count": 9,
   "id": "05a647a3-f441-4da4-987b-1ad356d819f5",
   "metadata": {},
   "outputs": [
    {
     "data": {
      "text/plain": [
       "dict_keys(['creator', 'version', 'data'])"
      ]
     },
     "execution_count": 9,
     "metadata": {},
     "output_type": "execute_result"
    }
   ],
   "source": [
    "noanswer.keys()"
   ]
  },
  {
   "cell_type": "code",
   "execution_count": 12,
   "id": "f5e1c4ab-1c9b-46c7-8486-bf15351347d9",
   "metadata": {},
   "outputs": [
    {
     "data": {
      "text/plain": [
       "20030"
      ]
     },
     "execution_count": 12,
     "metadata": {},
     "output_type": "execute_result"
    }
   ],
   "source": [
    "len(noanswer['data'])"
   ]
  },
  {
   "cell_type": "code",
   "execution_count": 11,
   "id": "80ae03fa-b390-4289-bdcb-195225028861",
   "metadata": {},
   "outputs": [
    {
     "data": {
      "text/plain": [
       "{'source': 2,\n",
       " 'title': '2654.txt',\n",
       " 'paragraphs': [{'qas': [{'classtype': 'work_who',\n",
       "     'id': 'm3_253409-1',\n",
       "     'question': '제너시스비비큐의 대표이사는 누구야?'},\n",
       "    {'classtype': 'work_when',\n",
       "     'id': 'm3_253410-1',\n",
       "     'question': '제너시스 비비큐의 창립일은 언제야?'},\n",
       "    {'classtype': 'work_where',\n",
       "     'id': 'm3_253411-1',\n",
       "     'question': '공정거래위원회는 어디에 사무실이 위치해있어?'},\n",
       "    {'classtype': 'work_how',\n",
       "     'id': 'm3_253412-1',\n",
       "     'question': '공정거래위원회가 제너시스비비큐에게 내린 시정명령은 어떤 내용이야?'},\n",
       "    {'classtype': 'work_how',\n",
       "     'id': 'm3_253413-1',\n",
       "     'question': '다른 회사는 상품권 발행비용 명목으로 수수료를 얼마씩 받고있어?'},\n",
       "    {'classtype': 'work_why',\n",
       "     'id': 'm3_253414-1',\n",
       "     'question': '왜 제너시스비비큐는 상품권 수령을 강요하면서까지 상품권 수수료를 챙기려고 했어?'}],\n",
       "   'context': '공정거래위원회는 상품권 발행비용 명목으로 고율의 발행수수료를 가맹점주에게 부담토록 한 제너시스비비큐(BBQ)에게 시정명령을 내렸다. 공정위에 따르면 제너시스비비큐는 2011년 9월부터 지난해 7월까지 가맹점이 소비자로부터 받은 상품권을 정산하면서 액면가의 10%를 발행수수료로 공제했다. 제너시스비비큐는 또 높은 수수료 부담을 피하기 위해 고객들로부터 상품권을 받지 않은 가맹점에는 가맹계약을 해지할 수 있다는 증명을 발송해 상품권 수령을 강요하기도 했다. 이를 통해 본사가 챙긴 상품권 수수료는 2020만원이었다. 제너시스비비큐는 2012년 8월 이후에도 상품권 수수료 10%를 공제해오다 지난 6월부터 수수료율을 3%로 낮췄다. 공정위는 \"가맹본부가 포인트나 상품권 비용을 동의나 정당한 근거없이 가맹점주에게 전가한 행위를 법 위반으로 조치함으로써 앞으로 유사한 사례가 재발되지 않도록 하는 효과가 있을 것으로 기대한다\"고 밝혔다.'}]}"
      ]
     },
     "execution_count": 11,
     "metadata": {},
     "output_type": "execute_result"
    }
   ],
   "source": [
    "noanswer['data'][0]"
   ]
  },
  {
   "cell_type": "code",
   "execution_count": 13,
   "id": "12c1edc1-6171-48eb-a576-59cfb7467a71",
   "metadata": {},
   "outputs": [
    {
     "data": {
      "text/plain": [
       "dict_keys(['creator', 'version', 'data'])"
      ]
     },
     "execution_count": 13,
     "metadata": {},
     "output_type": "execute_result"
    }
   ],
   "source": [
    "normal.keys()"
   ]
  },
  {
   "cell_type": "code",
   "execution_count": 14,
   "id": "c95fad92-5638-47ee-b4e0-71cb6683c6ca",
   "metadata": {},
   "outputs": [
    {
     "data": {
      "text/plain": [
       "47314"
      ]
     },
     "execution_count": 14,
     "metadata": {},
     "output_type": "execute_result"
    }
   ],
   "source": [
    "len(normal['data'])"
   ]
  },
  {
   "cell_type": "code",
   "execution_count": 15,
   "id": "9250545f-f107-43a0-a8e3-36c1259c8cb5",
   "metadata": {},
   "outputs": [
    {
     "data": {
      "text/plain": [
       "{'title': '15657',\n",
       " 'paragraphs': [{'context': \"한국청소년단체협의회와 여성가족부는 22일부터 28일까지 서울과 충북 괴산에서 '국제청소년포럼'을 연다고 21일 밝혔다. 한국 미국 캐나다 호주 등 전 세계 32개국 75여명의 대학생, 청소년들이 모여 전 세계적 현안문제에 대한 대안과 해결책을 모색하는 자리다. 이번 포럼의 주제는 '청소년과 뉴미디어'다. 스마트폰 SNS 태블릿PC 등 새로운 커뮤니케이션 매체인 '뉴미디어'에 대한 성찰과 문제점에 대해 토론한다. 기조강연을 시작으로 국가별 주제관련 사례발표, 그룹 토론 및 전체총회, '청소년선언문' 작성 및 채택 등 다양한 프로그램을 운영한다. 개회식은 22일 서울 방화동에 있는 국제청소년센터 국제회의장에서 한다. 전 세계 32개국 대학생ㆍ청소년 참가자와 전국의 청소년기관단체장과 청소년지도자 여성가족부 주한외교사절 등 100여명이 참석할 예정이다. 23일에는 유엔미래포럼 박영숙 대표가 '뉴미디어의 균형 있는 발전을 위한 청소년의 역할'에 대해 기조강연을 한다. 뉴미디어의 올바른 활용방안과 청소년문화의 형성에 대해 설명할 계획이다. 27일 폐회식에서는 '청소년선언문'을 채택한다. 선언문에는 전 세계적으로 뉴미디어의 바람직한 발전을 촉구하며 각국 청년들이 함께 실천할 수 있는 내용 등이 담길 예정이다. 한국청소년단체협의회는 포럼이 끝난 뒤 UN 등 국제기구와 참가자 각국 정부 등 국제사회에 선언문을 전달할 예정이다.\",\n",
       "   'qas': [{'question': \"서울과 충북 괴산에서 '국제청소년포럼'을 여는 곳은?\",\n",
       "     'answers': [{'answer_start': 0, 'text': '한국청소년단체협의회와 여성가족부'}],\n",
       "     'id': 'c1_57059-1',\n",
       "     'classtype': 'work_who'},\n",
       "    {'question': \"'국제 청소년포럼'이 열리는 때는?\",\n",
       "     'answers': [{'answer_start': 19, 'text': '22일부터 28일'}],\n",
       "     'id': 'c1_57060-1',\n",
       "     'classtype': 'work_when'},\n",
       "    {'question': '이번 포럼의 주제는?',\n",
       "     'answers': [{'answer_start': 157, 'text': \"'청소년과 뉴미디어'\"}],\n",
       "     'id': 'c1_57061-1',\n",
       "     'classtype': 'work_what'},\n",
       "    {'question': '포럼은 어떻게 진행되는가?',\n",
       "     'answers': [{'answer_start': 232,\n",
       "       'text': \"기조강연을 시작으로 국가별 주제관련 사례발표, 그룹 토론 및 전체총회, '청소년선언문' 작성 및 채택 등 다양한 프로그램을 운영한다.\"}],\n",
       "     'id': 'c1_57062-1',\n",
       "     'classtype': 'work_how'}]}],\n",
       " 'source': 5}"
      ]
     },
     "execution_count": 15,
     "metadata": {},
     "output_type": "execute_result"
    }
   ],
   "source": [
    "normal['data'][0]"
   ]
  },
  {
   "cell_type": "code",
   "execution_count": null,
   "id": "05453e7b-fbe1-47c3-82d7-58f37eed7479",
   "metadata": {},
   "outputs": [],
   "source": []
  }
 ],
 "metadata": {
  "kernelspec": {
   "display_name": "Python 3 (ipykernel)",
   "language": "python",
   "name": "python3"
  },
  "language_info": {
   "codemirror_mode": {
    "name": "ipython",
    "version": 3
   },
   "file_extension": ".py",
   "mimetype": "text/x-python",
   "name": "python",
   "nbconvert_exporter": "python",
   "pygments_lexer": "ipython3",
   "version": "3.8.5"
  }
 },
 "nbformat": 4,
 "nbformat_minor": 5
}

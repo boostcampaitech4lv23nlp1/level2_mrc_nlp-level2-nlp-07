{
 "cells": [
  {
   "cell_type": "code",
   "execution_count": 1,
   "id": "af46f97e-71ac-47f7-bdd4-8b45832412cb",
   "metadata": {},
   "outputs": [
    {
     "name": "stderr",
     "output_type": "stream",
     "text": [
      "/opt/conda/lib/python3.8/site-packages/tqdm/auto.py:22: TqdmWarning: IProgress not found. Please update jupyter and ipywidgets. See https://ipywidgets.readthedocs.io/en/stable/user_install.html\n",
      "  from .autonotebook import tqdm as notebook_tqdm\n"
     ]
    }
   ],
   "source": [
    "import pandas as pd\n",
    "import torch\n",
    "import matplotlib as mpl\n",
    "import matplotlib.pyplot as plt\n",
    "from datasets import DatasetDict, load_from_disk, Dataset, concatenate_datasets, load\n",
    "import re"
   ]
  },
  {
   "cell_type": "code",
   "execution_count": 2,
   "id": "e002bb3a-ed5b-4707-96f9-c6afe444dcb3",
   "metadata": {},
   "outputs": [
    {
     "name": "stderr",
     "output_type": "stream",
     "text": [
      "Found cached dataset squad_kor_v1 (/opt/ml/.cache/huggingface/datasets/squad_kor_v1/squad_kor_v1/1.0.0/18d4f44736b8ee85671f63cb84965bfb583fa0a4ff2df3c2e10eee9693796725)\n",
      "100%|██████████| 2/2 [00:00<00:00, 367.31it/s]\n"
     ]
    }
   ],
   "source": [
    "from datasets import load_dataset,Dataset\n",
    "dataset = load_dataset(\"squad_kor_v1\")"
   ]
  },
  {
   "cell_type": "code",
   "execution_count": 3,
   "id": "e7345be1-bc60-40b9-8b01-c2c0010aca9c",
   "metadata": {},
   "outputs": [],
   "source": [
    "import random"
   ]
  },
  {
   "cell_type": "code",
   "execution_count": 4,
   "id": "59b30a1f-549f-4bde-93e8-a3e27649459d",
   "metadata": {},
   "outputs": [
    {
     "data": {
      "text/plain": [
       "'1839년 바그너는 괴테의 파우스트을 처음 읽고 그 내용에 마음이 끌려 이를 소재로 해서 하나의 교향곡을 쓰려는 뜻을 갖는다. 이 시기 바그너는 1838년에 빛 독촉으로 산전수전을 다 걲은 상황이라 좌절과 실망에 가득했으며 메피스토펠레스를 만나는 파우스트의 심경에 공감했다고 한다. 또한 파리에서 아브네크의 지휘로 파리 음악원 관현악단이 연주하는 베토벤의 교향곡 9번을 듣고 깊은 감명을 받았는데, 이것이 이듬해 1월에 파우스트의 서곡으로 쓰여진 이 작품에 조금이라도 영향을 끼쳤으리라는 것은 의심할 여지가 없다. 여기의 라단조 조성의 경우에도 그의 전기에 적혀 있는 것처럼 단순한 정신적 피로나 실의가 반영된 것이 아니라 베토벤의 합창교향곡 조성의 영향을 받은 것을 볼 수 있다. 그렇게 교향곡 작곡을 1839년부터 40년에 걸쳐 파리에서 착수했으나 1악장을 쓴 뒤에 중단했다. 또한 작품의 완성과 동시에 그는 이 서곡(1악장)을 파리 음악원의 연주회에서 연주할 파트보까지 준비하였으나, 실제로는 이루어지지는 않았다. 결국 초연은 4년 반이 지난 후에 드레스덴에서 연주되었고 재연도 이루어졌지만, 이후에 그대로 방치되고 말았다. 그 사이에 그는 리엔치와 방황하는 네덜란드인을 완성하고 탄호이저에도 착수하는 등 분주한 시간을 보냈는데, 그런 바쁜 생활이 이 곡을 잊게 한 것이 아닌가 하는 의견도 있다.'"
      ]
     },
     "execution_count": 4,
     "metadata": {},
     "output_type": "execute_result"
    }
   ],
   "source": [
    "dataset['train']['context'][3]"
   ]
  },
  {
   "cell_type": "code",
   "execution_count": 5,
   "id": "af90559b-0233-4d21-b56b-992510806378",
   "metadata": {},
   "outputs": [],
   "source": [
    "import pandas as pd\n",
    "tmp = pd.DataFrame(dataset['train'])"
   ]
  },
  {
   "cell_type": "code",
   "execution_count": 6,
   "id": "04455fa6-bd58-42cc-9050-d5d23033d06a",
   "metadata": {},
   "outputs": [
    {
     "data": {
      "text/html": [
       "<div>\n",
       "<style scoped>\n",
       "    .dataframe tbody tr th:only-of-type {\n",
       "        vertical-align: middle;\n",
       "    }\n",
       "\n",
       "    .dataframe tbody tr th {\n",
       "        vertical-align: top;\n",
       "    }\n",
       "\n",
       "    .dataframe thead th {\n",
       "        text-align: right;\n",
       "    }\n",
       "</style>\n",
       "<table border=\"1\" class=\"dataframe\">\n",
       "  <thead>\n",
       "    <tr style=\"text-align: right;\">\n",
       "      <th></th>\n",
       "      <th>id</th>\n",
       "      <th>title</th>\n",
       "      <th>context</th>\n",
       "      <th>question</th>\n",
       "      <th>answers</th>\n",
       "    </tr>\n",
       "  </thead>\n",
       "  <tbody>\n",
       "    <tr>\n",
       "      <th>0</th>\n",
       "      <td>6566495-0-0</td>\n",
       "      <td>파우스트_서곡</td>\n",
       "      <td>1839년 바그너는 괴테의 파우스트을 처음 읽고 그 내용에 마음이 끌려 이를 소재로...</td>\n",
       "      <td>바그너는 괴테의 파우스트를 읽고 무엇을 쓰고자 했는가?</td>\n",
       "      <td>{'text': ['교향곡'], 'answer_start': [54]}</td>\n",
       "    </tr>\n",
       "    <tr>\n",
       "      <th>1</th>\n",
       "      <td>6566495-0-1</td>\n",
       "      <td>파우스트_서곡</td>\n",
       "      <td>1839년 바그너는 괴테의 파우스트을 처음 읽고 그 내용에 마음이 끌려 이를 소재로...</td>\n",
       "      <td>바그너는 교향곡 작곡을 어디까지 쓴 뒤에 중단했는가?</td>\n",
       "      <td>{'text': ['1악장'], 'answer_start': [421]}</td>\n",
       "    </tr>\n",
       "    <tr>\n",
       "      <th>2</th>\n",
       "      <td>6566495-0-2</td>\n",
       "      <td>파우스트_서곡</td>\n",
       "      <td>1839년 바그너는 괴테의 파우스트을 처음 읽고 그 내용에 마음이 끌려 이를 소재로...</td>\n",
       "      <td>바그너가 파우스트 서곡을 쓸 때 어떤 곡의 영향을 받았는가?</td>\n",
       "      <td>{'text': ['베토벤의 교향곡 9번'], 'answer_start': [194]}</td>\n",
       "    </tr>\n",
       "    <tr>\n",
       "      <th>3</th>\n",
       "      <td>6566518-0-0</td>\n",
       "      <td>파우스트_서곡</td>\n",
       "      <td>1839년 바그너는 괴테의 파우스트을 처음 읽고 그 내용에 마음이 끌려 이를 소재로...</td>\n",
       "      <td>1839년 바그너가 교향곡의 소재로 쓰려고 했던 책은?</td>\n",
       "      <td>{'text': ['파우스트'], 'answer_start': [15]}</td>\n",
       "    </tr>\n",
       "    <tr>\n",
       "      <th>4</th>\n",
       "      <td>6566518-0-1</td>\n",
       "      <td>파우스트_서곡</td>\n",
       "      <td>1839년 바그너는 괴테의 파우스트을 처음 읽고 그 내용에 마음이 끌려 이를 소재로...</td>\n",
       "      <td>파우스트 서곡의 라단조 조성이 영향을 받은 베토벤의 곡은?</td>\n",
       "      <td>{'text': ['합창교향곡'], 'answer_start': [354]}</td>\n",
       "    </tr>\n",
       "    <tr>\n",
       "      <th>...</th>\n",
       "      <td>...</td>\n",
       "      <td>...</td>\n",
       "      <td>...</td>\n",
       "      <td>...</td>\n",
       "      <td>...</td>\n",
       "    </tr>\n",
       "    <tr>\n",
       "      <th>60402</th>\n",
       "      <td>6467478-1-1</td>\n",
       "      <td>뉴델리_메탈로-베타락타마제</td>\n",
       "      <td>유전자의 이름은 인도의 수도 뉴델리의 이름을 따 붙여졌는데, 이는 2009년 용 (...</td>\n",
       "      <td>뉴델리 메탈로 베타락마제가 처음 감염 된 지역은 어디인가?</td>\n",
       "      <td>{'text': ['인도'], 'answer_start': [73]}</td>\n",
       "    </tr>\n",
       "    <tr>\n",
       "      <th>60403</th>\n",
       "      <td>6467478-2-0</td>\n",
       "      <td>뉴델리_메탈로-베타락타마제</td>\n",
       "      <td>2010년 8월, 저널 The Lancet Infectious Diseases에 최...</td>\n",
       "      <td>균은 유전자를 균에게 전달 할 수있는데 이러한 현상을 나타낸 용어는 무엇인가?</td>\n",
       "      <td>{'text': ['유전자 전달'], 'answer_start': [253]}</td>\n",
       "    </tr>\n",
       "    <tr>\n",
       "      <th>60404</th>\n",
       "      <td>6467478-2-1</td>\n",
       "      <td>뉴델리_메탈로-베타락타마제</td>\n",
       "      <td>2010년 8월, 저널 The Lancet Infectious Diseases에 최...</td>\n",
       "      <td>박테리아가 NDM-1 유전자를 가지고 있을때 발생하는 전파를 분석하기위해 사용된 영...</td>\n",
       "      <td>{'text': ['37건'], 'answer_start': [129]}</td>\n",
       "    </tr>\n",
       "    <tr>\n",
       "      <th>60405</th>\n",
       "      <td>6490801-2-0</td>\n",
       "      <td>뉴델리_메탈로-베타락타마제</td>\n",
       "      <td>2010년 8월, 저널 The Lancet Infectious Diseases에 최...</td>\n",
       "      <td>NDM-1 유전자를 가진 박테리아가 감수성을 보인 폴리믹슨 계열 항생제는?</td>\n",
       "      <td>{'text': ['콜리스틴'], 'answer_start': [404]}</td>\n",
       "    </tr>\n",
       "    <tr>\n",
       "      <th>60406</th>\n",
       "      <td>6490801-2-1</td>\n",
       "      <td>뉴델리_메탈로-베타락타마제</td>\n",
       "      <td>2010년 8월, 저널 The Lancet Infectious Diseases에 최...</td>\n",
       "      <td>2010년 8월, NDM-1 유전자를 가진 박테리아의 발생과 전파를 분석한 다국적 ...</td>\n",
       "      <td>{'text': ['The Lancet Infectious Diseases'], '...</td>\n",
       "    </tr>\n",
       "  </tbody>\n",
       "</table>\n",
       "<p>60407 rows × 5 columns</p>\n",
       "</div>"
      ],
      "text/plain": [
       "                id           title  \\\n",
       "0      6566495-0-0         파우스트_서곡   \n",
       "1      6566495-0-1         파우스트_서곡   \n",
       "2      6566495-0-2         파우스트_서곡   \n",
       "3      6566518-0-0         파우스트_서곡   \n",
       "4      6566518-0-1         파우스트_서곡   \n",
       "...            ...             ...   \n",
       "60402  6467478-1-1  뉴델리_메탈로-베타락타마제   \n",
       "60403  6467478-2-0  뉴델리_메탈로-베타락타마제   \n",
       "60404  6467478-2-1  뉴델리_메탈로-베타락타마제   \n",
       "60405  6490801-2-0  뉴델리_메탈로-베타락타마제   \n",
       "60406  6490801-2-1  뉴델리_메탈로-베타락타마제   \n",
       "\n",
       "                                                 context  \\\n",
       "0      1839년 바그너는 괴테의 파우스트을 처음 읽고 그 내용에 마음이 끌려 이를 소재로...   \n",
       "1      1839년 바그너는 괴테의 파우스트을 처음 읽고 그 내용에 마음이 끌려 이를 소재로...   \n",
       "2      1839년 바그너는 괴테의 파우스트을 처음 읽고 그 내용에 마음이 끌려 이를 소재로...   \n",
       "3      1839년 바그너는 괴테의 파우스트을 처음 읽고 그 내용에 마음이 끌려 이를 소재로...   \n",
       "4      1839년 바그너는 괴테의 파우스트을 처음 읽고 그 내용에 마음이 끌려 이를 소재로...   \n",
       "...                                                  ...   \n",
       "60402  유전자의 이름은 인도의 수도 뉴델리의 이름을 따 붙여졌는데, 이는 2009년 용 (...   \n",
       "60403  2010년 8월, 저널 The Lancet Infectious Diseases에 최...   \n",
       "60404  2010년 8월, 저널 The Lancet Infectious Diseases에 최...   \n",
       "60405  2010년 8월, 저널 The Lancet Infectious Diseases에 최...   \n",
       "60406  2010년 8월, 저널 The Lancet Infectious Diseases에 최...   \n",
       "\n",
       "                                                question  \\\n",
       "0                         바그너는 괴테의 파우스트를 읽고 무엇을 쓰고자 했는가?   \n",
       "1                          바그너는 교향곡 작곡을 어디까지 쓴 뒤에 중단했는가?   \n",
       "2                      바그너가 파우스트 서곡을 쓸 때 어떤 곡의 영향을 받았는가?   \n",
       "3                         1839년 바그너가 교향곡의 소재로 쓰려고 했던 책은?   \n",
       "4                       파우스트 서곡의 라단조 조성이 영향을 받은 베토벤의 곡은?   \n",
       "...                                                  ...   \n",
       "60402                   뉴델리 메탈로 베타락마제가 처음 감염 된 지역은 어디인가?   \n",
       "60403        균은 유전자를 균에게 전달 할 수있는데 이러한 현상을 나타낸 용어는 무엇인가?   \n",
       "60404  박테리아가 NDM-1 유전자를 가지고 있을때 발생하는 전파를 분석하기위해 사용된 영...   \n",
       "60405          NDM-1 유전자를 가진 박테리아가 감수성을 보인 폴리믹슨 계열 항생제는?   \n",
       "60406  2010년 8월, NDM-1 유전자를 가진 박테리아의 발생과 전파를 분석한 다국적 ...   \n",
       "\n",
       "                                                 answers  \n",
       "0                {'text': ['교향곡'], 'answer_start': [54]}  \n",
       "1               {'text': ['1악장'], 'answer_start': [421]}  \n",
       "2       {'text': ['베토벤의 교향곡 9번'], 'answer_start': [194]}  \n",
       "3               {'text': ['파우스트'], 'answer_start': [15]}  \n",
       "4             {'text': ['합창교향곡'], 'answer_start': [354]}  \n",
       "...                                                  ...  \n",
       "60402             {'text': ['인도'], 'answer_start': [73]}  \n",
       "60403        {'text': ['유전자 전달'], 'answer_start': [253]}  \n",
       "60404           {'text': ['37건'], 'answer_start': [129]}  \n",
       "60405          {'text': ['콜리스틴'], 'answer_start': [404]}  \n",
       "60406  {'text': ['The Lancet Infectious Diseases'], '...  \n",
       "\n",
       "[60407 rows x 5 columns]"
      ]
     },
     "execution_count": 6,
     "metadata": {},
     "output_type": "execute_result"
    }
   ],
   "source": [
    "tmp"
   ]
  },
  {
   "cell_type": "code",
   "execution_count": 7,
   "id": "c8a329a7-0584-4795-af6e-b3ea0afaba69",
   "metadata": {},
   "outputs": [],
   "source": [
    "tmp['context_len']=tmp['context'].apply(lambda x: len(x))"
   ]
  },
  {
   "cell_type": "code",
   "execution_count": 8,
   "id": "fe51ddec-fbab-445a-890c-2eaf5a7ef9ce",
   "metadata": {},
   "outputs": [],
   "source": [
    "import pandas as pd\n",
    "import torch\n",
    "import matplotlib as mpl\n",
    "import matplotlib.pyplot as plt\n",
    "from datasets import DatasetDict, load_from_disk, Dataset, concatenate_datasets\n",
    "import re"
   ]
  },
  {
   "cell_type": "code",
   "execution_count": 9,
   "id": "0e9cb344-4272-48a7-aae4-8c0294179de7",
   "metadata": {},
   "outputs": [
    {
     "data": {
      "text/plain": [
       "count    60407.000000\n",
       "mean       519.268181\n",
       "std        215.609530\n",
       "min        348.000000\n",
       "25%        395.000000\n",
       "50%        462.000000\n",
       "75%        574.000000\n",
       "max      10012.000000\n",
       "Name: context_len, dtype: float64"
      ]
     },
     "execution_count": 9,
     "metadata": {},
     "output_type": "execute_result"
    }
   ],
   "source": [
    "tmp['context_len'].describe()"
   ]
  },
  {
   "cell_type": "code",
   "execution_count": 10,
   "id": "fbd502c5-d75a-42a3-9f2c-07c8910a32c7",
   "metadata": {},
   "outputs": [],
   "source": [
    "korquad_count= []\n",
    "for i in range(0,200):\n",
    "    korquad_count.append(len(tmp[(tmp['context_len']>i*10)&(tmp['context_len']<=(i+1)*10)]))"
   ]
  },
  {
   "cell_type": "code",
   "execution_count": 11,
   "id": "c225f7d0-0dfe-4e24-928b-f45af5327e46",
   "metadata": {},
   "outputs": [
    {
     "data": {
      "image/png": "[encoded data removed]",
      "text/plain": [
       "<Figure size 1500x800 with 2 Axes>"
      ]
     },
     "metadata": {},
     "output_type": "display_data"
    }
   ],
   "source": [
    "fig = plt.figure(figsize=(15,8))\n",
    "ax1 = fig.add_subplot(121)\n",
    "ax2 = fig.add_subplot(122)\n",
    "ax1.bar(range(0,200),korquad_count)\n",
    "ax1.set_title('korquad 1.0 text len count bar')\n",
    "ax2.boxplot([tmp['context_len']],notch=True,whis=2.5)\n",
    "ax2.set_ylim(-10.0, 3000.0)\n",
    "ax2.set_xticks([1])\n",
    "ax2.set_title('korquad 1.0 text len count box')\n",
    "plt.show()"
   ]
  },
  {
   "cell_type": "code",
   "execution_count": 184,
   "id": "33655a7a-7033-4e98-9318-78352b3aaf8b",
   "metadata": {},
   "outputs": [],
   "source": [
    "# http://zeany.net/46\n",
    "def preprocess_context(example):\n",
    "    body = re.sub('<title.*?>.*?</title>', '', example, 0, re.I|re.S)\n",
    "    body = re.sub('<table.*?>.*?</table>', '', body, 0, re.I|re.S)\n",
    "    body = re.sub('<td.*?>.*?</td>', '', body, 0, re.I|re.S)\n",
    "    body = re.sub('<li.*?>.*?</li>', '', body, 0, re.I|re.S)\n",
    "    body = re.sub('<ol.*?>.*?</ol>', '', body, 0, re.I|re.S)\n",
    "    text = re.sub('<.+?>', '', body, 0, re.I|re.S)\n",
    "    text = re.sub('\\[[0-9]+\\]', ' ', text, 0, re.I|re.S)\n",
    "    text = texts.replace(\"[편집]\",\"\")\n",
    "    text = text.replace(\"\\\\'\",\"\")\n",
    "    text = text.replace(\"펼치기\",\"\")\n",
    "    text = text.replace(\"버튼 클릭\",\"\")\n",
    "    text = text.split(\"같이 보기\")[0]\n",
    "    text = text.split(\"참고 자료\")[0]\n",
    "    text = text.split(\"외부 링크\")[0]\n",
    "    text = text.split(\"원본 주소\")[0]\n",
    "    text = text.split(\"각주\")[0]\n",
    "    text = text.split(\"참고 문헌\")[0]\n",
    "    text = text.split(\"함께 보기\")[0]\n",
    "    text = text.split(\"관련 서적\")[0]\n",
    "    text = text.split(\"관련 항목\")[0]\n",
    "    space = re.sub('&nbsp;| |\\t|\\r|\\n|\\xa0|\\u200b', ' ', text)\n",
    "    one_space = re.sub(' +', ' ', space)\n",
    "    if one_space[::-1].find('.') == -1:\n",
    "        return one_space\n",
    "    if (one_space[::-1].find('.') != 0)|(one_space[::-1].find('.') != ')'):\n",
    "        last_comma = one_space[:-(one_space[::-1].find('.'))]\n",
    "        return last_comma\n",
    "    return one_space"
   ]
  },
  {
   "cell_type": "code",
   "execution_count": 186,
   "id": "efb6233e-1921-4df0-aeed-38f11bb9164d",
   "metadata": {},
   "outputs": [
    {
     "data": {
      "text/plain": [
       "9606"
      ]
     },
     "execution_count": 186,
     "metadata": {},
     "output_type": "execute_result"
    }
   ],
   "source": [
    "origin = tmp['context'].drop_duplicates()\n",
    "len(origin)"
   ]
  },
  {
   "cell_type": "code",
   "execution_count": 187,
   "id": "ba035ee3-ea63-4f7d-a5a7-37f19c1f01c2",
   "metadata": {},
   "outputs": [
    {
     "data": {
      "text/plain": [
       "0        1839년 바그너는 괴테의 파우스트을 처음 읽고 그 내용에 마음이 끌려 이를 소재로...\n",
       "8        한편 1840년부터 바그너와 알고 지내던 리스트가 잊혀져 있던 1악장을 부활시켜 1...\n",
       "16       이 작품은 라단조, Sehr gehalten(아주 신중하게), 4/4박자의 부드러운...\n",
       "24       커닐링구스(커닐링거스, 쿤닐링구스, 영어: Cunnilingus)는 입술, 혀, 입...\n",
       "30       일반적인 통계에 따르면 여성의 80%가 오르가슴을 얻기 위해 직접적인 음핵 자극을 ...\n",
       "                               ...                        \n",
       "60378    360도 동영상이란 동영상 재생 도중 시점을 자유롭게 바꿀 수 있는 새로운 형태의 ...\n",
       "60385    2014년 아시안 게임에서는 정다소미, 이특영과 함께 단체전에서 금메달을 획득하였으...\n",
       "60392    뉴델리 메탈로-베타락타마제 (New Delhi metalo-beta-lactamas...\n",
       "60401    유전자의 이름은 인도의 수도 뉴델리의 이름을 따 붙여졌는데, 이는 2009년 용 (...\n",
       "60403    2010년 8월, 저널 The Lancet Infectious Diseases에 최...\n",
       "Name: context, Length: 9606, dtype: object"
      ]
     },
     "execution_count": 187,
     "metadata": {},
     "output_type": "execute_result"
    }
   ],
   "source": [
    "origin"
   ]
  },
  {
   "cell_type": "code",
   "execution_count": 188,
   "id": "d93694a1-1a89-4742-94f5-196e9adda9a8",
   "metadata": {},
   "outputs": [
    {
     "data": {
      "text/plain": [
       "217"
      ]
     },
     "execution_count": 188,
     "metadata": {},
     "output_type": "execute_result"
    }
   ],
   "source": [
    "after = tmp['context'].apply(lambda x: preprocess_context(x)).drop_duplicates()\n",
    "len(after)"
   ]
  },
  {
   "cell_type": "code",
   "execution_count": 183,
   "id": "357159b7-e8ce-4ff4-95db-a7255fde72a6",
   "metadata": {},
   "outputs": [
    {
     "data": {
      "text/plain": [
       "0                                                         \n",
       "138      인간의 기억의 이해에 대한 몰래슨의 또 다른 기여는 안정적인 장기기억 형성 역할을 ...\n",
       "219      악티늄족 염은 수산화물을 산으로 용해하는 과정에서도 얻을 수 있다. 악티늄족의 질산...\n",
       "416      1990년대 말에 시드니 대학교에 재학 중이었던 찰스 퍼스, 도미닉 나잇, 줄리안 ...\n",
       "555      무척추동물 중에서도 특히 곤충의 날개를 움직이는 근육은 다른 척추동물의 가로무늬근에...\n",
       "                               ...                        \n",
       "59189    이 패션 아류로 추측되는 고딕 앤 로리타(고스로리) 패션에 대하여, “로리타 계열이...\n",
       "59421    2018년 3월 30일 시진핑 주석의 특별대표 자격으로 양제츠 외교담당 중국공산당 ...\n",
       "60321    전통적인 힌두 점성술은 기본적으로 나크샤트라라고 불리는 항성군에 있는 행성의 고양에...\n",
       "60327    \"There is no difference of opinion as to the s...\n",
       "60329    \"In such signs the exaltations is regarded as ...\n",
       "Name: context, Length: 217, dtype: object"
      ]
     },
     "execution_count": 183,
     "metadata": {},
     "output_type": "execute_result"
    }
   ],
   "source": [
    "after"
   ]
  },
  {
   "cell_type": "code",
   "execution_count": 172,
   "id": "4f6a4d48-c526-40c4-95c6-359a6bc0fde5",
   "metadata": {},
   "outputs": [
    {
     "data": {
      "text/plain": [
       "'【인문학】문리과대학 문학부 ⇒ (1975년)서울대학교 인문대학 【사회학】문리과대학 문학부 ⇒ (1975년)서울대학교 사회과학대학 【자연과학】문리과대학 이학부 ⇒ (1975년)서울대학교 자연과학대학 【간호학】의대부속 고등간호학교 ⇒ (1954년)의대부속 간호고등기술학교 ⇒ (1959년 승격)의과대학 간호학과 ⇒ (1992년 분리)서울대학교 간호대학 【상업】상과대학 경영학과・경제학과 ⇒ (1975년 분리)서울대학교 경영대학 【농학・임학】농과대학 ⇒ (1992년)서울대학교 농업생명과학대학 【미술・음악】예술대학 미술과・음악과 ⇒ (1953년 분리)서울대학교 미술대학・음악대학 【생활과학】사범대학 가정교육과 ⇒ (1968년)서울대학교 가정대학 ⇒ (1997년)서울대학교 생활과학대학 【수의학】농과대학 수의학과 ⇒ (1976년)서울대학교 수의과대학 【약학】서울약대 ⇒ (1950년)서울대학교 약학대학 【법학】법과대학 ⇒ (2009년 신설)서울대학교 법학전문대학원・(기존 법과대학 2018년 폐지) 【자유전공】(2009년 신설)서울대학교 자유전공학부'"
      ]
     },
     "execution_count": 172,
     "metadata": {},
     "output_type": "execute_result"
    }
   ],
   "source": [
    "tmp['context'][35158]"
   ]
  },
  {
   "cell_type": "code",
   "execution_count": 173,
   "id": "f8fc0177-9a27-4c69-ab3a-dff92733ecee",
   "metadata": {},
   "outputs": [
    {
     "data": {
      "text/plain": [
       "{'text': ['1975년'], 'answer_start': [91]}"
      ]
     },
     "execution_count": 173,
     "metadata": {},
     "output_type": "execute_result"
    }
   ],
   "source": [
    "tmp['answers'][35158]"
   ]
  },
  {
   "cell_type": "code",
   "execution_count": 174,
   "id": "027dff02-9e82-491a-912f-5e0448199cd1",
   "metadata": {},
   "outputs": [
    {
     "data": {
      "text/plain": [
       "'【법학】경성제국대학 법문학부 ⇒ (1945년)경성대학 법학부・경성법학전문학교 ⇒ (1946년 통폐합)서울대학교 법과대학 【교육학】경성사범학교 ⇒ (1945년)경성사범대학・경성여자사범학교 ⇒ (1945년)경성여자사범대학 ⇒ (1946년 통폐합)서울대학교 사범대학 【의학】경성제국대학 의학부 ⇒ (1945년)경성대학 의학부・경성의전 ⇒ (1946년 통폐합)서울대학교 의과대학 【상업】경성고상 ⇒ (1946년)서울대학교 상과대학 【공학】경성제국대학 이공학부 ⇒ (1945년)경성대학 공학부・경성광전・경성고공 ⇒ (1946년 통폐합)서울대학교 공과대학 【치의학】경성치전 ⇒ (1946년)서울대학교 치과대학 【농학・임학】수원농전 ⇒ (1946년)서울대학교 농과대학 【예술】(1945년 신설)경성음악학교・(1946년 신설)서울대학교 예술대학 ⇒ (1946년 통폐합) 【간호학】경성제국대학 의학부 부속병원 산파간호부양성소 ⇒ (1945년)경성대학 의학부 부속 고등간호학교 ⇒ (1946년)서울대학교 의과대학부속 고등간호학교 【약학】경성약전 ⇒ (1945년)사립 서울약학대학'"
      ]
     },
     "execution_count": 174,
     "metadata": {},
     "output_type": "execute_result"
    }
   ],
   "source": [
    "preprocess_context(tmp['context'][35155])"
   ]
  },
  {
   "cell_type": "code",
   "execution_count": 175,
   "id": "743bc186-fb33-4c96-b98d-88c20df7a2e9",
   "metadata": {},
   "outputs": [],
   "source": [
    "pd.DataFrame(origin.tolist()).to_csv('kor_org',index=False)"
   ]
  },
  {
   "cell_type": "code",
   "execution_count": 128,
   "id": "55fdea93-720a-47f2-9354-d7632895bbe2",
   "metadata": {},
   "outputs": [],
   "source": [
    "pd.DataFrame(tmp['context'].apply(lambda x: preprocess_context(x)).drop_duplicates().tolist()).to_csv('kor_one',index=False)"
   ]
  },
  {
   "cell_type": "code",
   "execution_count": null,
   "id": "524f8d09-787a-4040-b303-d1ba853c9317",
   "metadata": {},
   "outputs": [],
   "source": []
  }
 ],
 "metadata": {
  "kernelspec": {
   "display_name": "Python 3 (ipykernel)",
   "language": "python",
   "name": "python3"
  },
  "language_info": {
   "codemirror_mode": {
    "name": "ipython",
    "version": 3
   },
   "file_extension": ".py",
   "mimetype": "text/x-python",
   "name": "python",
   "nbconvert_exporter": "python",
   "pygments_lexer": "ipython3",
   "version": "3.8.5"
  }
 },
 "nbformat": 4,
 "nbformat_minor": 5
}

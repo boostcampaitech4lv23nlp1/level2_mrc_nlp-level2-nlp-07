{
 "cells": [
  {
   "cell_type": "code",
   "execution_count": 16,
   "id": "d880f9cd-efa8-45c7-9f2c-a307e1d5717f",
   "metadata": {},
   "outputs": [],
   "source": [
    "import pandas as pd\n",
    "import torch\n",
    "import matplotlib as mpl\n",
    "import matplotlib.pyplot as plt\n",
    "from datasets import DatasetDict, load_from_disk, Dataset, concatenate_datasets\n",
    "import re"
   ]
  },
  {
   "cell_type": "code",
   "execution_count": 17,
   "id": "c406c7d0-3a33-4a28-aca6-2c53ecd8f9c9",
   "metadata": {},
   "outputs": [],
   "source": [
    "import json\n",
    "with open('/opt/ml/input/data/ai_hub/ko_nia_clue0529_squad_all.json','r') as f:\n",
    "    clue0529 = json.load(f)\n",
    "with open('/opt/ml/input/data/ai_hub/ko_nia_noanswer_squad_all.json','r') as f:\n",
    "    noanswer = json.load(f)\n",
    "with open('/opt/ml/input/data/ai_hub/ko_nia_normal_squad_all.json','r') as f:\n",
    "    normal = json.load(f)"
   ]
  },
  {
   "cell_type": "code",
   "execution_count": 18,
   "id": "25fc7cbd-e770-4883-9bd5-a20ebbc50683",
   "metadata": {},
   "outputs": [
    {
     "data": {
      "text/plain": [
       "dict_keys(['data', 'creator', 'version'])"
      ]
     },
     "execution_count": 18,
     "metadata": {},
     "output_type": "execute_result"
    }
   ],
   "source": [
    "clue0529.keys()"
   ]
  },
  {
   "cell_type": "code",
   "execution_count": 19,
   "id": "0cb250bf-cc7c-4e5a-8fba-0e387db44844",
   "metadata": {},
   "outputs": [
    {
     "data": {
      "text/plain": [
       "34500"
      ]
     },
     "execution_count": 19,
     "metadata": {},
     "output_type": "execute_result"
    }
   ],
   "source": [
    "len(clue0529['data'])"
   ]
  },
  {
   "cell_type": "code",
   "execution_count": 20,
   "id": "bf543ec8-1353-4ce0-8796-1995be4ef1ad",
   "metadata": {},
   "outputs": [
    {
     "data": {
      "text/plain": [
       "{'source': 4,\n",
       " 'paragraphs': [{'qas': [{'classtype': 'work_why',\n",
       "     'id': 'm6_409391-1',\n",
       "     'answers': [{'text': '수도 동파', 'answer_start': 144}],\n",
       "     'question': '재개발단지에 남아있는 주민들이 불편을 겪는 이유는 뭐야?',\n",
       "     'clue': [{'clue_start': 173,\n",
       "       'clue_text': '미처 이사를 가지 못한 거주민들은 새는 물을 대야로 바치거나 습기가 가득 찬 마루 바닥을 온풍기로 말리며 힘겨운 겨울을 나고 있다.'}]},\n",
       "    {'classtype': 'work_why',\n",
       "     'id': 'm6_409391-2',\n",
       "     'answers': [{'text': '수도 동파', 'answer_start': 144}],\n",
       "     'question': '재개발단지에 남아있는 주민들이 불편을 겪는 이유는 무엇이야?',\n",
       "     'clue': [{'clue_start': 173,\n",
       "       'clue_text': '미처 이사를 가지 못한 거주민들은 새는 물을 대야로 바치거나 습기가 가득 찬 마루 바닥을 온풍기로 말리며 힘겨운 겨울을 나고 있다.'}]},\n",
       "    {'classtype': 'work_what',\n",
       "     'id': 'm6_409392-1',\n",
       "     'answers': [{'text': '현관등이 있는 천정에서 물이 새면서 전기 누전으로 연기가 나고, 고드름을 제거하다 실수로 베란다 창문마저 깨졌다. ',\n",
       "       'answer_start': 290}],\n",
       "     'question': '정모씨(79)는 수도 동파로 인해 어떤 피해를 입었어?',\n",
       "     'clue': [{'clue_start': 354,\n",
       "       'clue_text': '정씨는 &quot;이 엄동설한에 어디로 나가야 하는 지 막막하다&quot;며 &quot;여기 저기 물이 새 집 안에서도 신발을 신고 다녀야 한다&quot;고 하소연 했다. '}]},\n",
       "    {'classtype': 'work_what',\n",
       "     'id': 'm6_409392-2',\n",
       "     'answers': [{'text': '현관등이 있는 천정에서 물이 새면서 전기 누전으로 연기가 나고, 고드름을 제거하다 실수로 베란다 창문마저 깨졌다. ',\n",
       "       'answer_start': 290}],\n",
       "     'question': '정모씨(79)는 수도 동파로 인해 어떤 피해를 입었대?',\n",
       "     'clue': [{'clue_start': 354,\n",
       "       'clue_text': '정씨는 &quot;이 엄동설한에 어디로 나가야 하는 지 막막하다&quot;며 &quot;여기 저기 물이 새 집 안에서도 신발을 신고 다녀야 한다&quot;고 하소연 했다. '}]}],\n",
       "   'context': '재개발을 앞두고 먼저 이사 간 빈 집의 수도가 동파해 남아있는 주민들이 불편을 겪고 있다. 경기도 안양시 호계동 재개발단지의 한 건물 외벽은 거대한 고드름으로 덮여 있고 주민들은 하루 종일 새는 물을 퍼내기 바빴다.    이 지역 내 빈집 등 30여 곳에서 수도 동파가 발생했지만 이를 관리할 사람들이 없다. 미처 이사를 가지 못한 거주민들은 새는 물을 대야로 바치거나 습기가 가득 찬 마루 바닥을 온풍기로 말리며 힘겨운 겨울을 나고 있다.    한파가 몰아친 4일 거주민 정모씨(79)의 집은 전쟁터를 방불케 한다. 현관등이 있는 천정에서 물이 새면서 전기 누전으로 연기가 나고, 고드름을 제거하다 실수로 베란다 창문마저 깨졌다. 정씨는 &quot;이 엄동설한에 어디로 나가야 하는 지 막막하다&quot;며 &quot;여기 저기 물이 새 집 안에서도 신발을 신고 다녀야 한다&quot;고 하소연 했다.   지하에 사는 이모씨(60) 역시 바닥에 차는 물을 퍼내며 하루를 보낸다. 이씨는 &quot;30년간 살면서 물이 새본 적이 없는데, 마룻바닥이 그새 변색됐다&quot;며 &quot;재개발 때문에 이렇게 됐지만 마땅한 대책이 없다&quot;고 말했다.    재개발구역 내 아직 이주하지 못한 주민들은 남은 겨울을 보내기가 두렵기만 하다. 안양 호계동의 재개발단지에는 아직 700세대가 남아 있다.  안양 = 최현규 기자 frosted@kmib.co.kr'}],\n",
       " 'title': '868'}"
      ]
     },
     "execution_count": 20,
     "metadata": {},
     "output_type": "execute_result"
    }
   ],
   "source": [
    "clue0529['data'][0]"
   ]
  },
  {
   "cell_type": "code",
   "execution_count": 21,
   "id": "05a647a3-f441-4da4-987b-1ad356d819f5",
   "metadata": {},
   "outputs": [
    {
     "data": {
      "text/plain": [
       "dict_keys(['creator', 'version', 'data'])"
      ]
     },
     "execution_count": 21,
     "metadata": {},
     "output_type": "execute_result"
    }
   ],
   "source": [
    "noanswer.keys()"
   ]
  },
  {
   "cell_type": "code",
   "execution_count": 22,
   "id": "f5e1c4ab-1c9b-46c7-8486-bf15351347d9",
   "metadata": {},
   "outputs": [
    {
     "data": {
      "text/plain": [
       "20030"
      ]
     },
     "execution_count": 22,
     "metadata": {},
     "output_type": "execute_result"
    }
   ],
   "source": [
    "len(noanswer['data'])"
   ]
  },
  {
   "cell_type": "code",
   "execution_count": 23,
   "id": "80ae03fa-b390-4289-bdcb-195225028861",
   "metadata": {},
   "outputs": [
    {
     "data": {
      "text/plain": [
       "{'source': 2,\n",
       " 'title': '2654.txt',\n",
       " 'paragraphs': [{'qas': [{'classtype': 'work_who',\n",
       "     'id': 'm3_253409-1',\n",
       "     'question': '제너시스비비큐의 대표이사는 누구야?'},\n",
       "    {'classtype': 'work_when',\n",
       "     'id': 'm3_253410-1',\n",
       "     'question': '제너시스 비비큐의 창립일은 언제야?'},\n",
       "    {'classtype': 'work_where',\n",
       "     'id': 'm3_253411-1',\n",
       "     'question': '공정거래위원회는 어디에 사무실이 위치해있어?'},\n",
       "    {'classtype': 'work_how',\n",
       "     'id': 'm3_253412-1',\n",
       "     'question': '공정거래위원회가 제너시스비비큐에게 내린 시정명령은 어떤 내용이야?'},\n",
       "    {'classtype': 'work_how',\n",
       "     'id': 'm3_253413-1',\n",
       "     'question': '다른 회사는 상품권 발행비용 명목으로 수수료를 얼마씩 받고있어?'},\n",
       "    {'classtype': 'work_why',\n",
       "     'id': 'm3_253414-1',\n",
       "     'question': '왜 제너시스비비큐는 상품권 수령을 강요하면서까지 상품권 수수료를 챙기려고 했어?'}],\n",
       "   'context': '공정거래위원회는 상품권 발행비용 명목으로 고율의 발행수수료를 가맹점주에게 부담토록 한 제너시스비비큐(BBQ)에게 시정명령을 내렸다. 공정위에 따르면 제너시스비비큐는 2011년 9월부터 지난해 7월까지 가맹점이 소비자로부터 받은 상품권을 정산하면서 액면가의 10%를 발행수수료로 공제했다. 제너시스비비큐는 또 높은 수수료 부담을 피하기 위해 고객들로부터 상품권을 받지 않은 가맹점에는 가맹계약을 해지할 수 있다는 증명을 발송해 상품권 수령을 강요하기도 했다. 이를 통해 본사가 챙긴 상품권 수수료는 2020만원이었다. 제너시스비비큐는 2012년 8월 이후에도 상품권 수수료 10%를 공제해오다 지난 6월부터 수수료율을 3%로 낮췄다. 공정위는 \"가맹본부가 포인트나 상품권 비용을 동의나 정당한 근거없이 가맹점주에게 전가한 행위를 법 위반으로 조치함으로써 앞으로 유사한 사례가 재발되지 않도록 하는 효과가 있을 것으로 기대한다\"고 밝혔다.'}]}"
      ]
     },
     "execution_count": 23,
     "metadata": {},
     "output_type": "execute_result"
    }
   ],
   "source": [
    "noanswer['data'][0]"
   ]
  },
  {
   "cell_type": "code",
   "execution_count": 24,
   "id": "12c1edc1-6171-48eb-a576-59cfb7467a71",
   "metadata": {},
   "outputs": [
    {
     "data": {
      "text/plain": [
       "dict_keys(['creator', 'version', 'data'])"
      ]
     },
     "execution_count": 24,
     "metadata": {},
     "output_type": "execute_result"
    }
   ],
   "source": [
    "normal.keys()"
   ]
  },
  {
   "cell_type": "code",
   "execution_count": 25,
   "id": "c95fad92-5638-47ee-b4e0-71cb6683c6ca",
   "metadata": {},
   "outputs": [
    {
     "data": {
      "text/plain": [
       "47314"
      ]
     },
     "execution_count": 25,
     "metadata": {},
     "output_type": "execute_result"
    }
   ],
   "source": [
    "len(normal['data'])"
   ]
  },
  {
   "cell_type": "code",
   "execution_count": 145,
   "id": "05453e7b-fbe1-47c3-82d7-58f37eed7479",
   "metadata": {},
   "outputs": [],
   "source": [
    "# http://zeany.net/46\n",
    "def preprocess_context(example):\n",
    "    body = re.sub('<title.*?>.*?</title>', '', example, 0, re.I|re.S)\n",
    "    body = re.sub('<table.*?>.*?</table>', '', body, 0, re.I|re.S)\n",
    "    body = re.sub('<td.*?>.*?</td>', '', body, 0, re.I|re.S)\n",
    "    body = re.sub('<li.*?>.*?</li>', '', body, 0, re.I|re.S)\n",
    "    body = re.sub('<ol.*?>.*?</ol>', '', body, 0, re.I|re.S)\n",
    "    text = re.sub('<.+?>', '', body, 0, re.I|re.S)\n",
    "    text = re.sub('\\[[0-9]+\\]', ' ', text, 0, re.I|re.S)\n",
    "    text = text.replace(\"[원본 편집]\",\"\")\n",
    "    text = text.replace(\"[편집]\",\"\")\n",
    "    text = text.replace(\"\\\\'\",\"\")\n",
    "    text = text.replace(\"펼치기\",\"\")\n",
    "    text = text.replace(\"버튼 클릭\",\"\")\n",
    "    text = text.split(\"같이 보기\")[0]\n",
    "    text = text.split(\"참고 자료\")[0]\n",
    "    text = text.split(\"외부 링크\")[0]\n",
    "    text = text.split(\"원본 주소\")[0]\n",
    "    text = text.split(\"각주\")[0]\n",
    "    text = text.split(\"참고 문헌\")[0]\n",
    "    text = text.split(\"함께 보기\")[0]\n",
    "    text = text.split(\"관련 서적\")[0]\n",
    "    text = text.split(\"관련 항목\")[0]\n",
    "    space = re.sub('&nbsp;|&lt;|&gt;|&quot;|\\t|\\r|\\n|\\xa0|\\u200b', ' ', text)\n",
    "    one_space = re.sub(' +', ' ', space)\n",
    "    if '@' in one_space:\n",
    "        one_space = \".\".join(one_space.split('.')[:-(['@'in c for c in one_space.split('.')[::-1]].index(True)+1)])+\".\"\n",
    "    if one_space[::-1].find('.') == -1:\n",
    "        return one_space\n",
    "    if (one_space[::-1].find('.') != 0)|(one_space[::-1].find('.') != ')'):\n",
    "        last_comma = one_space[:-(one_space[::-1].find('.'))]\n",
    "        return last_comma\n",
    "    return one_space"
   ]
  },
  {
   "cell_type": "code",
   "execution_count": 146,
   "id": "c1b275a8-f083-4ffd-b7ca-37a00017a07c",
   "metadata": {},
   "outputs": [],
   "source": [
    "# http://zeany.net/46\n",
    "def preprocess_answer(example):\n",
    "    body = re.sub('<title.*?>.*?</title>', '', example, 0, re.I|re.S)\n",
    "    body = re.sub('<table.*?>.*?</table>', '', body, 0, re.I|re.S)\n",
    "    body = re.sub('<td.*?>.*?</td>', '', body, 0, re.I|re.S)\n",
    "    body = re.sub('<li.*?>.*?</li>', '', body, 0, re.I|re.S)\n",
    "    body = re.sub('<ol.*?>.*?</ol>', '', body, 0, re.I|re.S)\n",
    "    text = re.sub('<.+?>', '', body, 0, re.I|re.S)\n",
    "    text = re.sub('\\[[0-9]+\\]', ' ', text, 0, re.I|re.S)\n",
    "    text = text.replace(\"[원본 편집]\",\"\")\n",
    "    text = text.replace(\"[편집]\",\"\")\n",
    "    text = text.replace(\"\\\\'\",\"\")\n",
    "    text = text.replace(\"펼치기\",\"\")\n",
    "    text = text.replace(\"버튼 클릭\",\"\")\n",
    "    text = text.split(\"같이 보기\")[0]\n",
    "    text = text.split(\"참고 자료\")[0]\n",
    "    text = text.split(\"외부 링크\")[0]\n",
    "    text = text.split(\"원본 주소\")[0]\n",
    "    text = text.split(\"각주\")[0]\n",
    "    text = text.split(\"참고 문헌\")[0]\n",
    "    text = text.split(\"함께 보기\")[0]\n",
    "    text = text.split(\"관련 서적\")[0]\n",
    "    text = text.split(\"관련 항목\")[0]\n",
    "    space = re.sub('&nbsp;|&lt;|&gt;|&quot;|\\t|\\r|\\n|\\xa0|\\u200b', ' ', text)\n",
    "    one_space = re.sub(' +', ' ', space)\n",
    "    return one_space"
   ]
  },
  {
   "cell_type": "code",
   "execution_count": 147,
   "id": "a3341301-0bf3-4339-9fca-6c68bf0e88f8",
   "metadata": {},
   "outputs": [],
   "source": [
    "import json\n",
    "whole_list = []\n",
    "train_dict = {}\n",
    "answer_dict = {}\n",
    "c = 0\n",
    "with open('/opt/ml/input/data/ai_hub/ko_nia_normal_squad_all.json','r') as f:\n",
    "    train_data = json.load(f)\n",
    "    for i in range(len(train_data['data'])):\n",
    "        for j in range(len(train_data['data'][i]['paragraphs'][0]['qas'])):\n",
    "            answers = train_data['data'][i]['paragraphs'][0]['qas'][j]\n",
    "            answer_dict['answer_start'] = [len(preprocess_answer(train_data['data'][i]['paragraphs'][0]['context'][:answers['answers'][0]['answer_start']]).lstrip())]\n",
    "            answer_dict['text'] = [preprocess_answer(answers['answers'][0]['text']).strip()]\n",
    "            count_id = ('000000' + str(c))[-6:]\n",
    "            train_dict['title']=train_data['data'][i]['title']\n",
    "            train_dict['context']= preprocess_context(train_data['data'][i]['paragraphs'][0]['context']).strip()\n",
    "            train_dict['question']=answers['question']\n",
    "            train_dict['id']='aihub-{}'.format(count_id)\n",
    "            train_dict['answers']=answer_dict\n",
    "            train_dict['document_id']=int(answers['id'].split('_')[1].replace('-',''))\n",
    "            train_dict['__index_level_0__']=0\n",
    "            if len(answer_dict['text'][0])>0:\n",
    "                if (len(train_dict['context']) <= 2000)&(len(answer_dict['text']) <= 80):\n",
    "                    if len(train_dict['context']) > answer_dict['answer_start'][0]:\n",
    "                        if train_dict['context'][answer_dict['answer_start'][0]] != answer_dict['text'][0][0]:\n",
    "                            continue\n",
    "                        else:\n",
    "                            whole_list.append(train_dict)\n",
    "                    else:\n",
    "                        continue\n",
    "                else:\n",
    "                    continue\n",
    "            else:\n",
    "                continue\n",
    "            answer_dict={}\n",
    "            train_dict={}\n",
    "            c = c + 1"
   ]
  },
  {
   "cell_type": "code",
   "execution_count": 148,
   "id": "220025e7-c73b-46d4-97ac-be51454eb155",
   "metadata": {},
   "outputs": [
    {
     "data": {
      "text/plain": [
       "100210"
      ]
     },
     "execution_count": 148,
     "metadata": {},
     "output_type": "execute_result"
    }
   ],
   "source": [
    "len(whole_list)"
   ]
  },
  {
   "cell_type": "code",
   "execution_count": 149,
   "id": "76725451-0665-4126-a482-b90e54e932e6",
   "metadata": {},
   "outputs": [],
   "source": [
    "import random"
   ]
  },
  {
   "cell_type": "code",
   "execution_count": 150,
   "id": "2681aa47-aa2d-46de-921c-28243a6be094",
   "metadata": {},
   "outputs": [
    {
     "data": {
      "text/plain": [
       "{'title': '20180328000443000',\n",
       " 'context': '‘화 있을진저.’ 예수님께서 진노합니다. 단순한 화가 아니라 그 자리에서 돌이키라는 애틋한 호소입니다. 하나님의 분노에는 항상 사랑이 담겨 있습니다. 예수님께서 진노하는 대상은 소경된 인도자입니다(16절). 소경이란 눈먼 자가 아니라 영적 세계를 보지 못하는 자를 말합니다. 당시 대표적 영적 소경은 ‘사두개인’이었습니다. 사두개인은 유대 종교지도자였으나 부활을 믿지 않았습니다. 부활을 믿지 않는 이들은 모든 것을 세상의 기준으로 봅니다. 성전보다 성전의 금을 더 크게 보고(16절), 제단보다 제단 위 예물을 더 귀중하게 봅니다(18절). 성전 안에는 금이 많았습니다. 언약궤, 등대 등 성전의 여러 기구들은 모두 금으로 만들어졌습니다. 그러나 그 금이 거룩한 건 성전 안에 있기 때문입니다. 하지만 영적 소경은 성전 안의 금도 세상의 금과 같이 대했습니다. 제단 위의 예물도 그렇습니다. 제단 위에서 하나님께 드려질 때 소나 양은 거룩한 제물이 됩니다. 그러나 영적 소경은 제단보다 제물을 더 귀중하게 봤습니다. 왜냐하면 소나 양이 제단보다 더 재산 가치가 높았기 때문입니다. 금보다 성전이 더 크다는 것을 보지 못하고 예물보다 제단이 더 귀한 것을 못 보는 자들, 이들이 영적 소경입니다. 이런 사람들이 인도자가 돼 백성을 인도하는 것에 예수님께서는 진노했습니다. 오늘날 상황도 이와 같습니다. 영적 소경이 인도자가 돼 이끄는 성도는 성전이 아니라 금을 좇게 됩니다. 금전만능주의, 성공제일주의, 축복신앙, 번영신학 같은 거짓 가르침을 따르게 됩니다. 따라서 성도는 눈을 뜨고 영적 인도자가 소경인지 아닌지를 점검해야 합니다. 예수님의 진노는 교회 지도자뿐 아니라 성도 모두에게 주신 경고입니다(마 23:1). 그렇다면 성도들이 봐야 할 성전과 제단은 무엇을 의미할까요. 성전은 바로 예수 그리스도를 가리킵니다(히 9:11). 따라서 눈뜬 사람은 예수님을 통해 얻는 금보다 예수님을 바라봅니다. 예수 믿고 얼마나 부자 됐는지를 따지지 않고 예수님 자체를 바라봅니다. 또 성도에게 복을 주는 예수님께 감사하고 찬양합니다. 사도행전 3장의 베드로는 ‘눈뜬 인도자’의 대표적 사례입니다. 그는 앉은뱅이에게 ‘은과 금은 내게 없거니와 내게 있는 것으로 네게 주노니 곧 나사렛 예수 그리스도의 이름으로 걸으라’고 선포했습니다(행 3:6). 그러자 앉은뱅이는 일어나서 성전에 들어가 걸으며 하나님을 찬미합니다. 눈뜬 인도자는 성도를 눈뜨게 합니다. 앉은뱅이는 예수의 이름으로 얼마든지 성전에 들어가 하나님을 찬미할 수 있다는 것을 믿고 뛰어들어갑니다. 성전에 바칠 금은 없어도 예수의 이름이 있으면 지금 하나님을 만나 감사하고 찬양할 수 있습니다. 이것이 눈뜬 성도의 자세입니다. 여러분은 무엇으로 하나님 앞에 나아가 예배하십니까. 금입니까, 하나님께서 주신 예수 그리스도의 이름입니까. 우리는 하나님께 최고의 예물을 드리려 하지만 현실은 녹록지 않습니다. 성공보다 실패가 많고 기쁨보다 고통이 많습니다. 그러다 보니 하나님께 드릴 예물이 없다고 생각합니다. 그러나 어떤 예물이든 제단인 예수님의 십자가 위에 드릴 때, 하나님께서는 실패나 고통마저도 귀한 예물로 받아 주십니다. 또한 영적 인도자는 눈을 떠야 합니다. 그래야 성도를 눈뜨게 합니다. 눈뜬 성도는 하나님께 예물을 드릴 수 있는 자리가 예수님의 십자가임을 압니다. 하나님은 예수님의 십자가에 놓인 성도 여러분의 모든 것을 아름다운 예물로 받을 것입니다. 금보다 성전을, 예물보다 제단을 바라보는 눈뜬 성도가 되기를 바랍니다.',\n",
       " 'question': '예수님께서 진노하는 대상은 누구인가?',\n",
       " 'id': 'aihub-000000',\n",
       " 'answers': {'answer_start': [99], 'text': ['소경된 인도자']},\n",
       " 'document_id': 1499051,\n",
       " '__index_level_0__': 0}"
      ]
     },
     "execution_count": 150,
     "metadata": {},
     "output_type": "execute_result"
    }
   ],
   "source": [
    "whole_list[0]"
   ]
  },
  {
   "cell_type": "code",
   "execution_count": 95,
   "id": "bec9c26f-abc7-4ce2-9495-c9c3b0a93a41",
   "metadata": {},
   "outputs": [],
   "source": [
    "rand_idx=random.sample(range(0,len(whole_list)),len(whole_list)//10)"
   ]
  },
  {
   "cell_type": "code",
   "execution_count": 96,
   "id": "120bf8c1-6dd1-4d43-b909-ea1aa4d87282",
   "metadata": {},
   "outputs": [
    {
     "data": {
      "text/plain": [
       "14732"
      ]
     },
     "execution_count": 96,
     "metadata": {},
     "output_type": "execute_result"
    }
   ],
   "source": [
    "len(rand_idx)"
   ]
  },
  {
   "cell_type": "code",
   "execution_count": 97,
   "id": "76323a09-7b48-43c5-b534-70fb8c1407fd",
   "metadata": {},
   "outputs": [],
   "source": [
    "train_list=[]\n",
    "dev_list=[]"
   ]
  },
  {
   "cell_type": "code",
   "execution_count": 98,
   "id": "9421632e-3494-47b2-b082-e249d200ea1d",
   "metadata": {},
   "outputs": [],
   "source": [
    "for idx, w in enumerate(whole_list):\n",
    "    if idx not in rand_idx:\n",
    "        train_list.append(w)\n",
    "    else:\n",
    "        dev_list.append(w)"
   ]
  },
  {
   "cell_type": "code",
   "execution_count": 107,
   "id": "ab9d5cec-72f6-40fa-bb83-b89e2d0aa288",
   "metadata": {},
   "outputs": [],
   "source": [
    "train_10=[]\n",
    "dev_10=[]"
   ]
  },
  {
   "cell_type": "code",
   "execution_count": 108,
   "id": "3ad6b540-f75e-41e2-9407-c27dbc598167",
   "metadata": {},
   "outputs": [],
   "source": [
    "for idx, w in enumerate(whole_list):\n",
    "    if idx < 14732:\n",
    "        if idx not in rand_idx:\n",
    "            train_10.append(w)\n",
    "        else:\n",
    "            dev_10.append(w)"
   ]
  },
  {
   "cell_type": "code",
   "execution_count": 99,
   "id": "23679f15-950b-4c51-989e-85a4209b3f71",
   "metadata": {},
   "outputs": [
    {
     "data": {
      "text/plain": [
       "132588"
      ]
     },
     "execution_count": 99,
     "metadata": {},
     "output_type": "execute_result"
    }
   ],
   "source": [
    "len(train_list)"
   ]
  },
  {
   "cell_type": "code",
   "execution_count": 100,
   "id": "436da273-e17c-4f92-baaa-86ce4abf1430",
   "metadata": {},
   "outputs": [
    {
     "data": {
      "text/plain": [
       "14732"
      ]
     },
     "execution_count": 100,
     "metadata": {},
     "output_type": "execute_result"
    }
   ],
   "source": [
    "len(dev_list)"
   ]
  },
  {
   "cell_type": "code",
   "execution_count": null,
   "id": "cb3cd10b-e5f2-42d5-add1-60e467f792fe",
   "metadata": {},
   "outputs": [],
   "source": [
    "train_90=[]\n",
    "dev_90=[]\n",
    "for idx, w in enumerate(whole_list):\n",
    "    if idx >= 14732:\n",
    "        if idx not in rand_idx:\n",
    "            train_90.append(w)\n",
    "        else:\n",
    "            dev_90.append(w)"
   ]
  },
  {
   "cell_type": "code",
   "execution_count": 101,
   "id": "3bad1502-9d77-4a96-a4ff-02bd45d40d4e",
   "metadata": {},
   "outputs": [
    {
     "data": {
      "text/plain": [
       "{'title': '775',\n",
       " 'context': \"[헤럴드POP=고승아 기자]그룹 구구단 샐리가 리듬체조에서 실수했다.15일 방송된 MBC '설특집 2018 아이돌스타 육상 볼링 양궁 리듬체조 에어로빅 선수권대회(이하 아육대)'에서는 구구단 샐리가 리듬체조 종목에 출전한 모습이 그려졌다.이날 구구단 샐리는 리듬체조 종목에 처음 출전해 훌라후프로 무대를 꾸몄다. 그러나 연기 도중 훌라후프를 받지 못하는 등 실수를 해 안타까움을 자아냈다.응원을 하던 구구단 멤버들도 열심히 연습했던 샐리를 생각해 눈물을 흘렸다.popnews@heraldcorp.com- Copyrights ⓒ 헤럴드POP & heraldpop.\",\n",
       " 'question': '아육대에서 리듬체조에 출전한 구구단의 멤버는?',\n",
       " 'id': 'aihub-000000',\n",
       " 'answers': {'answer_start': [22], 'text': ['샐리']},\n",
       " 'document_id': 3067051,\n",
       " '__index_level_0__': 0}"
      ]
     },
     "execution_count": 101,
     "metadata": {},
     "output_type": "execute_result"
    }
   ],
   "source": [
    "whole_list[0]"
   ]
  },
  {
   "cell_type": "code",
   "execution_count": 102,
   "id": "25d8ea4d-f8a8-478a-96f6-c7506a7e9cd4",
   "metadata": {},
   "outputs": [
    {
     "data": {
      "text/plain": [
       "{'title': '775',\n",
       " 'context': \"[헤럴드POP=고승아 기자]그룹 구구단 샐리가 리듬체조에서 실수했다.15일 방송된 MBC '설특집 2018 아이돌스타 육상 볼링 양궁 리듬체조 에어로빅 선수권대회(이하 아육대)'에서는 구구단 샐리가 리듬체조 종목에 출전한 모습이 그려졌다.이날 구구단 샐리는 리듬체조 종목에 처음 출전해 훌라후프로 무대를 꾸몄다. 그러나 연기 도중 훌라후프를 받지 못하는 등 실수를 해 안타까움을 자아냈다.응원을 하던 구구단 멤버들도 열심히 연습했던 샐리를 생각해 눈물을 흘렸다.popnews@heraldcorp.com- Copyrights ⓒ 헤럴드POP & heraldpop.\",\n",
       " 'question': '아육대에서 리듬체조에 출전한 구구단의 멤버는?',\n",
       " 'id': 'aihub-000000',\n",
       " 'answers': {'answer_start': [22], 'text': ['샐리']},\n",
       " 'document_id': 3067051,\n",
       " '__index_level_0__': 0}"
      ]
     },
     "execution_count": 102,
     "metadata": {},
     "output_type": "execute_result"
    }
   ],
   "source": [
    "train_list[0]"
   ]
  },
  {
   "cell_type": "code",
   "execution_count": 103,
   "id": "8271087c-be2c-4901-b4d3-e4b10d5da8fb",
   "metadata": {},
   "outputs": [
    {
     "data": {
      "text/plain": [
       "{'title': '20180312182928000',\n",
       " 'context': '\"미국 정부의 철강 관세 부과 움직임과 관련해 우리 정부가 총력 대응하겠다는 뜻을 밝혔습니다. 수출 시장을 넓히기 위해 일본 등 11개 국가가 참여하는 자유무역 협정인 &환태평양경제동반자협정& 가입 여부도 상반기 안에 결정할 방침입니다. 김경진 기자의 보도입니다. [리포트] 김동연 경제부총리는 오늘 열린 대외경제장관회의에서, 미국의 철강 관세 부과 움직임과 관련해 정부가 할 수 있는 모든 것을 다 하겠다는 입장을 다시 강조했습니다. [김동연/경제부총리 : 미국의 관세 부과 조치에 대해서는 정부의 모든 가용 채널을 활용해서 총력 대응해 나갈 계획입니다.] 정부는 한국산 철강의 관세 면제 필요성을 적극 설득하기 위해 므누신 미 재무장관에게 서한을 보냈고, 다음 주 G20 재무장관 회의에서도 이 문제에 대해 협의할 예정입니다. 정부는 또 미국이 보호 무역 정책에 적극적으로 대응하는 동시에 수출 시장은 더 넓히기로 했습니다. 김 부총리는 신북방·신남방 정책을 구체화하고 중동과 중남미 시장도 적극 개척하겠다고 강조했습니다. [김동연/경제부총리 : 보다 근본적으로 우리 경제가 대외 통상 마찰에도 크게 흔들림이 없도록 경제 협력의 지평을 넓히기 위한 최선을 다해 나갈 계획입니다.] 정부는 일본이 주도하는 &환태평양경제동반자협정&, CPTPP가입 여부도 상반기 안에 결정하기로 했습니다. 환태평양경제동반자협정은 일본, 호주, 뉴질랜드, 캐나다 등 11개국이 참가하는 자유무역협정으로, 해당국들은 지난 8일 협정에 정식 서명했습니다. 정부는 또 6주년을 맞는 한미FTA와 관련해선 국익 최우선의 원칙 아래 균형된 결과가 나오도록 개정 협상에 임하기로 했습니다. KBS 뉴스 김경진입니다.',\n",
       " 'question': '미국의 관세 부과 조치에 대해서 정부는 어떻게 대응 할 계획인가?',\n",
       " 'id': 'aihub-000028',\n",
       " 'answers': {'answer_start': [276],\n",
       "  'text': ['정부의 모든 가용 채널을 활용해서 총력 대응해 나갈 계획입니다.']},\n",
       " 'document_id': 2210691,\n",
       " '__index_level_0__': 0}"
      ]
     },
     "execution_count": 103,
     "metadata": {},
     "output_type": "execute_result"
    }
   ],
   "source": [
    "dev_list[0]"
   ]
  },
  {
   "cell_type": "code",
   "execution_count": 109,
   "id": "2efdcf28-d690-4488-9587-5cc286004c2a",
   "metadata": {},
   "outputs": [
    {
     "data": {
      "text/plain": [
       "13219"
      ]
     },
     "execution_count": 109,
     "metadata": {},
     "output_type": "execute_result"
    }
   ],
   "source": [
    "len(train_10)"
   ]
  },
  {
   "cell_type": "code",
   "execution_count": 110,
   "id": "2dc31322-9fc9-4d20-a4f1-7b852445a7cf",
   "metadata": {},
   "outputs": [
    {
     "data": {
      "text/plain": [
       "1513"
      ]
     },
     "execution_count": 110,
     "metadata": {},
     "output_type": "execute_result"
    }
   ],
   "source": [
    "len(dev_10)"
   ]
  },
  {
   "cell_type": "code",
   "execution_count": 104,
   "id": "8ad1877f-8353-41a3-a182-e39bc05d475e",
   "metadata": {},
   "outputs": [],
   "source": [
    "with open('/opt/ml/input/data/ai_hub/aihub_data.json','w') as outfile:\n",
    "    json.dump(whole_list,outfile)"
   ]
  },
  {
   "cell_type": "code",
   "execution_count": 105,
   "id": "b26e7f36-c86b-435a-882b-59cb295dc2c0",
   "metadata": {},
   "outputs": [],
   "source": [
    "with open('/opt/ml/input/data/ai_hub/aihub_train_data.json','w') as outfile:\n",
    "    json.dump(train_list,outfile)"
   ]
  },
  {
   "cell_type": "code",
   "execution_count": 106,
   "id": "445c8575-678a-4665-8eb1-af469a115090",
   "metadata": {},
   "outputs": [],
   "source": [
    "with open('/opt/ml/input/data/ai_hub/aihub_validation_data.json','w') as outfile:\n",
    "    json.dump(dev_list,outfile)"
   ]
  },
  {
   "cell_type": "code",
   "execution_count": 111,
   "id": "34720f2f-5b7c-4085-8805-7590ebc977b6",
   "metadata": {},
   "outputs": [],
   "source": [
    "with open('/opt/ml/input/data/ai_hub/aihub_train_data10.json','w') as outfile:\n",
    "    json.dump(train_10,outfile)"
   ]
  },
  {
   "cell_type": "code",
   "execution_count": 112,
   "id": "76ff1367-6c22-4a79-94f8-1077fc029daf",
   "metadata": {},
   "outputs": [],
   "source": [
    "with open('/opt/ml/input/data/ai_hub/aihub_validation_data10.json','w') as outfile:\n",
    "    json.dump(dev_10,outfile)"
   ]
  },
  {
   "cell_type": "code",
   "execution_count": 113,
   "id": "e3420a79-3447-461e-b739-636e374704df",
   "metadata": {},
   "outputs": [],
   "source": [
    "with open('/opt/ml/input/data/ai_hub/aihub_train_data.json','r') as outfile:\n",
    "    tt= json.load(outfile)"
   ]
  }
 ],
 "metadata": {
  "kernelspec": {
   "display_name": "Python 3 (ipykernel)",
   "language": "python",
   "name": "python3"
  },
  "language_info": {
   "codemirror_mode": {
    "name": "ipython",
    "version": 3
   },
   "file_extension": ".py",
   "mimetype": "text/x-python",
   "name": "python",
   "nbconvert_exporter": "python",
   "pygments_lexer": "ipython3",
   "version": "3.8.5"
  }
 },
 "nbformat": 4,
 "nbformat_minor": 5
}
